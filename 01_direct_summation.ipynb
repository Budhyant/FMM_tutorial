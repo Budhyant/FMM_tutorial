{
 "metadata": {
  "name": "",
  "signature": "sha256:ada3059ad89eb371ecb9887ad3d1abdefca3c52cfc97f9ad999de7d4c8852852"
 },
 "nbformat": 3,
 "nbformat_minor": 0,
 "worksheets": [
  {
   "cells": [
    {
     "cell_type": "code",
     "collapsed": false,
     "input": [
      "from IPython.core.display import HTML\n",
      "def css_styling():\n",
      "    styles = open('./style/fmmstyle.css', 'r').read()\n",
      "    return HTML(styles)\n",
      "css_styling()"
     ],
     "language": "python",
     "metadata": {},
     "outputs": [
      {
       "html": [
        "<link href='http://fonts.googleapis.com/css?family=Alegreya+Sans:100,300,400,500,700,800,900,100italic,300italic,400italic,500italic,700italic,800italic,900italic' rel='stylesheet' type='text/css'>\n",
        "<link href='http://fonts.googleapis.com/css?family=Arvo:400,700,400italic' rel='stylesheet' type='text/css'>\n",
        "<link href='http://fonts.googleapis.com/css?family=PT+Mono' rel='stylesheet' type='text/css'>\n",
        "<link href='http://fonts.googleapis.com/css?family=Shadows+Into+Light' rel='stylesheet' type='text/css'>\n",
        "<link href='http://fonts.googleapis.com/css?family=Nixie+One' rel='stylesheet' type='text/css'>\n",
        "<style>\n",
        "\n",
        "@font-face {\n",
        "    font-family: \"Computer Modern\";\n",
        "    src: url('http://mirrors.ctan.org/fonts/cm-unicode/fonts/otf/cmunss.otf');\n",
        "}\n",
        "\n",
        "#notebook_panel { /* main background */\n",
        "    background: rgb(245,245,245);\n",
        "}\n",
        "\n",
        "div.cell { /* set cell width */\n",
        "    width: 810px;\n",
        "}\n",
        "\n",
        "div #notebook { /* centre the content */\n",
        "    background: #fff; /* white background for content */\n",
        "    width: 1000px;\n",
        "    margin: auto;\n",
        "    padding-left: 0em;\n",
        "}\n",
        "\n",
        "#notebook li { /* More space between bullet points */\n",
        "margin-top:0.8em;\n",
        "}\n",
        "\n",
        "/* draw border around running cells */\n",
        "div.cell.border-box-sizing.code_cell.running { \n",
        "    border: 1px solid #111;\n",
        "}\n",
        "\n",
        "/* Put a solid color box around each cell and its output, visually linking them*/\n",
        "div.cell.code_cell {\n",
        "    background-color: rgb(256,256,256); \n",
        "    border-radius: 0px; \n",
        "    padding: 0.5em;\n",
        "    margin-left:1em;\n",
        "    margin-top: 1em;\n",
        "}\n",
        "\n",
        "div.text_cell_render{\n",
        "    font-family: 'Alegreya Sans' sans-serif;\n",
        "    line-height: 140%;\n",
        "    font-size: 125%;\n",
        "    font-weight: 400;\n",
        "    width:600px;\n",
        "    margin-left:auto;\n",
        "    margin-right:auto;\n",
        "}\n",
        "\n",
        "\n",
        "/* Formatting for header cells */\n",
        ".text_cell_render h1 {\n",
        "    font-family: 'Nixie One', serif;\n",
        "    font-style:regular;\n",
        "    font-weight: 400;    \n",
        "    font-size: 45pt;\n",
        "    line-height: 100%;\n",
        "    color: rgb(0,51,102);\n",
        "    margin-bottom: 0.5em;\n",
        "    margin-top: 0.5em;\n",
        "    display: block;\n",
        "}\t\n",
        ".text_cell_render h2 {\n",
        "    font-family: 'Nixie One', serif;\n",
        "    font-weight: 400;\n",
        "    font-size: 30pt;\n",
        "    line-height: 100%;\n",
        "    color: rgb(0,51,102);\n",
        "    margin-bottom: 0.1em;\n",
        "    margin-top: 0.3em;\n",
        "    display: block;\n",
        "}\t\n",
        "\n",
        ".text_cell_render h3 {\n",
        "    font-family: 'Nixie One', serif;\n",
        "    margin-top:16px;\n",
        "\tfont-size: 22pt;\n",
        "    font-weight: 600;\n",
        "    margin-bottom: 3px;\n",
        "    font-style: regular;\n",
        "    color: rgb(102,102,0);\n",
        "}\n",
        "\n",
        ".text_cell_render h4 {    /*Use this for captions*/\n",
        "    font-family: 'Nixie One', serif;\n",
        "    font-size: 14pt;\n",
        "    text-align: center;\n",
        "    margin-top: 0em;\n",
        "    margin-bottom: 2em;\n",
        "    font-style: regular;\n",
        "}\n",
        "\n",
        ".text_cell_render h5 {  /*Use this for small titles*/\n",
        "    font-family: 'Nixie One', sans-serif;\n",
        "    font-weight: 400;\n",
        "    font-size: 16pt;\n",
        "    color: rgb(163,0,0);\n",
        "    font-style: italic;\n",
        "    margin-bottom: .1em;\n",
        "    margin-top: 0.8em;\n",
        "    display: block;\n",
        "}\n",
        "\n",
        ".text_cell_render h6 { /*use this for copyright note*/\n",
        "    font-family: 'PT Mono', sans-serif;\n",
        "    font-weight: 300;\n",
        "    font-size: 9pt;\n",
        "    line-height: 100%;\n",
        "    color: grey;\n",
        "    margin-bottom: 1px;\n",
        "    margin-top: 1px;\n",
        "}\n",
        "\n",
        ".CodeMirror{\n",
        "        font-family: \"PT Mono\";\n",
        "        font-size: 90%;\n",
        "}\n",
        "\n",
        "</style>\n",
        "<script>\n",
        "    MathJax.Hub.Config({\n",
        "                        TeX: {\n",
        "                           extensions: [\"AMSmath.js\"],\n",
        "                           equationNumbers: { autoNumber: \"AMS\", useLabelIds: true}\n",
        "                           },\n",
        "                tex2jax: {\n",
        "                    inlineMath: [ ['$','$'], [\"\\\\(\",\"\\\\)\"] ],\n",
        "                    displayMath: [ ['$$','$$'], [\"\\\\[\",\"\\\\]\"] ]\n",
        "                },\n",
        "                displayAlign: 'center', // Change this to 'center' to center equations.\n",
        "                \"HTML-CSS\": {\n",
        "                    styles: {'.MathJax_Display': {\"margin\": 4}}\n",
        "                }\n",
        "        });\n",
        "</script>\n"
       ],
       "metadata": {},
       "output_type": "pyout",
       "prompt_number": 1,
       "text": [
        "<IPython.core.display.HTML at 0x1043ab550>"
       ]
      }
     ],
     "prompt_number": 1
    },
    {
     "cell_type": "markdown",
     "metadata": {},
     "source": [
      "##Step 1: Direct Summation"
     ]
    },
    {
     "cell_type": "code",
     "collapsed": false,
     "input": [
      "import numpy\n",
      "import random\n",
      "import time\n",
      "import matplotlib.pyplot as plt\n",
      "from mpl_toolkits.mplot3d import Axes3D\n",
      "%matplotlib inline"
     ],
     "language": "python",
     "metadata": {},
     "outputs": [],
     "prompt_number": 20
    },
    {
     "cell_type": "markdown",
     "metadata": {},
     "source": [
      "Many physical problems require the evaluation of all pairwise interactions of a large number of particles, and we usually call them N-body problems. A direct simulation of the N-body problem cost $\\mathcal{O} \\left(N^2 \\right)$ operations. In this tutorial, a treecode algorithm is demonstated to reduce the computation cost to $\\mathcal{O} \\left( N\\log N \\right)$ on a gravitational N-body problem.\n",
      "In the first Ipython Notebook, we will use the most straightforward way to calculate the gravitational field at each point. \n",
      "\n",
      "To begin with, let's generate a random location for each particle in the domain $x$, $y$, $z$ $\\in$ $\\left[ 0, 1 \\right]$. Here we also assume that every particle has the same mass with a sum of 1. "
     ]
    },
    {
     "cell_type": "code",
     "collapsed": false,
     "input": [
      "N = 100                       # number of particles\n",
      "x = numpy.zeros(N)            # initialize the coordinates mass & potential array\n",
      "y = numpy.zeros(N)\n",
      "z = numpy.zeros(N)\n",
      "m = numpy.zeros(N)\n",
      "phi = numpy.zeros(N)\n",
      "for i in range(N):\n",
      "    x[i] = random.random()    # generate the coordinates\n",
      "    y[i] = random.random()\n",
      "    z[i] = random.random()\n",
      "    m[i] = 1.0/N              # generate the mass array"
     ],
     "language": "python",
     "metadata": {},
     "outputs": [],
     "prompt_number": 21
    },
    {
     "cell_type": "markdown",
     "metadata": {},
     "source": [
      "The spatial distribution of particles should look like this."
     ]
    },
    {
     "cell_type": "code",
     "collapsed": false,
     "input": [
      "ax = Axes3D(plt.figure())\n",
      "ax.set_xlim(0,1)\n",
      "ax.set_ylim(0,1)\n",
      "ax.set_zlim(0,1)\n",
      "ax.scatter(x,y,z);"
     ],
     "language": "python",
     "metadata": {},
     "outputs": [
      {
       "metadata": {},
       "output_type": "display_data",
       "png": "[encoded data removed]",
       "text": [
        "<matplotlib.figure.Figure at 0x10645c490>"
       ]
      }
     ],
     "prompt_number": 22
    },
    {
     "cell_type": "markdown",
     "metadata": {},
     "source": [
      "Direction summation is the closest implementation to a physical problem, where each particle can \"feel\" the gravitational force due to others in the system. Therefore, the number of interactions scales as $\\mathcal{O} \\left(N^2 \\right)$. The potential at a target point $i$ in the gravitational field can be expressed as:\n",
      "\n",
      "$$\\begin{equation}\n",
      "\\Phi_i = \\sum_{\\substack{j=0\\\\ j \\neq i}}^N{\\frac{m_j}{r_{ij}}}\n",
      "\\end{equation}$$\n",
      "\n",
      "where $m_j$ denotes the mass of source point $j$, and $r_{ij}$ is the distance between target point $i$ and source point $j$.\n",
      "\n",
      "To avoid zero division when $i=j$ and $r_{ij} = 0$, we add an $\\epsilon = 0.001$ term to the distance $r$. Then we offset this term by adding a negative value to the potential at target point $i$."
     ]
    },
    {
     "cell_type": "code",
     "collapsed": false,
     "input": [
      "# direct summation\n",
      "def direct_sum(N, x, y, z, m):\n",
      "    epsilon = 0.001               # avoid zero division\n",
      "    for i in range(N):\n",
      "        phi[i] = -m[i]/epsilon    # offset the additional term\n",
      "        for j in range(N):\n",
      "            dx = x[i] - x[j]\n",
      "            dy = y[i] - y[j]\n",
      "            dz = z[i] - z[j]\n",
      "            r = numpy.sqrt(dx**2 + dy**2 + dz**2 + epsilon**2)\n",
      "            phi[i] += m[j]/r\n",
      "    return phi"
     ],
     "language": "python",
     "metadata": {},
     "outputs": [],
     "prompt_number": 23
    },
    {
     "cell_type": "code",
     "collapsed": false,
     "input": [
      "t1 = time.clock()\n",
      "phi_direct = direct_sum(N, x, y, z, m)\n",
      "t2 = time.clock()\n",
      "\n",
      "print phi_direct\n",
      "print '\\nDirect Summation of {} particles takes {}s.'.format(N, t2-t1)"
     ],
     "language": "python",
     "metadata": {},
     "outputs": [
      {
       "output_type": "stream",
       "stream": "stdout",
       "text": [
        "[ 2.11451895  2.319391    1.78554158  1.6576606   1.30510093  1.78496235\n",
        "  1.54440681  1.60941848  1.84755234  1.6414542   1.44497589  1.58057178\n",
        "  2.02795517  2.07433906  1.55373398  1.83552821  1.73855488  2.10299617\n",
        "  1.85463509  1.65805877  1.54384345  1.68260078  2.05083606  1.61391147\n",
        "  2.10643074  1.76965879  2.17160953  2.01754623  2.27343531  2.07262576\n",
        "  1.56217832  1.76473728  1.92205562  1.88827956  1.60766316  2.07590842\n",
        "  1.44355034  1.30006228  1.95973822  2.04193681  1.67046447  1.83605694\n",
        "  1.63752074  1.50336901  2.02668062  1.96049988  2.05176507  1.63399849\n",
        "  1.82197276  2.12839581  2.14327272  1.64882779  1.47639454  1.66902541\n",
        "  2.11703464  1.72463716  1.82377935  1.71309022  1.80303196  1.58308667\n",
        "  1.89943342  2.15874451  1.62037367  2.08772212  2.11183739  1.79699537\n",
        "  2.10330507  2.00142321  1.70460056  1.33759336  1.57951614  2.15632287\n",
        "  1.86041626  2.21019236  1.84679915  1.73447618  1.68243154  2.29039255\n",
        "  1.67912827  2.14422772  1.91914667  2.05109357  1.94602226  1.99580127\n",
        "  1.54360375  2.10098277  1.81724935  1.49587658  2.00994483  1.83962191\n",
        "  1.78754941  1.83228271  2.02000245  1.58952407  1.85475039  2.1800525\n",
        "  1.88148647  1.75111409  1.62322899  2.21091022]\n",
        "\n",
        "Direct Summation of 100 particles takes 0.069337s.\n"
       ]
      }
     ],
     "prompt_number": 24
    },
    {
     "cell_type": "markdown",
     "metadata": {},
     "source": [
      "The output is an array of the gravitational potential at each target point. Later we will use the direct summation result as the theoretical solution when compared to the result of using multipole expansion and the final treecode. Then the computation time of direct summation and treecode will be compared."
     ]
    }
   ],
   "metadata": {}
  }
 ]
}