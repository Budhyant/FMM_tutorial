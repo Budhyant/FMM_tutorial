{
 "metadata": {
  "name": "",
  "signature": "sha256:40f9b1fc3fd10883974368d478939764997f275cc552eef655121ed581ce9620"
 },
 "nbformat": 3,
 "nbformat_minor": 0,
 "worksheets": [
  {
   "cells": [
    {
     "cell_type": "markdown",
     "metadata": {},
     "source": [
      "Many physical problems in the world require the evaluation of all pairwise interactions of a large number of particles, and we usually call them N-body problems. A direct simulation of the N-body problem cost $O(N^2)$ operations. In this tutorial, a treecode algorithm is demonstated to reduce the computation cost to $O(N\\log N)$ on a gravitational N-body problem."
     ]
    },
    {
     "cell_type": "markdown",
     "metadata": {},
     "source": [
      "###Step 1: *direct summation*\n",
      "The potential at a target point $i$ in the gravitational field can be expressed as:\n",
      "$$\\begin{equation}\n",
      "\\Phi_i = \\sum_{\\substack{j=0\\\\ j \\neq i}}^N{\\frac{m_j}{r_{ij}}}\n",
      "\\end{equation}$$\n",
      "where $m_j$ denotes the mass of source point $j$, and $r_{ij} = \\sqrt{(x_i-x_j)^2+(y_i-y_j)^2+(z_i-z_j)^2}$."
     ]
    },
    {
     "cell_type": "code",
     "collapsed": false,
     "input": [
      "import numpy\n",
      "import random\n",
      "N = 10     # number of particles\n",
      "RAND_MAX = 100.0     # Set the limit of randomly generated number\n",
      "\n",
      "# initialize\n",
      "x = numpy.zeros(N)\n",
      "y = numpy.zeros(N)\n",
      "z = numpy.zeros(N)\n",
      "m = numpy.zeros(N)\n",
      "phi = numpy.zeros(N)\n",
      "for i in range(N):\n",
      "    x[i] = random.uniform(0,RAND_MAX)/RAND_MAX     # coordinate domain from 0 to 1\n",
      "    y[i] = random.uniform(0,RAND_MAX)/RAND_MAX\n",
      "    z[i] = random.uniform(0,RAND_MAX)/RAND_MAX\n",
      "    m[i] = 1.0/N     # assuming mass\n",
      "\n",
      "# direct summation\n",
      "epsilon = 0.001     # avoid zero division\n",
      "for i in range(N):\n",
      "    phi[i] = -m[i]/epsilon\n",
      "    for j in range(N):\n",
      "        dx = x[i] - x[j]\n",
      "        dy = y[i] - y[j]\n",
      "        dz = z[i] - z[j]\n",
      "        r = numpy.sqrt(dx**2 + dy**2 + dz**2 + epsilon**2)\n",
      "        phi[i] = phi[i] + m[j]/r"
     ],
     "language": "python",
     "metadata": {},
     "outputs": [],
     "prompt_number": 7
    }
   ],
   "metadata": {}
  }
 ]
}