{
 "metadata": {
  "name": "",
  "signature": "sha256:58217ad0fdcd555982faa6f99513d350a6b93ba1211748e1489830be054bec3f"
 },
 "nbformat": 3,
 "nbformat_minor": 0,
 "worksheets": [
  {
   "cells": [
    {
     "cell_type": "code",
     "collapsed": false,
     "input": [
      "from IPython.core.display import HTML\n",
      "def css_styling():\n",
      "    styles = open('./style/fmmstyle.css', 'r').read()\n",
      "    return HTML(styles)\n",
      "css_styling()"
     ],
     "language": "python",
     "metadata": {},
     "outputs": [
      {
       "html": [
        "<link href='http://fonts.googleapis.com/css?family=Alegreya+Sans:100,300,400,500,700,800,900,100italic,300italic,400italic,500italic,700italic,800italic,900italic' rel='stylesheet' type='text/css'>\n",
        "<link href='http://fonts.googleapis.com/css?family=Arvo:400,700,400italic' rel='stylesheet' type='text/css'>\n",
        "<link href='http://fonts.googleapis.com/css?family=PT+Mono' rel='stylesheet' type='text/css'>\n",
        "<link href='http://fonts.googleapis.com/css?family=Shadows+Into+Light' rel='stylesheet' type='text/css'>\n",
        "<link href='http://fonts.googleapis.com/css?family=Nixie+One' rel='stylesheet' type='text/css'>\n",
        "<style>\n",
        "\n",
        "@font-face {\n",
        "    font-family: \"Computer Modern\";\n",
        "    src: url('http://mirrors.ctan.org/fonts/cm-unicode/fonts/otf/cmunss.otf');\n",
        "}\n",
        "\n",
        "#notebook_panel { /* main background */\n",
        "    background: rgb(245,245,245);\n",
        "}\n",
        "\n",
        "div.cell { /* set cell width */\n",
        "    width: 810px;\n",
        "}\n",
        "\n",
        "div #notebook { /* centre the content */\n",
        "    background: #fff; /* white background for content */\n",
        "    width: 1000px;\n",
        "    margin: auto;\n",
        "    padding-left: 0em;\n",
        "}\n",
        "\n",
        "#notebook li { /* More space between bullet points */\n",
        "margin-top:0.8em;\n",
        "}\n",
        "\n",
        "/* draw border around running cells */\n",
        "div.cell.border-box-sizing.code_cell.running { \n",
        "    border: 1px solid #111;\n",
        "}\n",
        "\n",
        "/* Put a solid color box around each cell and its output, visually linking them*/\n",
        "div.cell.code_cell {\n",
        "    background-color: rgb(256,256,256); \n",
        "    border-radius: 0px; \n",
        "    padding: 0.5em;\n",
        "    margin-left:1em;\n",
        "    margin-top: 1em;\n",
        "}\n",
        "\n",
        "div.text_cell_render{\n",
        "    font-family: 'Alegreya Sans' sans-serif;\n",
        "    line-height: 140%;\n",
        "    font-size: 125%;\n",
        "    font-weight: 400;\n",
        "    width:600px;\n",
        "    margin-left:auto;\n",
        "    margin-right:auto;\n",
        "}\n",
        "\n",
        "\n",
        "/* Formatting for header cells */\n",
        ".text_cell_render h1 {\n",
        "    font-family: 'Nixie One', serif;\n",
        "    font-style:regular;\n",
        "    font-weight: 400;    \n",
        "    font-size: 45pt;\n",
        "    line-height: 100%;\n",
        "    color: rgb(0,51,102);\n",
        "    margin-bottom: 0.5em;\n",
        "    margin-top: 0.5em;\n",
        "    display: block;\n",
        "}\t\n",
        ".text_cell_render h2 {\n",
        "    font-family: 'Nixie One', serif;\n",
        "    font-weight: 400;\n",
        "    font-size: 30pt;\n",
        "    line-height: 100%;\n",
        "    color: rgb(0,51,102);\n",
        "    margin-bottom: 0.1em;\n",
        "    margin-top: 0.3em;\n",
        "    display: block;\n",
        "}\t\n",
        "\n",
        ".text_cell_render h3 {\n",
        "    font-family: 'Nixie One', serif;\n",
        "    margin-top:16px;\n",
        "\tfont-size: 22pt;\n",
        "    font-weight: 600;\n",
        "    margin-bottom: 3px;\n",
        "    font-style: regular;\n",
        "    color: rgb(102,102,0);\n",
        "}\n",
        "\n",
        ".text_cell_render h4 {    /*Use this for captions*/\n",
        "    font-family: 'Nixie One', serif;\n",
        "    font-size: 14pt;\n",
        "    text-align: center;\n",
        "    margin-top: 0em;\n",
        "    margin-bottom: 2em;\n",
        "    font-style: regular;\n",
        "}\n",
        "\n",
        ".text_cell_render h5 {  /*Use this for small titles*/\n",
        "    font-family: 'Nixie One', sans-serif;\n",
        "    font-weight: 400;\n",
        "    font-size: 16pt;\n",
        "    color: rgb(163,0,0);\n",
        "    font-style: italic;\n",
        "    margin-bottom: .1em;\n",
        "    margin-top: 0.8em;\n",
        "    display: block;\n",
        "}\n",
        "\n",
        ".text_cell_render h6 { /*use this for copyright note*/\n",
        "    font-family: 'PT Mono', sans-serif;\n",
        "    font-weight: 300;\n",
        "    font-size: 9pt;\n",
        "    line-height: 100%;\n",
        "    color: grey;\n",
        "    margin-bottom: 1px;\n",
        "    margin-top: 1px;\n",
        "}\n",
        "\n",
        ".CodeMirror{\n",
        "        font-family: \"PT Mono\";\n",
        "        font-size: 90%;\n",
        "}\n",
        "\n",
        "</style>\n",
        "<script>\n",
        "    MathJax.Hub.Config({\n",
        "                        TeX: {\n",
        "                           extensions: [\"AMSmath.js\"],\n",
        "                           equationNumbers: { autoNumber: \"AMS\", useLabelIds: true}\n",
        "                           },\n",
        "                tex2jax: {\n",
        "                    inlineMath: [ ['$','$'], [\"\\\\(\",\"\\\\)\"] ],\n",
        "                    displayMath: [ ['$$','$$'], [\"\\\\[\",\"\\\\]\"] ]\n",
        "                },\n",
        "                displayAlign: 'center', // Change this to 'center' to center equations.\n",
        "                \"HTML-CSS\": {\n",
        "                    styles: {'.MathJax_Display': {\"margin\": 4}}\n",
        "                }\n",
        "        });\n",
        "</script>\n"
       ],
       "metadata": {},
       "output_type": "pyout",
       "prompt_number": 1,
       "text": [
        "<IPython.core.display.HTML at 0x1038336d0>"
       ]
      }
     ],
     "prompt_number": 1
    },
    {
     "cell_type": "markdown",
     "metadata": {},
     "source": [
      "##Step 1: Direct Summation"
     ]
    },
    {
     "cell_type": "code",
     "collapsed": false,
     "input": [
      "import numpy\n",
      "import random\n",
      "import time\n",
      "import matplotlib.pyplot as plt\n",
      "from mpl_toolkits.mplot3d import Axes3D\n",
      "%matplotlib inline"
     ],
     "language": "python",
     "metadata": {},
     "outputs": [],
     "prompt_number": 2
    },
    {
     "cell_type": "markdown",
     "metadata": {},
     "source": [
      "Many physical problems require the evaluation of all pairwise interactions of a large number of particles, and we usually call them N-body problems. A direct simulation of the N-body problem cost $\\mathcal{O} \\left(N^2 \\right)$ operations. In this tutorial, a treecode algorithm is demonstated to reduce the computation cost to $\\mathcal{O} \\left( N\\log N \\right)$ on a gravitational N-body problem.\n",
      "In the first Ipython Notebook, we will use the most straightforward way to calculate the gravitational field at each point. \n",
      "\n",
      "To begin with, let's generate a random location for each particle in the domain $x$, $y$, $z$ $\\in$ $\\left[ 0, 1 \\right]$. Here we also assume that every particle has the same mass with a sum of 1. "
     ]
    },
    {
     "cell_type": "code",
     "collapsed": false,
     "input": [
      "N = 100                       # number of particles\n",
      "x = numpy.zeros(N)            # initialize the coordinates mass & potential array\n",
      "y = numpy.zeros(N)\n",
      "z = numpy.zeros(N)\n",
      "m = numpy.zeros(N)\n",
      "phi = numpy.zeros(N)\n",
      "for i in range(N):\n",
      "    x[i] = random.random()    # generate the coordinates\n",
      "    y[i] = random.random()\n",
      "    z[i] = random.random()\n",
      "    m[i] = 1.0/N              # generate the mass array"
     ],
     "language": "python",
     "metadata": {},
     "outputs": [],
     "prompt_number": 3
    },
    {
     "cell_type": "markdown",
     "metadata": {},
     "source": [
      "The spatial distribution of particles should look like this."
     ]
    },
    {
     "cell_type": "code",
     "collapsed": false,
     "input": [
      "ax = Axes3D(plt.figure())\n",
      "ax.set_xlim(0,1)\n",
      "ax.set_ylim(0,1)\n",
      "ax.set_zlim(0,1)\n",
      "ax.scatter(x,y,z);"
     ],
     "language": "python",
     "metadata": {},
     "outputs": [
      {
       "metadata": {},
       "output_type": "display_data",
       "png": "[encoded data removed]",
       "text": [
        "<matplotlib.figure.Figure at 0x1061a2910>"
       ]
      }
     ],
     "prompt_number": 4
    },
    {
     "cell_type": "markdown",
     "metadata": {},
     "source": [
      "Direction summation is the closest implementation to a physical problem, where each particle can \"feel\" the gravitational force due to others in the system. Therefore, the number of interactions scales as $\\mathcal{O} \\left(N^2 \\right)$. The potential at a target point $i$ in the gravitational field can be expressed as:\n",
      "\n",
      "$$\\begin{equation}\n",
      "\\Phi_i = \\sum_{\\substack{j=0\\\\ j \\neq i}}^N{\\frac{m_j}{r_{ij}}}\n",
      "\\end{equation}$$\n",
      "\n",
      "where $m_j$ denotes the mass of source point $j$, and $r_{ij}$ is the distance between target point $i$ and source point $j$.\n",
      "\n",
      "To avoid zero division when $i=j$ and $r_{ij} = 0$, we add an $\\epsilon = 0.001$ term to the distance $r$. Then we offset this term by adding a negative value to the potential at target point $i$."
     ]
    },
    {
     "cell_type": "code",
     "collapsed": false,
     "input": [
      "# direct summation\n",
      "def direct_sum(N, x, y, z, m):\n",
      "    epsilon = 0.001               # avoid zero division\n",
      "    for i in range(N):\n",
      "        phi[i] = -m[i]/epsilon    # offset the additional term\n",
      "        for j in range(N):\n",
      "            dx = x[i] - x[j]\n",
      "            dy = y[i] - y[j]\n",
      "            dz = z[i] - z[j]\n",
      "            r = numpy.sqrt(dx**2 + dy**2 + dz**2 + epsilon**2)\n",
      "            phi[i] += m[j]/r\n",
      "    return phi"
     ],
     "language": "python",
     "metadata": {},
     "outputs": [],
     "prompt_number": 5
    },
    {
     "cell_type": "code",
     "collapsed": false,
     "input": [
      "t1 = time.clock()\n",
      "phi_direct = direct_sum(N, x, y, z, m)\n",
      "t2 = time.clock()\n",
      "\n",
      "print phi_direct\n",
      "print '\\nDirect Summation of {} particles takes {}s.'.format(N, t2-t1)"
     ],
     "language": "python",
     "metadata": {},
     "outputs": [
      {
       "output_type": "stream",
       "stream": "stdout",
       "text": [
        "[ 1.62388324  2.21813539  1.7317578   2.17771665  1.45173156  2.23025176\n",
        "  2.13265769  1.84083005  2.13377037  1.69094282  2.0206259   2.03296532\n",
        "  1.86279095  1.88128993  1.76575402  1.73435456  1.9591746   1.44743849\n",
        "  2.21112154  1.85641519  1.76512695  2.1898158   1.9409024   2.18037005\n",
        "  1.8390825   2.10223013  1.96868542  1.71602934  1.77312263  1.82895899\n",
        "  2.24566724  1.75587967  2.27417474  1.92242776  1.97170436  2.11784646\n",
        "  1.70351767  1.47162836  2.05241829  1.51188363  1.82184543  1.92423924\n",
        "  1.89870961  1.67659076  2.32067353  1.73443529  2.20140513  1.77209694\n",
        "  2.16216158  1.45168193  2.30379427  2.69513597  2.16884821  2.34726996\n",
        "  1.41411795  1.54335646  1.70423044  1.71300119  1.90998035  1.99330988\n",
        "  1.70787552  1.5719204   1.41432132  1.78617535  2.18902899  2.19329786\n",
        "  1.80262555  1.45005144  1.95297998  1.75942241  1.98760256  1.1477622\n",
        "  1.6607876   2.20313999  1.8947008   1.72356101  2.27985029  1.89436451\n",
        "  1.86184225  2.23418121  2.26560994  1.66195171  1.45370106  1.82317997\n",
        "  1.78928563  2.70759735  2.16320815  1.34586994  2.16142125  1.64573704\n",
        "  2.13607984  2.25565487  2.13018619  1.65169902  1.52790377  1.84082966\n",
        "  1.65282002  1.76668675  2.1221888   1.94866922]\n",
        "\n",
        "Direct Summation of 100 particles takes 0.069982s.\n"
       ]
      }
     ],
     "prompt_number": 6
    },
    {
     "cell_type": "markdown",
     "metadata": {},
     "source": [
      "The output is an array of the gravitational potential at each target point. Later we will use the direct summation result as the theoretical solution when compared to the result of using multipole expansion and the final treecode. Then the computation time of direct summation and treecode will be compared."
     ]
    }
   ],
   "metadata": {}
  }
 ]
}