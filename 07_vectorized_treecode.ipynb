{
 "cells": [
  {
   "cell_type": "markdown",
   "metadata": {},
   "source": [
    "## Step 07: Vectorized Treecode"
   ]
  },
  {
   "cell_type": "code",
   "execution_count": 34,
   "metadata": {
    "collapsed": true
   },
   "outputs": [],
   "source": [
    "def evaluate(particles, p, t, cells, n_crit, theta):\n",
    "    \"\"\"Evaluate the gravitational potential at target point i, caused by source particles cell p. If leaf number of cell p is less than n_crit (twig), use direct summation. Otherwise (non-twig), loop in p's child cells. If child cell c is in far-field of target particle i, use multipole expansion. Otherwise (near-field), call the function recursively.\n",
    "    \n",
    "    Arguments:\n",
    "        phi:     potential of target particle i\n",
    "        x, y, z: coordinate arrays of particles\n",
    "        m:       mass array of particles\n",
    "        p:       cell index in cells list\n",
    "        i:       target particle index\n",
    "        cells:   the list of cells\n",
    "        n_crit:  maximum number of leaves in a single cell\n",
    "        theta:   tolerance parameter\n",
    "        epsilon: a small value to avoid zero division\n",
    "    \n",
    "    Returns:\n",
    "        phi:     potential of target particle i\n",
    "    \"\"\"\n",
    "    # non-twig cell\n",
    "    if cells[p].nleaf >= n_crit:\n",
    "        # loop in p's child cells (8 octants)\n",
    "        for octant in range(8):\n",
    "            if cells[p].nchild & (1 << octant):\n",
    "                c = cells[p].child[octant]\n",
    "                r = cells[t].distance(cells[c])\n",
    "                # near-field child cell\n",
    "                if (cells[c].r+cells[t].r) > theta*r:\n",
    "                    evaluate(particles, c, t, cells, n_crit, theta)\n",
    "                # far-field child cell\n",
    "                else:\n",
    "                    for i in range(cells[t].nleaf):\n",
    "                        l = cells[t].leaf[i]\n",
    "                        dx = particles[l].x - cells[c].x\n",
    "                        dy = particles[l].y - cells[c].y\n",
    "                        dz = particles[l].z - cells[c].z\n",
    "                        r = particles[l].distance(cells[c])\n",
    "                        r3 = r**3\n",
    "                        r5 = r3*r**2\n",
    "                        # calculate the weight for each multipole\n",
    "                        weight = [1/r, -dx/r3, -dy/r3, -dz/r3, 3*dx**2/r5 - 1/r3, \\\n",
    "                                  3*dy**2/r5 - 1/r3, 3*dz**2/r5 - 1/r3, 3*dx*dy/r5, \\\n",
    "                                  3*dy*dz/r5, 3*dz*dx/r5]\n",
    "                        particles[l].phi += numpy.dot(cells[c].multipole, weight)\n",
    "    #twig cell\n",
    "    else:\n",
    "        for i in range(cells[t].nleaf):\n",
    "            l = cells[t].leaf[i]\n",
    "            for j in range(cells[p].nleaf):\n",
    "                source = particles[cells[p].leaf[j]]\n",
    "                r = particles[l].distance(source)\n",
    "                if r != 0:\n",
    "                    particles[l].phi += source.m / r"
   ]
  },
  {
   "cell_type": "code",
   "execution_count": 35,
   "metadata": {
    "collapsed": true
   },
   "outputs": [],
   "source": [
    "def eval_potential(particles, cells, leaves, n_crit, theta):\n",
    "    for t in leaves:\n",
    "        evaluate(particles, 0, t, cells, n_crit, theta)"
   ]
  },
  {
   "cell_type": "code",
   "execution_count": 36,
   "metadata": {
    "collapsed": true
   },
   "outputs": [],
   "source": [
    "import numpy\n",
    "import time\n",
    "from treecode_helper import *\n",
    "from matplotlib import pyplot, rcParams\n",
    "%matplotlib inline\n",
    "\n",
    "# customizing plot parameters\n",
    "rcParams['figure.dpi'] = 100\n",
    "rcParams['font.size'] = 14\n",
    "rcParams['font.family'] = 'StixGeneral'"
   ]
  },
  {
   "cell_type": "code",
   "execution_count": 37,
   "metadata": {
    "collapsed": true
   },
   "outputs": [],
   "source": [
    "n_crit = 20      # max number of particles in a single cell\n",
    "theta = 0.5      # a parameter to determine far-field or near-field"
   ]
  },
  {
   "cell_type": "code",
   "execution_count": 38,
   "metadata": {
    "collapsed": true
   },
   "outputs": [],
   "source": [
    "n = 10648           # number of particles\n",
    "particles = [ Particle(m=1.0/n) for i in range(n) ]"
   ]
  },
  {
   "cell_type": "code",
   "execution_count": 39,
   "metadata": {
    "collapsed": true
   },
   "outputs": [],
   "source": [
    "#particles = read_particle('uniform10648')"
   ]
  },
  {
   "cell_type": "markdown",
   "metadata": {},
   "source": [
    "# direct summation\n",
    "tic = time.clock()\n",
    "direct_sum(particles)\n",
    "toc = time.clock()\n",
    "\n",
    "time_direct = toc - tic\n",
    "phi_direct = numpy.asarray([particle.phi for particle in particles])"
   ]
  },
  {
   "cell_type": "code",
   "execution_count": 40,
   "metadata": {
    "collapsed": true
   },
   "outputs": [],
   "source": [
    "for particle in particles:\n",
    "    particle.phi = 0."
   ]
  },
  {
   "cell_type": "code",
   "execution_count": 41,
   "metadata": {
    "collapsed": true
   },
   "outputs": [],
   "source": [
    "# build tree\n",
    "tic = time.clock()\n",
    "root = Cell(n_crit)\n",
    "root.x, root.y, root.z = 0.5, 0.5, 0.5\n",
    "root.r = 0.5\n",
    "cells = build_tree(particles, root, n_crit)\n",
    "toc = time.clock()\n",
    "\n",
    "time_src = toc - tic"
   ]
  },
  {
   "cell_type": "code",
   "execution_count": 42,
   "metadata": {
    "collapsed": true
   },
   "outputs": [],
   "source": [
    "# P2M: particle to multipole\n",
    "tic = time.clock()\n",
    "leaves = []\n",
    "get_multipole(particles, 0, cells, leaves, n_crit)\n",
    "toc = time.clock()\n",
    "\n",
    "time_P2M = toc - tic"
   ]
  },
  {
   "cell_type": "code",
   "execution_count": 43,
   "metadata": {
    "collapsed": true
   },
   "outputs": [],
   "source": [
    "# M2M: multipole to multipole (upward translation)\n",
    "tic = time.clock()\n",
    "upward_sweep(cells)\n",
    "toc = time.clock()\n",
    "\n",
    "time_M2M = toc - tic"
   ]
  },
  {
   "cell_type": "code",
   "execution_count": 44,
   "metadata": {
    "collapsed": false
   },
   "outputs": [],
   "source": [
    "# evaluate potential\n",
    "tic = time.clock()\n",
    "eval_potential(particles, cells, leaves, n_crit, theta)\n",
    "toc = time.clock()\n",
    "\n",
    "time_eval = toc - tic\n",
    "phi_tree = numpy.asarray([particle.phi for particle in particles])"
   ]
  },
  {
   "cell_type": "code",
   "execution_count": 45,
   "metadata": {
    "collapsed": false
   },
   "outputs": [],
   "source": [
    "time_tree = time_src + time_P2M + time_M2M + time_eval"
   ]
  },
  {
   "cell_type": "code",
   "execution_count": 46,
   "metadata": {
    "collapsed": false
   },
   "outputs": [
    {
     "ename": "NameError",
     "evalue": "name 'phi_direct' is not defined",
     "output_type": "error",
     "traceback": [
      "\u001b[0;31m---------------------------------------------------------------------------\u001b[0m",
      "\u001b[0;31mNameError\u001b[0m                                 Traceback (most recent call last)",
      "\u001b[0;32m<ipython-input-46-94ce0c860877>\u001b[0m in \u001b[0;36m<module>\u001b[0;34m()\u001b[0m\n\u001b[0;32m----> 1\u001b[0;31m \u001b[0ml2_err\u001b[0m\u001b[0;34m(\u001b[0m\u001b[0mphi_direct\u001b[0m\u001b[0;34m,\u001b[0m \u001b[0mphi_tree\u001b[0m\u001b[0;34m)\u001b[0m\u001b[0;34m\u001b[0m\u001b[0m\n\u001b[0m",
      "\u001b[0;31mNameError\u001b[0m: name 'phi_direct' is not defined"
     ]
    }
   ],
   "source": [
    "l2_err(phi_direct, phi_tree)"
   ]
  },
  {
   "cell_type": "code",
   "execution_count": null,
   "metadata": {
    "collapsed": false
   },
   "outputs": [],
   "source": [
    "plot_err(phi_direct, phi_tree)"
   ]
  },
  {
   "cell_type": "code",
   "execution_count": 47,
   "metadata": {
    "collapsed": false
   },
   "outputs": [
    {
     "name": "stdout",
     "output_type": "stream",
     "text": [
      "0.196447 0.117587 0.050764 22.024241\n",
      "22.389039\n"
     ]
    },
    {
     "ename": "NameError",
     "evalue": "name 'time_direct' is not defined",
     "output_type": "error",
     "traceback": [
      "\u001b[0;31m---------------------------------------------------------------------------\u001b[0m",
      "\u001b[0;31mNameError\u001b[0m                                 Traceback (most recent call last)",
      "\u001b[0;32m<ipython-input-47-57d5d9740fb9>\u001b[0m in \u001b[0;36m<module>\u001b[0;34m()\u001b[0m\n\u001b[1;32m      2\u001b[0m \u001b[0;32mprint\u001b[0m \u001b[0mtime_src\u001b[0m\u001b[0;34m,\u001b[0m \u001b[0mtime_P2M\u001b[0m\u001b[0;34m,\u001b[0m \u001b[0mtime_M2M\u001b[0m\u001b[0;34m,\u001b[0m \u001b[0mtime_eval\u001b[0m\u001b[0;34m\u001b[0m\u001b[0m\n\u001b[1;32m      3\u001b[0m \u001b[0;32mprint\u001b[0m \u001b[0mtime_tree\u001b[0m\u001b[0;34m\u001b[0m\u001b[0m\n\u001b[0;32m----> 4\u001b[0;31m \u001b[0;32mprint\u001b[0m \u001b[0mtime_direct\u001b[0m\u001b[0;34m/\u001b[0m\u001b[0mtime_tree\u001b[0m\u001b[0;34m\u001b[0m\u001b[0m\n\u001b[0m",
      "\u001b[0;31mNameError\u001b[0m: name 'time_direct' is not defined"
     ]
    }
   ],
   "source": [
    "#print time_direct\n",
    "print time_src, time_P2M, time_M2M, time_eval\n",
    "print time_tree\n",
    "print time_direct/time_tree"
   ]
  },
  {
   "cell_type": "code",
   "execution_count": 48,
   "metadata": {
    "collapsed": false
   },
   "outputs": [
    {
     "name": "stdout",
     "output_type": "stream",
     "text": [
      "2892\n",
      "2517\n",
      "0.870331950207\n"
     ]
    }
   ],
   "source": [
    "print len(cells)\n",
    "print len(leaves)\n",
    "print float(len(leaves))/float(len(cells))"
   ]
  },
  {
   "cell_type": "code",
   "execution_count": null,
   "metadata": {
    "collapsed": false
   },
   "outputs": [],
   "source": [
    "print phi_tree"
   ]
  },
  {
   "cell_type": "code",
   "execution_count": null,
   "metadata": {
    "collapsed": false
   },
   "outputs": [],
   "source": [
    "from IPython.core.display import HTML\n",
    "def css_styling():\n",
    "    styles = open('./style/fmmstyle.css', 'r').read()\n",
    "    return HTML(styles)\n",
    "css_styling()"
   ]
  }
 ],
 "metadata": {
  "kernelspec": {
   "display_name": "Python 2",
   "language": "python",
   "name": "python2"
  },
  "language_info": {
   "codemirror_mode": {
    "name": "ipython",
    "version": 2
   },
   "file_extension": ".py",
   "mimetype": "text/x-python",
   "name": "python",
   "nbconvert_exporter": "python",
   "pygments_lexer": "ipython2",
   "version": "2.7.6"
  }
 },
 "nbformat": 4,
 "nbformat_minor": 0
}
