{
 "metadata": {
  "name": "",
  "signature": "sha256:08eff73f1bc1d37330256dec412c954dcd80272ee6d338b97eb6d3ff6715d932"
 },
 "nbformat": 3,
 "nbformat_minor": 0,
 "worksheets": [
  {
   "cells": [
    {
     "cell_type": "markdown",
     "metadata": {},
     "source": [
      "### Step 4: *tree construction*"
     ]
    },
    {
     "cell_type": "code",
     "collapsed": false,
     "input": [
      "import numpy\n",
      "import random\n",
      "\n",
      "NCRIT = 10             # max number of particles in a single cell\n",
      "N = 50                 # number of particles\n",
      "RAND_MAX = 100.\n",
      "CELLS = []             # list that stores cells\n",
      "x = numpy.zeros(N)\n",
      "y = numpy.zeros(N)\n",
      "z = numpy.zeros(N)"
     ],
     "language": "python",
     "metadata": {},
     "outputs": [],
     "prompt_number": 46
    },
    {
     "cell_type": "code",
     "collapsed": false,
     "input": [
      "class cell:\n",
      "    def __init__(self):\n",
      "        self.nleaf = 0      # number of leaves (counter)\n",
      "        self.nchild = 0     # keep track of empty cells (binary counter)\n",
      "        self.leaf = numpy.zeros(NCRIT, dtype=numpy.int32)  # pointer to leaves\n",
      "        self.x_c = 0.       # center of the cell\n",
      "        self.y_c = 0.\n",
      "        self.z_c = 0.\n",
      "        self.r = 0.         # radius of the cell\n",
      "        self.parent = 0     # pointer to parent cell\n",
      "        self.child = numpy.zeros(8, dtype=numpy.int32)     # pointer to child cells\n",
      "            \n",
      "def add_child(octant, sc, cc):\n",
      "    cc += 1\n",
      "    CELLS.append(cell())\n",
      "    CELLS[cc].r = CELLS[sc].r / 2\n",
      "    CELLS[cc].x_c = CELLS[sc].x_c + CELLS[cc].r * ((octant & 1) * 2 - 1)\n",
      "    CELLS[cc].y_c = CELLS[sc].y_c + CELLS[cc].r * ((octant & 2) - 1    )\n",
      "    CELLS[cc].z_c = CELLS[sc].z_c + CELLS[cc].r * ((octant & 4) / 2 - 1)\n",
      "    CELLS[cc].parent = sc\n",
      "    CELLS[sc].child[octant] = cc\n",
      "    CELLS[sc].nchild = (CELLS[sc].nchild | (1 << octant))"
     ],
     "language": "python",
     "metadata": {},
     "outputs": [],
     "prompt_number": 48
    },
    {
     "cell_type": "code",
     "collapsed": false,
     "input": [
      "# initialize particle locations\n",
      "for i in range(N):\n",
      "    x[i] = random.uniform(0,RAND_MAX)/RAND_MAX     # coordinate domain from 0 to 1\n",
      "    y[i] = random.uniform(0,RAND_MAX)/RAND_MAX\n",
      "    z[i] = random.uniform(0,RAND_MAX)/RAND_MAX\n",
      "\n",
      "# set root cell\n",
      "CELLS.append(cell())\n",
      "CELLS[0].x_c = CELLS[0].y_c = CELLS[0].z_c = 0.5\n",
      "# build tree\n",
      "cc = 0     # child counter (subcell)\n",
      "for i in range(N):\n",
      "    sc = 0     # self counter (self)\n",
      "    while CELLS[sc].nleaf >= NCRIT:\n",
      "        CELLS[sc].nleaf += 1\n",
      "        octant = (x[i] > CELLS[sc].x_c) + ((y[i] > CELLS[sc].y_c) << 1) + ((z[i] > CELLS[sc].z_c) << 2)\n",
      "        if not (CELLS[sc].nchild & (1 << octant)):\n",
      "            add_child(octant, sc, cc)\n",
      "        sc = CELLS[sc].child[octant]\n",
      "    CELLS[sc].leaf[CELLS[sc].nleaf] = i\n",
      "    CELLS[sc].nleaf += 1\n",
      "    if (CELLS[sc].nleaf >= NCRIT):\n",
      "        split_cell(x, y, z, sc, cc)"
     ],
     "language": "python",
     "metadata": {},
     "outputs": []
    },
    {
     "cell_type": "code",
     "collapsed": false,
     "input": [],
     "language": "python",
     "metadata": {},
     "outputs": []
    }
   ],
   "metadata": {}
  }
 ]
}