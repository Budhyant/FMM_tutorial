{
 "cells": [
  {
   "cell_type": "markdown",
   "metadata": {},
   "source": [
    "## Step 2: Multipole Expansion"
   ]
  },
  {
   "cell_type": "code",
   "execution_count": 1,
   "metadata": {
    "code_folding": [],
    "collapsed": false
   },
   "outputs": [],
   "source": [
    "# importing libraries\n",
    "import numpy\n",
    "from treecode_helper import Particle\n",
    "from matplotlib import pyplot, rcParams\n",
    "%matplotlib inline\n",
    "from mpl_toolkits.mplot3d import Axes3D\n",
    "\n",
    "# customizing plot parameters\n",
    "rcParams['figure.dpi'] = 100\n",
    "rcParams['font.size'] = 14\n",
    "rcParams['font.family'] = 'StixGeneral'"
   ]
  },
  {
   "cell_type": "markdown",
   "metadata": {},
   "source": [
    "The direct summation method calculates the gravitational potential by the equation:\n",
    "\n",
    "$$\\begin{equation}\n",
    "\\Phi_i = \\sum_{\\substack{j=0\\\\ j \\neq i}}^N{\\frac{m_j}{r_{ij}}}\n",
    "\\end{equation}$$\n",
    "\n",
    "where we evaluate each source particle's effect on each target particle, and the computation complexity is $\\mathcal{O} \\left(N^2 \\right)$. We can use direct summation for a small scale of particles, but when it comes to a larger scale, the computation time grows proportionally to the square of particles number. "
   ]
  },
  {
   "cell_type": "markdown",
   "metadata": {},
   "source": [
    "Instead of calculating all pair interactions, here we introduce a treecode method, in which the simulation volume is divided up into cubic cells via an octree, so that only particles from **nearby cells** need to be treated individually (as **direct summation**), and particles in **distant cells** can be treated as a single large particle centered at the cell's center of mass (or as a **low-order multipole expansion**). This can dramatically reduce the computational cost.\n",
    "\n",
    "<img src=\"image/quad_tree.png\">\n",
    "\n",
    "The figure above shows a quadtree structure for a 2D particle distribution. When we are calculating the potential at target (red), we loop over each source particles nearby (green) and use multipole expansion to evaluate the effect of the grouped distant sources (blue).\n",
    "\n",
    "First, we introduce multipole expansion at a cell's center. In a word, we want to decouple the interaction term $\\frac{m_j}{r_{ij}}$ for the particles in a distance:\n",
    "\n",
    "$$\\begin{equation}\n",
    "\\Phi_i = \\sum_{j=0}^N{\\frac{m_j}{r_{ij}}} = \\sum_{j=0}^N {A_j B_i}\n",
    "\\end{equation}$$\n",
    "\n",
    "where $A_j$ is the term that only depends on source particles (*multipole*), and $B_i$ is the part depends on target particles (*weight*).\n",
    "\n",
    "Recall the second-order taylor expansion in three variables $x$, $y$, $z$:\n",
    "\n",
    "$$\\begin{equation}\\begin{split}\n",
    "f(x,y,z) & \\approx f(a,b,c) + \\left(x-a\\right)f_x(a,b,c) + \\left(y-b\\right)f_y(a,b,c) + \\left(z-c\\right)f_z(a,b,c) \\\\\n",
    "& + \\frac{1}{2!}[\\left(x-a\\right)^2f_{xx}(a,b,c) + \\left(y-b\\right)^2f_{yy}(a,b,c) + \\left(z-c\\right)^2f_{zz}(a,b,c) \\\\\n",
    "& + 2\\left(x-a\\right)\\left(y-b\\right)f_{xy}(a,b,c) + 2\\left(y-b\\right)\\left(z-c\\right)f_{yz}(a,b,c) \\\\ \n",
    "& + 2\\left(z-c\\right)\\left(x-a\\right)f_{zx}(a,b,c)]\n",
    "\\end{split}\\end{equation}$$\n",
    "\n",
    "We assume that: \n",
    "$$f(x_j,y_j,z_j) = \\frac{m_{j}}{r_{ij}} = \\frac{m_{j}}{\\sqrt{(x_i-x_j)^2 + (y_i-y_j)^2 + (z_i-z_j)^2}}$$ \n",
    "\n",
    "<img src=\"image/multipole.png\">\n",
    "\n",
    "Here we expand the interaction term $f(x_j,y_j,z_j)$ around a center point $(x_c, y_c, z_c)$ to the second order: \n",
    "\n",
    "$$\\begin{equation}\\begin{split}\n",
    "f(x_j,y_j,z_j) & \\approx f(x_c,y_c,z_c) + (x_j-x_c)\\, f_{x_j}\\rvert_c + (y_j-y_c)\\, f_{y_j}\\rvert_c + (z_j-z_c)\\, f_{z_j}\\rvert_c \\\\\n",
    "& + \\frac{1}{2!}[(x_j-x_c)^2f_{x_jx_j}\\rvert_c + (y_j-y_c)^2f_{y_jy_j}\\rvert_c + (z_j-z_c)^2f_{z_jz_j}\\rvert_c \\\\\n",
    "& + 2(x_j-x_c)(y_j-y_c)f_{x_jy_j}\\rvert_c + 2(y_j-y_c)(z_j-z_c)f_{y_jz_j}\\rvert_c \\\\ \n",
    "& + 2(z_j-z_c)(x_j-x_c)f_{z_jx_j}\\rvert_c]\n",
    "\\end{split}\\end{equation}$$\n",
    "\n",
    "then we calculate each derivative's value at the expansion center $(x_c,y_c,z_c)$:\n",
    "\n",
    "$$\\begin{equation}\\begin{split}\n",
    "& f_{x_j}\\rvert_c = \\frac{x_i-x_c}{R^3} m_j\\\\\n",
    "& f_{x_jx_j}\\rvert_c = \\left(\\frac{3(x_i-x_c)^2}{R^5} - \\frac{1}{R^3}\\right) m_j \\\\\n",
    "& f_{x_jy_j}\\rvert_c = \\frac{3(x_i-x_c)(y_i-y_c)}{R^5} m_j\n",
    "\\end{split}\\end{equation}$$\n",
    "\n",
    "where $R$ is the distance between target particle $i$ and the cell's center $c$. Now let's write out the interaction term again:\n",
    "\n",
    "$$\\begin{equation}\\begin{split}\n",
    "\\frac{m_j}{r_{ij}} & \\approx \\frac{m_j}{R} + m_j(x_c-x_j)\\left(-\\frac{x_i-x_c}{R^3}\\right) + m_j(y_c-y_j)\\left(-\\frac{y_i-y_c}{R^3}\\right) \\\\\n",
    "& + m_j(z_c-z_j)\\left(-\\frac{z_i-z_c}{R^3}\\right) + \\frac{m_j(x_c-x_j)^2}{2}\\left(\\frac{3(x_i-x_c)^2}{R^5} - \\frac{1}{R^3}\\right) \\\\\n",
    "& + \\frac{m_j(y_c-y_j)^2}{2}\\left(\\frac{3(y_i-y_c)^2}{R^5} - \\frac{1}{R^3}\\right) + \\frac{m_j(z_c-z_j)^2}{2}\\left(\\frac{3(z_i-z_c)^2}{R^5} - \\frac{1}{R^3}\\right) \\\\\n",
    "& + \\frac{m_j(x_c-x_j)(y_c-y_j)}{2}\\frac{3(x_i-x_c)(y_i-y_c)}{R^5} \\\\\n",
    "& + \\frac{m_j(y_c-y_j)(z_c-z_j)}{2}\\frac{3(y_i-y_c)(z_i-z_c)}{R^5} \\\\\n",
    "& + \\frac{m_j(z_c-z_j)(x_c-x_j)}{2}\\frac{3(z_i-z_c)(x_i-x_c)}{R^5}\n",
    "\\end{split}\\end{equation}$$\n",
    "\n",
    "Note that for each term, the first part only depends on source particle $j$, that means as long as we know the source particle information in a cell, we can calculate this part independently with targets $i$. There are altogether 10 terms in the expansion, and we call the first term $m_j$ as **monopole**, from the second to the fourth $m_j(x_c-x_j)$, $m_j(y_c-y_j)$, $m_j(z_c-z_j)$ we call them **dipole**, the remaining six terms $\\frac{m_j(x_c-x_j)^2}{2}$, $\\frac{m_j(y_c-y_j)^2}{2}$, $\\frac{m_j(z_c-z_j)^2}{2}$, $\\frac{m_j(x_c-x_j)(y_c-y_j)}{2}$, $\\frac{m_j(y_c-y_j)(z_c-z_j)}{2}$, $\\frac{m_j(z_c-z_j)(x_c-x_j)}{2}$ are called **quadrupole** with a second-order term in $x_j$.\n",
    "That is why we call this a **multipole expansion**. The multipoles have no relationship with target particles, so we can calculate those constants before looping in $i$. The second part in each term only depends on target particles $i$, so we can calculate this part in the loop. From above we can write the interaction term as:\n",
    "\n",
    "$$\\begin{equation}\n",
    "\\frac{m_j}{r_{ij}} = \\sum_{k=1}^{10} A_k(j)\\,B_k(i)\n",
    "\\end{equation}$$\n",
    "\n",
    "Remember that what we just considered is only one source particle $j$'s effect on target $i$. In order to evaluate the potential $\\Phi_i$, we need to take all the source particles into account:\n",
    "\n",
    "$$\\begin{equation}\\begin{split}\n",
    "\\Phi_i & = \\sum_{j=0}^N{\\frac{m_j}{r_{ij}}} = \\sum_{j=0}^N \\sum_{k=1}^{10} A_k(j)\\,B_k(i) \\\\\n",
    "& = \\sum_{k=1}^{10} \\left(\\sum_{j=0}^N A_k(j)\\right) B_k(i)\n",
    "\\end{split}\\end{equation}$$"
   ]
  },
  {
   "cell_type": "markdown",
   "metadata": {},
   "source": [
    "For different target particle $i$, the coefficient $\\sum_{j=0}^N A_k(j)$ holds the same. Thus, in the multipole code below we first loop in source particles $j$ to calculate the multipoles, then loop over each target particles $i$ to evaluate the potentials."
   ]
  },
  {
   "cell_type": "code",
   "execution_count": 2,
   "metadata": {
    "collapsed": false
   },
   "outputs": [],
   "source": [
    "n = 50     # number of particles\n",
    "m = 1/n    # mass\n",
    "\n",
    "# initialize sources and targets\n",
    "source_coords = numpy.random.random((n, 3)).tolist()\n",
    "target_coords = (-numpy.random.random((n, 3))).tolist()\n",
    "sources = [ Particle(coord, m=m) for coord in source_coords ]\n",
    "targets = [ Particle(coord, m=m) for coord in target_coords ]"
   ]
  },
  {
   "cell_type": "code",
   "execution_count": 3,
   "metadata": {
    "collapsed": false
   },
   "outputs": [],
   "source": [
    "class Point():\n",
    "    \"\"\"The class for a point.\n",
    "    \n",
    "    Arguments:\n",
    "        coords: a three-element list, containing the 3d coordinates of the point\n",
    "        domain: the domain of random generated coordinates x,y,z, default=1.0\n",
    "    \n",
    "    Attributes:\n",
    "        x, y, z: coordinates of the point\n",
    "    \"\"\"\n",
    "    def __init__(self, coords=[], domain=1.0):\n",
    "        if coords:\n",
    "            assert len(coords) == 3, \"the size of coords should be 3.\"\n",
    "            self.x = coords[0]\n",
    "            self.y = coords[1]\n",
    "            self.z = coords[2]\n",
    "        else:\n",
    "            self.x = domain * numpy.random.random()\n",
    "            self.y = domain * numpy.random.random()\n",
    "            self.z = domain * numpy.random.random()\n",
    "            \n",
    "    def distance(self, other):\n",
    "        return numpy.sqrt((self.x-other.x)**2 + (self.y-other.y)**2\n",
    "                                          + (self.z-other.z)**2)"
   ]
  },
  {
   "cell_type": "markdown",
   "metadata": {},
   "source": [
    "The multipole expansion converges and provides an accurate solution under two conditions:\n",
    "* The sources are close to the expansion center (cell's center).\n",
    "* The targets are located far enough to the expansion center.\n",
    "\n",
    "Therefore, in this notebook, we assume there are $n$ sources located in the domain: $x_j$, $y_j$, $z_j$ $\\in$ $\\left[ 0, 1 \\right]$, while $n$ targets in the domain: $x_i$, $y_i$, $z_i$ $\\in$ $\\left[ -1, 0 \\right]$, in order to satisfy the convergence condition above. We also assume the sources are in a cubic cell whose center is located at $(0.5, 0.5, 0.5)$. Now let's initialize the problem."
   ]
  },
  {
   "cell_type": "code",
   "execution_count": 4,
   "metadata": {
    "collapsed": false
   },
   "outputs": [],
   "source": [
    "center = Point([0.5, 0.5, 0.5])"
   ]
  },
  {
   "cell_type": "code",
   "execution_count": 5,
   "metadata": {
    "collapsed": false
   },
   "outputs": [],
   "source": [
    "def P2M(sources, center):\n",
    "    \"\"\"Given sources and cell's information, return multipole\n",
    "    \n",
    "    Arguments:\n",
    "        sources: the list of source objects in 'Particle' class\n",
    "        center: the point object of expansion center\n",
    "    \n",
    "    Returns:\n",
    "        multipole: the multipole array of the cell\n",
    "        \n",
    "    \"\"\"\n",
    "    # prepare for array operation\n",
    "    dx = center.x - numpy.array([source.x for source in sources])\n",
    "    dy = center.y - numpy.array([source.y for source in sources])\n",
    "    dz = center.z - numpy.array([source.z for source in sources])\n",
    "    source_m = numpy.array([source.m for source in sources])\n",
    "    \n",
    "    # calculate the contribution of each source (the expression only\n",
    "    # works with 2nd order Taylor series in 3 variables)\n",
    "    multipole = source_m * [numpy.ones(n), dx, dy, dz, dx**2/2, dy**2/2, \n",
    "                            dz**2/2, dx*dy/2, dy*dz/2, dz*dx/2]\n",
    "    \n",
    "    # sum the multipole over sources    \n",
    "    multipole = numpy.sum(multipole[:], axis=1)\n",
    "    return multipole"
   ]
  },
  {
   "cell_type": "code",
   "execution_count": 6,
   "metadata": {
    "collapsed": false
   },
   "outputs": [],
   "source": [
    "def distance(array, point):\n",
    "    \"\"\"Return the distance array between each element in the array and\n",
    "    the point.\n",
    "    \n",
    "    Arguments:\n",
    "        array: an array of n points' xyz coordinates with a shape of (3, n)\n",
    "        point: a xyz-coordinate triplet of the point \n",
    "        \n",
    "    Returns:\n",
    "        the distance array\n",
    "        \n",
    "    \"\"\"\n",
    "    return numpy.sqrt((array[0]-point.x)**2 + (array[1]-point.y)**2\n",
    "                                            + (array[2]-point.z)**2)"
   ]
  },
  {
   "cell_type": "code",
   "execution_count": 7,
   "metadata": {
    "collapsed": false
   },
   "outputs": [],
   "source": [
    "multipole = P2M(sources, center)"
   ]
  },
  {
   "cell_type": "code",
   "execution_count": 8,
   "metadata": {
    "collapsed": false
   },
   "outputs": [],
   "source": [
    "def eval_potential(targets, multipole, center):\n",
    "    \"\"\"Given targets list, multipole and expansion center, return\n",
    "    the array of target's potentials.\n",
    "    \n",
    "    Arguments:\n",
    "        targets: the list of target objects in 'Particle' class\n",
    "        multipole: the multipole array of the cell\n",
    "        center: the point object of expansion center\n",
    "    \n",
    "    Returns:\n",
    "        phi: the potential array of targets\n",
    "        \n",
    "    \"\"\"\n",
    "    # prepare for array operation\n",
    "    target_x = numpy.array([target.x for target in targets])\n",
    "    target_y = numpy.array([target.y for target in targets])\n",
    "    target_z = numpy.array([target.z for target in targets])\n",
    "    target_array = [target_x, target_y, target_z]\n",
    "    \n",
    "    # calculate the distance between each target and center\n",
    "    r = distance(target_array, center)\n",
    "    \n",
    "    # prearrange some constants for weight\n",
    "    dx, dy, dz = target_x-center.x, target_y-center.y, target_z-center.z\n",
    "    r3 = r**3\n",
    "    r5 = r3*r**2\n",
    "    \n",
    "    # calculate the weight for each multipole\n",
    "    weight = [1/r, -dx/r3, -dy/r3, -dz/r3, 3*dx**2/r5 - 1/r3, \\\n",
    "              3*dy**2/r5 - 1/r3, 3*dz**2/r5 - 1/r3, 3*dx*dy/r5, \\\n",
    "              3*dy*dz/r5, 3*dz*dx/r5]\n",
    "    \n",
    "    # evaluate potential\n",
    "    phi = numpy.dot(multipole, weight)\n",
    "    return phi"
   ]
  },
  {
   "cell_type": "code",
   "execution_count": 9,
   "metadata": {
    "collapsed": false
   },
   "outputs": [],
   "source": [
    "phi_multi = eval_potential(targets, multipole, center)"
   ]
  },
  {
   "cell_type": "markdown",
   "metadata": {},
   "source": [
    "Let's plot the spatial distribution of target (red) and source (blue) particles. The center of the cell is marked with a green dot."
   ]
  },
  {
   "cell_type": "code",
   "execution_count": 10,
   "metadata": {
    "collapsed": false
   },
   "outputs": [
    {
     "data": {
      "image/png": "[encoded data removed]",
      "text/plain": [
       "<matplotlib.figure.Figure at 0x7f4e1d929828>"
      ]
     },
     "metadata": {},
     "output_type": "display_data"
    }
   ],
   "source": [
    "# plot spatial particle distribution\n",
    "fig = pyplot.figure(figsize=(10,4.5))\n",
    "# left plot\n",
    "ax = fig.add_subplot(1,2,1, projection='3d')\n",
    "ax.scatter([target.x for target in targets], \n",
    "           [target.y for target in targets], \n",
    "           [target.z for target in targets], s=30, c='b')\n",
    "ax.scatter([source.x for source in sources], \n",
    "           [source.y for source in sources], \n",
    "           [source.z for source in sources], s=30, c='r')\n",
    "\n",
    "ax.scatter(center.x, center.y, center.z, s=30, c='g')\n",
    "\n",
    "ax.set_xlim3d(-1,1)\n",
    "ax.set_ylim3d(-1,1)\n",
    "ax.set_zlim3d(-1,1)\n",
    "ax.set_xlabel(r'$x$')\n",
    "ax.set_ylabel(r'$y$')\n",
    "ax.set_zlabel(r'$z$')\n",
    "ax.set_title('Particle Distribution')\n",
    "# right plot\n",
    "ax = fig.add_subplot(1,2,2, projection='3d')\n",
    "scale = 100   # scale for dot size in scatter plot\n",
    "ax.scatter([target.x for target in targets], \n",
    "           [target.y for target in targets], \n",
    "           [target.z for target in targets],\n",
    "           s=phi_multi*scale, c='b')\n",
    "ax.set_xlim3d(-1,0)\n",
    "ax.set_ylim3d(-1,0)\n",
    "ax.set_zlim3d(-1,0)\n",
    "ax.set_xlabel('$x$')\n",
    "ax.set_ylabel('$y$')\n",
    "ax.set_zlabel('$z$')\n",
    "ax.set_title('Target Distribution (radius implies potential)');"
   ]
  },
  {
   "cell_type": "markdown",
   "metadata": {},
   "source": [
    "Recall in the previous notebook, we use the same list of source particles and target particles, while since here we have separate list of sources and targets, we have to modify the direct summation module as follows."
   ]
  },
  {
   "cell_type": "code",
   "execution_count": 11,
   "metadata": {
    "code_folding": [],
    "collapsed": false
   },
   "outputs": [],
   "source": [
    "def direct_sum(sources, targets):\n",
    "    \"\"\"Calculate the gravitational potential (target.phi) at each target \n",
    "    particle using direct summation method.\n",
    "\n",
    "    Arguments:\n",
    "        sources: the list of source objects in 'Particle' class\n",
    "        targets: the list of target objects in 'Particle' class\n",
    "\n",
    "    \"\"\"\n",
    "    for target in targets:\n",
    "        for source in sources:\n",
    "            r = target.distance(source)\n",
    "            target.phi += source.m/r"
   ]
  },
  {
   "cell_type": "code",
   "execution_count": 12,
   "metadata": {
    "collapsed": false
   },
   "outputs": [],
   "source": [
    "direct_sum(sources, targets)\n",
    "phi_direct = numpy.asarray([target.phi for target in targets])"
   ]
  },
  {
   "cell_type": "markdown",
   "metadata": {},
   "source": [
    "Let's run the direct summation code and multipole expansion code respectively, and get a rough estimation about the time elapsed."
   ]
  },
  {
   "cell_type": "code",
   "execution_count": 13,
   "metadata": {
    "collapsed": false
   },
   "outputs": [
    {
     "name": "stdout",
     "output_type": "stream",
     "text": [
      "100 loops, best of 3: 7.01 ms per loop\n"
     ]
    }
   ],
   "source": [
    "%timeit direct_sum(sources, targets)"
   ]
  },
  {
   "cell_type": "code",
   "execution_count": 14,
   "metadata": {
    "collapsed": false
   },
   "outputs": [
    {
     "name": "stdout",
     "output_type": "stream",
     "text": [
      "1000 loops, best of 3: 172 µs per loop\n"
     ]
    }
   ],
   "source": [
    "%%timeit\n",
    "multipole = P2M(sources, center)\n",
    "eval_potential(targets, multipole, center)"
   ]
  },
  {
   "cell_type": "markdown",
   "metadata": {},
   "source": [
    "We found the multipole expansion consumes much less time than the 'brute-force' method, because we decouple the interaction term $\\frac{m_j}{r_{ij}}$ into $A_k(j)\\,B_k(i)$. Therefore, we can calculate the $A_k(j)$ outside the loop in targets $i$, saving us from double loop! If you increase the number of particles $n$, the speedup will be greater.\n",
    "\n"
   ]
  },
  {
   "cell_type": "markdown",
   "metadata": {},
   "source": [
    "Now let's verify the accuracy of multipole expansion according the exact solution given by direct summation. We use $L^2$ relative error norm to assess the error:\n",
    "\n",
    "$$\\begin{equation}\n",
    "err_{L^2} = \\sqrt \\frac{\\sum \\left(\\Phi_{direct}-\\Phi_{multi}\\right)^2}{\\sum \\Phi_{direct}^2}\n",
    "\\end{equation}$$"
   ]
  },
  {
   "cell_type": "code",
   "execution_count": 15,
   "metadata": {
    "collapsed": false
   },
   "outputs": [
    {
     "name": "stdout",
     "output_type": "stream",
     "text": [
      "L2 Norm error: 0.008143520677042005\n"
     ]
    }
   ],
   "source": [
    "err = numpy.sqrt(sum((phi_direct-phi_multi)**2)/sum(phi_direct**2))\n",
    "print('L2 Norm error: {}'.format(err))"
   ]
  },
  {
   "cell_type": "code",
   "execution_count": 21,
   "metadata": {
    "collapsed": false
   },
   "outputs": [
    {
     "data": {
      "image/png": "[encoded data removed]",
      "text/plain": [
       "<matplotlib.figure.Figure at 0x7f4de59824e0>"
      ]
     },
     "metadata": {},
     "output_type": "display_data"
    }
   ],
   "source": [
    "# plotting the relative error band\n",
    "err_rel = abs((phi_multi - phi_direct) / phi_direct)\n",
    "pyplot.figure(figsize=(10,4))\n",
    "ax = pyplot.gca()\n",
    "pyplot.plot(range(n), err_rel, 'bo', alpha=0.5)\n",
    "pyplot.xlim(0,n-1)\n",
    "pyplot.ylim(1e-6, 1e-1)\n",
    "ax.yaxis.grid()\n",
    "pyplot.xlabel('target particle index')\n",
    "pyplot.ylabel('$e_{\\phi rel}$', fontsize=22)\n",
    "ax.set_yscale('log')"
   ]
  },
  {
   "cell_type": "markdown",
   "metadata": {},
   "source": [
    "In the case where sources are close to the expansion center, and targets in a distance, we find this accelerated algorithm gives a very accurate estimation of the potentials at targets. Remember in the multipole expansion code, we first go over each source particles $j$ to evaluate the multipole the cell. That is why we refer this module as **Particle-to-Multipole** or **P2M** in the treecode."
   ]
  },
  {
   "cell_type": "markdown",
   "metadata": {},
   "source": [
    "##### Reference"
   ]
  },
  {
   "cell_type": "markdown",
   "metadata": {},
   "source": [
    "1. R. Yokota, 12 Steps to a Fast Multipole Method on GPUs, Pan-American Advanced Studies Institute, Valparaiso, Chile, 3-14 January, 2011.\n",
    "2. Raykar, V. C., \"[A short primer on the fast multipole method: FMM tutorial](http://www.umiacs.umd.edu/labs/cvl/pirl/vikas/publications/FMM_tutorial.pdf),\", University of Maryland, College Park, Apr. 8, 2006."
   ]
  },
  {
   "cell_type": "code",
   "execution_count": 17,
   "metadata": {
    "code_folding": [
     1
    ],
    "collapsed": false
   },
   "outputs": [
    {
     "data": {
      "text/html": [
       "<link href='http://fonts.googleapis.com/css?family=Alegreya+Sans:100,300,400,500,700,800,900,100italic,300italic,400italic,500italic,700italic,800italic,900italic' rel='stylesheet' type='text/css'>\n",
       "<link href='http://fonts.googleapis.com/css?family=Arvo:400,700,400italic' rel='stylesheet' type='text/css'>\n",
       "<link href='http://fonts.googleapis.com/css?family=PT+Mono' rel='stylesheet' type='text/css'>\n",
       "<link href='http://fonts.googleapis.com/css?family=Shadows+Into+Light' rel='stylesheet' type='text/css'>\n",
       "<link href='http://fonts.googleapis.com/css?family=Nixie+One' rel='stylesheet' type='text/css'>\n",
       "<style>\n",
       "\n",
       "@font-face {\n",
       "    font-family: \"Computer Modern\";\n",
       "    src: url('http://mirrors.ctan.org/fonts/cm-unicode/fonts/otf/cmunss.otf');\n",
       "}\n",
       "\n",
       "#notebook_panel { /* main background */\n",
       "    background: rgb(245,245,245);\n",
       "}\n",
       "\n",
       "div.cell { /* set cell width */\n",
       "    width: 750px;\n",
       "}\n",
       "\n",
       "div #notebook { /* centre the content */\n",
       "    background: #fff; /* white background for content */\n",
       "    width: 1000px;\n",
       "    margin: auto;\n",
       "    padding-left: 0em;\n",
       "}\n",
       "\n",
       "#notebook li { /* More space between bullet points */\n",
       "margin-top:0.8em;\n",
       "}\n",
       "\n",
       "/* draw border around running cells */\n",
       "div.cell.border-box-sizing.code_cell.running { \n",
       "    border: 1px solid #111;\n",
       "}\n",
       "\n",
       "/* Put a solid color box around each cell and its output, visually linking them*/\n",
       "div.cell.code_cell {\n",
       "    background-color: rgb(256,256,256); \n",
       "    border-radius: 0px; \n",
       "    padding: 0.5em;\n",
       "    margin-left:1em;\n",
       "    margin-top: 1em;\n",
       "}\n",
       "\n",
       "div.text_cell_render{\n",
       "    font-family: 'Alegreya Sans' sans-serif;\n",
       "    line-height: 140%;\n",
       "    font-size: 110%;\n",
       "    font-weight: 400;\n",
       "    width:600px;\n",
       "    margin-left:auto;\n",
       "    margin-right:auto;\n",
       "}\n",
       "\n",
       "\n",
       "/* Formatting for header cells */\n",
       ".text_cell_render h1 {\n",
       "    font-family: 'Nixie One', serif;\n",
       "    font-style:regular;\n",
       "    font-weight: 400;    \n",
       "    font-size: 45pt;\n",
       "    line-height: 100%;\n",
       "    color: rgb(0,51,102);\n",
       "    margin-bottom: 0.5em;\n",
       "    margin-top: 0.5em;\n",
       "    display: block;\n",
       "}\t\n",
       ".text_cell_render h2 {\n",
       "    font-family: 'Nixie One', serif;\n",
       "    font-weight: 400;\n",
       "    font-size: 30pt;\n",
       "    line-height: 100%;\n",
       "    color: rgb(0,51,102);\n",
       "    margin-bottom: 0.1em;\n",
       "    margin-top: 0.3em;\n",
       "    display: block;\n",
       "}\t\n",
       "\n",
       ".text_cell_render h3 {\n",
       "    font-family: 'Nixie One', serif;\n",
       "    margin-top:16px;\n",
       "\tfont-size: 22pt;\n",
       "    font-weight: 600;\n",
       "    margin-bottom: 3px;\n",
       "    font-style: regular;\n",
       "    color: rgb(102,102,0);\n",
       "}\n",
       "\n",
       ".text_cell_render h4 {    /*Use this for captions*/\n",
       "    font-family: 'Nixie One', serif;\n",
       "    font-size: 14pt;\n",
       "    text-align: center;\n",
       "    margin-top: 0em;\n",
       "    margin-bottom: 2em;\n",
       "    font-style: regular;\n",
       "}\n",
       "\n",
       ".text_cell_render h5 {  /*Use this for small titles*/\n",
       "    font-family: 'Nixie One', sans-serif;\n",
       "    font-weight: 400;\n",
       "    font-size: 16pt;\n",
       "    color: rgb(163,0,0);\n",
       "    font-style: italic;\n",
       "    margin-bottom: .1em;\n",
       "    margin-top: 0.8em;\n",
       "    display: block;\n",
       "}\n",
       "\n",
       ".text_cell_render h6 { /*use this for copyright note*/\n",
       "    font-family: 'PT Mono', sans-serif;\n",
       "    font-weight: 300;\n",
       "    font-size: 9pt;\n",
       "    line-height: 100%;\n",
       "    color: grey;\n",
       "    margin-bottom: 1px;\n",
       "    margin-top: 1px;\n",
       "}\n",
       "\n",
       ".CodeMirror{\n",
       "        font-family: \"PT Mono\";\n",
       "        font-size: 90%;\n",
       "}\n",
       "\n",
       "</style>\n",
       "<script>\n",
       "    MathJax.Hub.Config({\n",
       "                        TeX: {\n",
       "                           extensions: [\"AMSmath.js\"],\n",
       "                           equationNumbers: { autoNumber: \"AMS\", useLabelIds: true}\n",
       "                           },\n",
       "                tex2jax: {\n",
       "                    inlineMath: [ ['$','$'], [\"\\\\(\",\"\\\\)\"] ],\n",
       "                    displayMath: [ ['$$','$$'], [\"\\\\[\",\"\\\\]\"] ]\n",
       "                },\n",
       "                displayAlign: 'center', // Change this to 'center' to center equations.\n",
       "                \"HTML-CSS\": {\n",
       "                    styles: {'.MathJax_Display': {\"margin\": 4}}\n",
       "                }\n",
       "        });\n",
       "</script>\n"
      ],
      "text/plain": [
       "<IPython.core.display.HTML object>"
      ]
     },
     "execution_count": 17,
     "metadata": {},
     "output_type": "execute_result"
    }
   ],
   "source": [
    "from IPython.core.display import HTML\n",
    "def css_styling():\n",
    "    styles = open('./style/fmmstyle.css', 'r').read()\n",
    "    return HTML(styles)\n",
    "css_styling()"
   ]
  }
 ],
 "metadata": {
  "kernelspec": {
   "display_name": "Python 3",
   "language": "python",
   "name": "python3"
  },
  "language_info": {
   "codemirror_mode": {
    "name": "ipython",
    "version": 3
   },
   "file_extension": ".py",
   "mimetype": "text/x-python",
   "name": "python",
   "nbconvert_exporter": "python",
   "pygments_lexer": "ipython3",
   "version": "3.4.3"
  }
 },
 "nbformat": 4,
 "nbformat_minor": 0
}
