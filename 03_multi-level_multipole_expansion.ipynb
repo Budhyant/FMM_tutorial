{
 "metadata": {
  "name": "",
  "signature": "sha256:5802281a0eda2db0f08a3aa4b7535702ff32bfe8a0a2ebb3f8a632b1a840a39f"
 },
 "nbformat": 3,
 "nbformat_minor": 0,
 "worksheets": [
  {
   "cells": [
    {
     "cell_type": "code",
     "collapsed": false,
     "input": [
      "from IPython.core.display import HTML\n",
      "def css_styling():\n",
      "    styles = open('./style/fmmstyle.css', 'r').read()\n",
      "    return HTML(styles)\n",
      "css_styling()"
     ],
     "language": "python",
     "metadata": {
      "code_folding": [
       1
      ]
     },
     "outputs": [
      {
       "html": [
        "<link href='http://fonts.googleapis.com/css?family=Alegreya+Sans:100,300,400,500,700,800,900,100italic,300italic,400italic,500italic,700italic,800italic,900italic' rel='stylesheet' type='text/css'>\n",
        "<link href='http://fonts.googleapis.com/css?family=Arvo:400,700,400italic' rel='stylesheet' type='text/css'>\n",
        "<link href='http://fonts.googleapis.com/css?family=PT+Mono' rel='stylesheet' type='text/css'>\n",
        "<link href='http://fonts.googleapis.com/css?family=Shadows+Into+Light' rel='stylesheet' type='text/css'>\n",
        "<link href='http://fonts.googleapis.com/css?family=Nixie+One' rel='stylesheet' type='text/css'>\n",
        "<style>\n",
        "\n",
        "@font-face {\n",
        "    font-family: \"Computer Modern\";\n",
        "    src: url('http://mirrors.ctan.org/fonts/cm-unicode/fonts/otf/cmunss.otf');\n",
        "}\n",
        "\n",
        "#notebook_panel { /* main background */\n",
        "    background: rgb(245,245,245);\n",
        "}\n",
        "\n",
        "div.cell { /* set cell width */\n",
        "    width: 850px;\n",
        "}\n",
        "\n",
        "div #notebook { /* centre the content */\n",
        "    background: #fff; /* white background for content */\n",
        "    width: 1000px;\n",
        "    margin: auto;\n",
        "    padding-left: 0em;\n",
        "}\n",
        "\n",
        "#notebook li { /* More space between bullet points */\n",
        "margin-top:0.8em;\n",
        "}\n",
        "\n",
        "/* draw border around running cells */\n",
        "div.cell.border-box-sizing.code_cell.running { \n",
        "    border: 1px solid #111;\n",
        "}\n",
        "\n",
        "/* Put a solid color box around each cell and its output, visually linking them*/\n",
        "div.cell.code_cell {\n",
        "    background-color: rgb(256,256,256); \n",
        "    border-radius: 0px; \n",
        "    padding: 0.5em;\n",
        "    margin-left:1em;\n",
        "    margin-top: 1em;\n",
        "}\n",
        "\n",
        "div.text_cell_render{\n",
        "    font-family: 'Alegreya Sans' sans-serif;\n",
        "    line-height: 140%;\n",
        "    font-size: 125%;\n",
        "    font-weight: 400;\n",
        "    width:600px;\n",
        "    margin-left:auto;\n",
        "    margin-right:auto;\n",
        "}\n",
        "\n",
        "\n",
        "/* Formatting for header cells */\n",
        ".text_cell_render h1 {\n",
        "    font-family: 'Nixie One', serif;\n",
        "    font-style:regular;\n",
        "    font-weight: 400;    \n",
        "    font-size: 45pt;\n",
        "    line-height: 100%;\n",
        "    color: rgb(0,51,102);\n",
        "    margin-bottom: 0.5em;\n",
        "    margin-top: 0.5em;\n",
        "    display: block;\n",
        "}\t\n",
        ".text_cell_render h2 {\n",
        "    font-family: 'Nixie One', serif;\n",
        "    font-weight: 400;\n",
        "    font-size: 30pt;\n",
        "    line-height: 100%;\n",
        "    color: rgb(0,51,102);\n",
        "    margin-bottom: 0.1em;\n",
        "    margin-top: 0.3em;\n",
        "    display: block;\n",
        "}\t\n",
        "\n",
        ".text_cell_render h3 {\n",
        "    font-family: 'Nixie One', serif;\n",
        "    margin-top:16px;\n",
        "\tfont-size: 22pt;\n",
        "    font-weight: 600;\n",
        "    margin-bottom: 3px;\n",
        "    font-style: regular;\n",
        "    color: rgb(102,102,0);\n",
        "}\n",
        "\n",
        ".text_cell_render h4 {    /*Use this for captions*/\n",
        "    font-family: 'Nixie One', serif;\n",
        "    font-size: 14pt;\n",
        "    text-align: center;\n",
        "    margin-top: 0em;\n",
        "    margin-bottom: 2em;\n",
        "    font-style: regular;\n",
        "}\n",
        "\n",
        ".text_cell_render h5 {  /*Use this for small titles*/\n",
        "    font-family: 'Nixie One', sans-serif;\n",
        "    font-weight: 400;\n",
        "    font-size: 16pt;\n",
        "    color: rgb(163,0,0);\n",
        "    font-style: italic;\n",
        "    margin-bottom: .1em;\n",
        "    margin-top: 0.8em;\n",
        "    display: block;\n",
        "}\n",
        "\n",
        ".text_cell_render h6 { /*use this for copyright note*/\n",
        "    font-family: 'PT Mono', sans-serif;\n",
        "    font-weight: 300;\n",
        "    font-size: 9pt;\n",
        "    line-height: 100%;\n",
        "    color: grey;\n",
        "    margin-bottom: 1px;\n",
        "    margin-top: 1px;\n",
        "}\n",
        "\n",
        ".CodeMirror{\n",
        "        font-family: \"PT Mono\";\n",
        "        font-size: 90%;\n",
        "}\n",
        "\n",
        "</style>\n",
        "<script>\n",
        "    MathJax.Hub.Config({\n",
        "                        TeX: {\n",
        "                           extensions: [\"AMSmath.js\"],\n",
        "                           equationNumbers: { autoNumber: \"AMS\", useLabelIds: true}\n",
        "                           },\n",
        "                tex2jax: {\n",
        "                    inlineMath: [ ['$','$'], [\"\\\\(\",\"\\\\)\"] ],\n",
        "                    displayMath: [ ['$$','$$'], [\"\\\\[\",\"\\\\]\"] ]\n",
        "                },\n",
        "                displayAlign: 'center', // Change this to 'center' to center equations.\n",
        "                \"HTML-CSS\": {\n",
        "                    styles: {'.MathJax_Display': {\"margin\": 4}}\n",
        "                }\n",
        "        });\n",
        "</script>\n"
       ],
       "metadata": {},
       "output_type": "pyout",
       "prompt_number": 49,
       "text": [
        "<IPython.core.display.HTML at 0x106b9bed0>"
       ]
      }
     ],
     "prompt_number": 49
    },
    {
     "cell_type": "code",
     "collapsed": false,
     "input": [
      "%%javascript\n",
      "IPython.load_extensions('usability/codefolding/codefolding')"
     ],
     "language": "python",
     "metadata": {},
     "outputs": [
      {
       "javascript": [
        "IPython.load_extensions('usability/codefolding/codefolding')"
       ],
       "metadata": {},
       "output_type": "display_data",
       "text": [
        "<IPython.core.display.Javascript at 0x106390b50>"
       ]
      }
     ],
     "prompt_number": 50
    },
    {
     "cell_type": "markdown",
     "metadata": {},
     "source": [
      "##Step 3: Multi-level Multipole Expansion"
     ]
    },
    {
     "cell_type": "code",
     "collapsed": false,
     "input": [
      "# importing libraries\n",
      "import numpy\n",
      "from matplotlib import pyplot, rcParams\n",
      "%matplotlib inline\n",
      "from mpl_toolkits.mplot3d import Axes3D\n",
      "\n",
      "# customizing plot parameters\n",
      "rcParams['figure.dpi'] = 100\n",
      "rcParams['font.size'] = 16\n",
      "rcParams['font.family'] = 'StixGeneral'"
     ],
     "language": "python",
     "metadata": {
      "code_folding": []
     },
     "outputs": [],
     "prompt_number": 51
    },
    {
     "cell_type": "markdown",
     "metadata": {},
     "source": [
      "Recall in the previous notebook, we grouped all the sources in the same cell. However, when the number of particles becomes very large, instead of grouping all the sources in a single cell, we need to form a hierachical structure to group particles. The picture below shows a quadtree structure for a 2D particle distribution, where each parent cell (grey) can be split into 4 child cells (orange). From the previous lesson we know that the multipole of a cell only depend on the sources in that cell and the center of the cell, namely, the multipole is a \"property\" of a cell. \n",
      "\n",
      "<img src=\"image/m2m.png\">\n",
      "\n",
      "Now that multipole is a property of a cell, we should be able to evaluate the multipole of a parent cell given the multipole values of its child cells. That is our goal for this notebook! Here we use octree to subdivide a parent cell into 8 child cells in 3D.\n",
      "\n",
      "First, let's review each term in multipole of a child cell $c$:\n",
      "\n",
      "$$\\begin{equation}\\begin{split}\n",
      "M_c &= \\sum_{j=0}^{N_c} m_j\\\\\n",
      "D_{c_x} &= \\sum_{j=0}^{N_c} m_j\\,( x_c - x_j)\\\\\n",
      "Q_{c_{xx}} &= \\sum_{j=0}^{N_c} \\frac{1}{2}m_j\\, ( x_c - x_j)^2 \\\\\n",
      "Q_{c_{xy}} &= \\sum_{j=0}^{N_c} \\frac{1}{2}m_j\\, (x_c-x_j)(y_c-y_j) \\\\\n",
      "\\end{split}\\end{equation}$$\n",
      "\n",
      "where $N_c$ is the number of sources in the child cell, $x_c$ is the cell's center, $M$, $D$, $Q$ are respectively monopole, dipole and quadrupole. When we expand the particles from a smaller group (*child*) to a larger group (*parent*), we also need to shift the center of expansion from ($x_c$, $y_c$, $z_c$) to ($x_p$, $y_p$, $z_p$). Now we expand them in a parent cell $p$ with 8 child cells:\n",
      "\n",
      "$$\\begin{equation}\\begin{split}\n",
      "M_p &= \\sum_{j=0}^N m_j = \\sum_{c=0}^7 M_c\\\\\n",
      "D_{p_x} &= \\sum_{j=0}^N m_j\\,( x_p - x_j) = \\sum_{c=0}^7 \\left[\\sum_{j=0}^{N_c} m_j\\,(x_c-x_j) + ( x_p-x_c)\\sum_{j=0}^{N_c} m_j\\right]\\\\\n",
      "&= \\sum_{c=0}^{7} \\left[D_{c_x} + (x_p-x_c)\\,M_c\\right] \\\\\n",
      "Q_{p_{xx}} &= \\sum_{j=0}^N \\frac{1}{2}m_j \\,(x_p - x_j)^2 = \\sum_{c=0}^7 \\left[\\sum_{j=0}^N \\frac{1}{2}m_j\\left[(x_c-x_j)+(x_p-x_c)\\right]^2 \\right]\\\\\n",
      "&= \\sum_{c=0}^7 \\left[\\sum_{j=0}^N \\frac{1}{2}m_j (x_c - x_j)^2 + (x_p-x_c) \\sum_{j=0}^N m_j(x_c-x_j) + \\frac{(x_p-x_c)^2}{2} \\sum_{j=0}^N m_j \\right]\\\\\n",
      "&= \\sum_{c=0}^7 \\left[Q_{c_{xx}} + (x_p-x_c)D_c + \\frac{(x_p-x_c)^2}{2}M_c \\right]\\\\\n",
      "Q_{p_{xy}} &= \\sum_{j=0}^{N} \\frac{1}{2}m_j\\, (x_p-x_j)(y_p-y_j) \\\\\n",
      "&= \\sum_{c=0}^7 [\\sum_{j=0}^{N} \\frac{1}{2}m_j(x_c-x_j)(y_c-y_j) + \\frac{(x_p-x_c)}{2}\\sum_{j=0}^{N}m_j(y_c-y_j) \\\\\n",
      "&+ \\frac{(y_p-y_c)}{2}\\sum_{j=0}^{N}m_j(x_c-x_j) + \\frac{(x_p-x_c)(y_p-y_c)}{2}\\sum_{j=0}^{N}m_j]\\\\\n",
      "&= \\sum_{c=0}^7 \\left[ Q_{c_{xy}} +\\frac{(x_p-x_c)}{2}D_{c_y} +\\frac{(y_p-y_c)}{2}D_{c_x} + \\frac{(x_p-x_c)(y_p-y_c)}{2}M_c \\right]\n",
      "\\end{split}\\end{equation}$$\n",
      "\n",
      "Each multipole term $M_p$, $D_p$, $Q_p$ in parent cell can be expressed by a summation of its child's multipole terms $M_c$, $D_c$, $Q_c$. Therefore, we refer this expansion shifting process as **Multipole-to-Multipole** or **M2M**."
     ]
    },
    {
     "cell_type": "markdown",
     "metadata": {},
     "source": [
      "We use the same spatial distribution of sources and targets as the previous lesson, and they are well separated. We assume there are $n$ sources located in the domain: $x_j$, $y_j$, $z_j$ $\\in$ $\\left[ 0, 1 \\right]$, while $n$ targets in the domain: $x_i$, $y_i$, $z_i$ $\\in$ $\\left[ -1, 0 \\right]$."
     ]
    },
    {
     "cell_type": "code",
     "collapsed": false,
     "input": [
      "# initialize the coordinates and mass array\n",
      "n = 50                          # number of particles\n",
      "x_i, y_i, z_i = -numpy.random.rand(n), -numpy.random.rand(n), -numpy.random.rand(n)   # generate random coordinates from 0 to 1\n",
      "x_j, y_j, z_j = numpy.random.rand(n), numpy.random.rand(n), numpy.random.rand(n)   # generate random coordinates from 0 to 1\n",
      "m_j = 1.0/n * numpy.ones(n)     # assume uniform mass"
     ],
     "language": "python",
     "metadata": {},
     "outputs": [],
     "prompt_number": 52
    },
    {
     "cell_type": "markdown",
     "metadata": {},
     "source": [
      "This time we assign all the sources in the **parent** cell centered at $(0.5, 0.5, 0.5)$ with a side length of $1$. Then we subdivide the unit cube into 8 **child** cells to form an octree. The child's side length should be $0.5$. We index the $8$ child cells from $0$ to $7$, and calculate the coordinates of child's center based on the index (octant)."
     ]
    },
    {
     "cell_type": "code",
     "collapsed": false,
     "input": [
      "x_p, y_p, z_p = 0.5, 0.5, 0.5     # center of parent cell\n",
      "# generate center coordinates for child cells\n",
      "octant = numpy.arange(8)\n",
      "x_c = (octant % 2) * 0.5 + 0.25\n",
      "y_c = ((octant/2) % 2) * 0.5 + 0.25\n",
      "z_c = ((octant/4) % 2) * 0.5 + 0.25"
     ],
     "language": "python",
     "metadata": {},
     "outputs": [],
     "prompt_number": 53
    },
    {
     "cell_type": "markdown",
     "metadata": {},
     "source": [
      "What should the domain look like?"
     ]
    },
    {
     "cell_type": "code",
     "collapsed": false,
     "input": [
      "# plot the spatial distribution\n",
      "fig = pyplot.figure(figsize=(8,6))\n",
      "ax = Axes3D(fig)\n",
      "ax.scatter(x_i, y_i, z_i, c='r')\n",
      "ax.scatter(x_j, y_j, z_j, c='b')\n",
      "ax.scatter(x_p, y_p, z_p, s=80, c='#808080')\n",
      "ax.scatter(x_c, y_c, z_c, s=60, c='#FFA500')\n",
      "ax.set_xlim3d(-1,1)\n",
      "ax.set_ylim3d(-1,1)\n",
      "ax.set_zlim3d(-1,1)\n",
      "ax.set_xlabel('x')\n",
      "ax.set_ylabel('y')\n",
      "ax.set_zlabel('z');"
     ],
     "language": "python",
     "metadata": {
      "code_folding": [
       0
      ]
     },
     "outputs": [
      {
       "metadata": {},
       "output_type": "display_data",
       "png": "[encoded data removed]",
       "text": [
        "<matplotlib.figure.Figure at 0x106bac610>"
       ]
      }
     ],
     "prompt_number": 54
    },
    {
     "cell_type": "markdown",
     "metadata": {},
     "source": [
      "The grey dot shows the parent's center, while the oranges are the centers of child cells."
     ]
    },
    {
     "cell_type": "markdown",
     "metadata": {},
     "source": [
      "After we create the octree, we need to loop over sources to distribute them into child cells. Then perform a P2M to calculate the multipoles for each child. The two steps both require loop in source $j$, therefore, we can merge them into one function."
     ]
    },
    {
     "cell_type": "code",
     "collapsed": false,
     "input": [
      "def P2M(n, x_j, y_j, z_j, m_j, x_p, y_p, z_p, x_c, y_c, z_c):\n",
      "    \"\"\"Allocate the sources into one of the eight child cells and calculate the multipoles of child cells.\n",
      "    \n",
      "    Argument:\n",
      "      n: number of sources\n",
      "      x_j, y_j, z_j: coordinates array of source particles\n",
      "      m_j: mass array of source particles\n",
      "      x_p, y_p, z_p: coordinates of child cell's center\n",
      "      x_c, y_c, z_c: coordinates of child cell's center\n",
      "      \n",
      "    Returns:\n",
      "      multipole: multipole array of child cells\n",
      "      \n",
      "    \"\"\"\n",
      "    multipole = numpy.zeros((8,10))\n",
      "    for j in range(n):\n",
      "        octant = (x_j[j] > x_p) + ((y_j[j] > y_p) << 1) + ((z_j[j] > z_p) << 2)\n",
      "        dx, dy, dz = x_c[octant]-x_j[j], y_c[octant]-y_j[j], z_c[octant] - z_j[j]\n",
      "        # monopole: 1 term\n",
      "        multipole[octant,0] += m_j[j]\n",
      "        # dipole: 3 terms\n",
      "        multipole[octant,1:4] += m_j[j] * numpy.array((dx, dy, dz))\n",
      "        # quadrupole: 6 terms\n",
      "        multipole[octant,4:] += m_j[j]/2 * numpy.array((dx**2, dy**2, dz**2, dx*dy, dy*dz, dz*dx))\n",
      "\n",
      "    return multipole"
     ],
     "language": "python",
     "metadata": {},
     "outputs": [],
     "prompt_number": 55
    },
    {
     "cell_type": "markdown",
     "metadata": {},
     "source": [
      "The \"two less than\" sign $<<$ is a bit shift operator. The first line inside the loop is how we find the octant of a source particle. The RHS of the expression returns a integer from $0$ to $7$, representing one of the eight octants. Think about how this line of code works like a charm. It is in accordance with the way we generate the coordinates of the child cell's centers. In addition, since we have $8$ cells, the multipole array becomes a 2d array, the first argument refers to one of the eight octants, and the second is one of the ten multipole terms."
     ]
    },
    {
     "cell_type": "code",
     "collapsed": false,
     "input": [
      "multipole_c = P2M(n, x_j, y_j, z_j, m_j, x_p, y_p, z_p, x_c, y_c, z_c)"
     ],
     "language": "python",
     "metadata": {},
     "outputs": [],
     "prompt_number": 56
    },
    {
     "cell_type": "markdown",
     "metadata": {},
     "source": [
      "Given the multipoles of the child cells, we can write the M2M kernel following the equations we just derived above. We also call this part \"upward translation\" since we shift the expansion center from child cell to parent cell."
     ]
    },
    {
     "cell_type": "code",
     "collapsed": false,
     "input": [
      "def M2M(multipole, x_p, y_p, z_p, x_c, y_c, z_c):\n",
      "    \"\"\"Calculate the parent cell's multipoles based on its child's multipoles.\n",
      "    \n",
      "    Argument:\n",
      "      multipole: multipole array of child cells\n",
      "      x_p, y_p, z_p: coordinates of child cell's center\n",
      "      x_c, y_c, z_c: coordinates of child cell's center\n",
      "      \n",
      "    Returns:\n",
      "      multipole_p: multipole array of parent cell\n",
      "      \n",
      "    \"\"\" \n",
      "    multipole_p = numpy.zeros(10)\n",
      "    for c in range(8):\n",
      "        dx, dy, dz = x_p-x_c[c], y_p-y_c[c], z_p-z_c[c]\n",
      "        # monopole: 1 term\n",
      "        multipole_p[0] += multipole[c,0]\n",
      "        # dipole\uff1a3 terms\n",
      "        multipole_p[1:4] += multipole[c,1:4] + multipole[c,0] * numpy.array((dx, dy, dz))\n",
      "        # quadrupole: xx, yy, zz 3 terms\n",
      "        multipole_p[4:7] += multipole[c,4:7] + multipole[c,1:4] * numpy.array((dx, dy, dz)) + \\\n",
      "                            0.5 * multipole[c,0] * numpy.array((dx**2, dy**2, dz**2))\n",
      "        # quadrupole: xy, yz, zx 3 terms\n",
      "        multipole_p[7:] += multipole[c,7:] + 0.5 * (numpy.array((multipole[c,2], multipole[c,3], \\\n",
      "                           multipole[c,1])) * numpy.array((dx, dy, dz)) + \\\n",
      "                           multipole[c,1:4] * numpy.array((dy, dz, dx)) + \\\n",
      "                           multipole[c,0] * numpy.array((dx*dy, dy*dz, dz*dx)) )\n",
      "    \n",
      "    return multipole_p"
     ],
     "language": "python",
     "metadata": {},
     "outputs": [],
     "prompt_number": 57
    },
    {
     "cell_type": "code",
     "collapsed": false,
     "input": [
      "multipole_p = M2M(multipole_c, x_p, y_p, z_p, x_c, y_c, z_c)"
     ],
     "language": "python",
     "metadata": {},
     "outputs": [],
     "prompt_number": 58
    },
    {
     "cell_type": "code",
     "collapsed": false,
     "input": [
      "def potential_eval(multipole, n, x_i, y_i, z_i, x_p, y_p, z_p):\n",
      "    phi = numpy.zeros(n)    \n",
      "    for i in range(n):\n",
      "        X, Y, Z = x_i[i]-x_p, y_i[i]-y_p, z_i[i]-z_p\n",
      "        R = numpy.sqrt(X**2+Y**2+Z**2)\n",
      "        R3, R5 = R**3, R**5\n",
      "        # monopole: 1 term\n",
      "        phi[i] += multipole[0]/R\n",
      "        # dipole: 3 terms\n",
      "        phi[i] += numpy.dot(multipole[1:4], numpy.array((-X/R3, -Y/R3, -Z/R3)))\n",
      "        # quadrupole: 6 terms\n",
      "        phi[i] += numpy.dot(multipole[4:], numpy.array((3*X**2/R5-1/R3, 3*Y**2/R5-1/R3, 3*Z**2/R5-1/R3, \\\n",
      "                                                        3*X*Y/R5, 3*Y*Z/R5, 3*Z*X/R5)))\n",
      "    return phi"
     ],
     "language": "python",
     "metadata": {},
     "outputs": [],
     "prompt_number": 59
    },
    {
     "cell_type": "code",
     "collapsed": false,
     "input": [
      "phi_multi = potential_eval(multipole_p, n, x_i, y_i, z_i, x_p, y_p, z_p)\n",
      "print phi_multi"
     ],
     "language": "python",
     "metadata": {},
     "outputs": [
      {
       "output_type": "stream",
       "stream": "stdout",
       "text": [
        "[ 0.6153041   0.5873029   0.55774796  0.60079196  0.54744434  0.5903204\n",
        "  0.47301252  0.58570054  0.66092824  0.45020839  0.53495065  0.69373035\n",
        "  0.85827555  0.70970129  0.48903013  0.76058767  0.67518006  0.65748435\n",
        "  0.4518166   0.85784802  0.50520293  0.47113647  0.56573722  0.48660068\n",
        "  0.62452384  0.45126107  0.75344819  0.94197759  0.61759544  0.48027392\n",
        "  0.74637429  0.54878392  0.76252321  0.49121601  0.57313406  0.78193721\n",
        "  0.53244102  0.4916811   0.49191363  0.49431998  0.45109346  0.66628839\n",
        "  0.68534959  0.68159373  0.73817004  0.71536046  0.78770443  0.51444152\n",
        "  0.56265466  0.55303473]\n"
       ]
      }
     ],
     "prompt_number": 65
    },
    {
     "cell_type": "code",
     "collapsed": false,
     "input": [
      "# direct summation\n",
      "def direct_sum(n, x_i, y_i, z_i, x_j, y_j, z_j, m_j):\n",
      "    \"\"\"Calculate the gravitational potential at each target particle i using direct summation method.\n",
      "\n",
      "    Argument:\n",
      "      n: number of particles\n",
      "      x_i, y_i, z_i: coordinates array of target particles\n",
      "      x_j, y_j, z_j: coordinates array of source particles\n",
      "      m_j: mass array of source particles\n",
      "      \n",
      "    Returns:\n",
      "      phi: potential array of particles\n",
      "      \n",
      "    \"\"\"\n",
      "    phi = numpy.zeros(n)       # initialize potential array and offset the additional term\n",
      "    for i in range(n):\n",
      "        for j in range(n):\n",
      "            dx, dy, dz = x_i[i]-x_j[j], y_i[i]-y_j[j], z_i[i]-z_j[j]\n",
      "            r = numpy.sqrt(dx**2 + dy**2 + dz**2)\n",
      "            phi[i] += m_j[j]/r\n",
      "    return phi"
     ],
     "language": "python",
     "metadata": {
      "code_folding": [
       0
      ]
     },
     "outputs": [],
     "prompt_number": 62
    },
    {
     "cell_type": "code",
     "collapsed": false,
     "input": [
      "phi_direct = direct_sum(n, x_i, y_i, z_i, x_j, y_j, z_j, m_j)\n",
      "print phi_direct"
     ],
     "language": "python",
     "metadata": {},
     "outputs": [
      {
       "output_type": "stream",
       "stream": "stdout",
       "text": [
        "[ 0.6131707   0.58574843  0.55683709  0.60013676  0.546136    0.59007642\n",
        "  0.47227729  0.5842001   0.65830255  0.44959565  0.53386176  0.69069107\n",
        "  0.85490934  0.70598479  0.48826516  0.75702704  0.67420136  0.65734716\n",
        "  0.45117002  0.85277281  0.50446176  0.47042775  0.56440805  0.48582362\n",
        "  0.62304008  0.45063427  0.75105873  0.93397464  0.61534799  0.47955888\n",
        "  0.74274983  0.54754241  0.7580152   0.49050613  0.57175593  0.77746394\n",
        "  0.53150089  0.49092396  0.49120928  0.49348582  0.45050737  0.66361424\n",
        "  0.68274004  0.68062507  0.73466551  0.71221317  0.78502935  0.51340196\n",
        "  0.56158511  0.55206648]\n"
       ]
      }
     ],
     "prompt_number": 66
    },
    {
     "cell_type": "code",
     "collapsed": false,
     "input": [
      "err = numpy.sqrt(sum((phi_direct-phi_multi)**2)/sum(phi_direct**2))\n",
      "print 'L2 Norm error: {}'.format(err)"
     ],
     "language": "python",
     "metadata": {},
     "outputs": [
      {
       "output_type": "stream",
       "stream": "stdout",
       "text": [
        "L2 Norm error: 0.00384916594511\n"
       ]
      }
     ],
     "prompt_number": 67
    }
   ],
   "metadata": {}
  }
 ]
}