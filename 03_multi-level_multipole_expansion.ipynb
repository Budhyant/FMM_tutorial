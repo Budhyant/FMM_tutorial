{
 "metadata": {
  "name": "",
  "signature": "sha256:0583d0076a3d4d767bde3073823032facd3d35f0eefa3cf158c8725a82e9431b"
 },
 "nbformat": 3,
 "nbformat_minor": 0,
 "worksheets": [
  {
   "cells": [
    {
     "cell_type": "markdown",
     "metadata": {},
     "source": [
      "###Step 3: *multi-level multipole expansion*"
     ]
    },
    {
     "cell_type": "markdown",
     "metadata": {},
     "source": [
      "When the number of particles is very large, we need to form a hierachical structure to group particles. When we expand the particles from a smaller group (*child*) to a larger group (*parent*), we also need to shift the center of expansion.\n",
      "\n",
      "Originally, we define each term in multipole as:\n",
      "$$\\begin{equation}\n",
      "monopole = \\sum_{j=0}^N m_j\\\\\n",
      "dipole = \\sum_{j=0}^N m_j\\left( x_c - x_j \\right)\\\\\n",
      "quadrupole = \\sum_{j=0}^N \\frac{1}{2}m_j \\left( x_c - x_j \\right)^2\n",
      "\\end{equation}$$\n",
      "\n",
      "When we expand in parent:\n",
      "$$\\begin{equation}\n",
      "monopole = \\sum_{j=0}^N m_j\\\\\n",
      "dipole = \\sum_{j=0}^N m_j\\left( x_p - x_j \\right) = \\sum_{j=0}^N m_j\\left(x_c-x_j\\right) + \\left( x_p-x_c \\right)\\sum_{j=0}^N m_j \\\\\n",
      "quadrupole = \\sum_{j=0}^N \\frac{1}{2}m_j \\left( x_p - x_j \\right)^2 = \\sum_{j=0}^N \\frac{1}{2}m_j \\left( x_c - x_j \\right)^2 + \\left( x_p - x_c \\right) \\sum_{j=0}^N m_j\\left( x_c - x_j \\right) + \\frac{\\left( x_p - x_c \\right)^2}{2} \\sum_{j=0}^N m_j\n",
      "\\end{equation}$$"
     ]
    },
    {
     "cell_type": "code",
     "collapsed": false,
     "input": [
      "x_p = 0.5     # center of expansion in parent cell\n",
      "y_p = 0.5\n",
      "z_p = 0.5\n",
      "x_c = numpy.zeros(8)     # center of expansion in 8 child cells\n",
      "y_c = numpy.zeros(8)\n",
      "z_c = numpy.zeros(8)\n",
      "\n",
      "# octree structure for 3 dimensional calculation\n",
      "# child: multipole[0:7,:], parent: multipole[8,:]\n",
      "# monopole: multipole[:,0], dipole: multipole[:,1:3], quadrupole: multipole[:,4:9]\n",
      "multipole = numpy.zeros((9,10))\n",
      "\n",
      "for i in range(8):\n",
      "    dx = x_p - x_c[i]\n",
      "    dy = y_p - y_c[i]\n",
      "    dz = z_p - z_c[i]\n",
      "    multipole[8,0] += multipole[i,0]     # monopole in parent cell\n",
      "    multipole[8,1] += multipole[i,1] + dx*multipole[i,0]     # dipole in parent cell\n",
      "    multipole[8,2] += multipole[i,2] + dy*multipole[i,0]\n",
      "    multipole[8,3] += multipole[i,3] + dz*multipole[i,0]\n",
      "    multipole[8,4] += multipole[i,4] + dx*multipole[i,1] + dx**2/2*multipole[i,0]     # quadrupole in parent cell\n",
      "    multipole[8,5] += multipole[i,5] + dy*multipole[i,2] + dy**2/2*multipole[i,0]\n",
      "    multipole[8,6] += multipole[i,6] + dz*multipole[i,3] + dz**2/2*multipole[i,0]\n",
      "    multipole[8,7] += multipole[i,7] + 1/2* (dx*multipole[i,2] + dy*multipole[i,1] + dx*dy*multipole[i,0])\n",
      "    multipole[8,8] += multipole[i,8] + 1/2* (dy*multipole[i,3] + dz*multipole[i,2] + dy*dz*multipole[i,0])\n",
      "    multipole[8,9] += multipole[i,9] + 1/2* (dz*multipole[i,1] + dx*multipole[i,3] + dz*dx*multipole[i,0])"
     ],
     "language": "python",
     "metadata": {},
     "outputs": [
      {
       "ename": "NameError",
       "evalue": "name 'numpy' is not defined",
       "output_type": "pyerr",
       "traceback": [
        "\u001b[0;31m---------------------------------------------------------------------------\u001b[0m\n\u001b[0;31mNameError\u001b[0m                                 Traceback (most recent call last)",
        "\u001b[0;32m<ipython-input-1-651c6dcb894d>\u001b[0m in \u001b[0;36m<module>\u001b[0;34m()\u001b[0m\n\u001b[1;32m      2\u001b[0m \u001b[0my_p\u001b[0m \u001b[0;34m=\u001b[0m \u001b[0;36m0.5\u001b[0m\u001b[0;34m\u001b[0m\u001b[0m\n\u001b[1;32m      3\u001b[0m \u001b[0mz_p\u001b[0m \u001b[0;34m=\u001b[0m \u001b[0;36m0.5\u001b[0m\u001b[0;34m\u001b[0m\u001b[0m\n\u001b[0;32m----> 4\u001b[0;31m \u001b[0mx_c\u001b[0m \u001b[0;34m=\u001b[0m \u001b[0mnumpy\u001b[0m\u001b[0;34m.\u001b[0m\u001b[0mzeros\u001b[0m\u001b[0;34m(\u001b[0m\u001b[0;36m8\u001b[0m\u001b[0;34m)\u001b[0m     \u001b[0;31m# center of expansion in 8 child cells\u001b[0m\u001b[0;34m\u001b[0m\u001b[0m\n\u001b[0m\u001b[1;32m      5\u001b[0m \u001b[0my_c\u001b[0m \u001b[0;34m=\u001b[0m \u001b[0mnumpy\u001b[0m\u001b[0;34m.\u001b[0m\u001b[0mzeros\u001b[0m\u001b[0;34m(\u001b[0m\u001b[0;36m8\u001b[0m\u001b[0;34m)\u001b[0m\u001b[0;34m\u001b[0m\u001b[0m\n\u001b[1;32m      6\u001b[0m \u001b[0mz_c\u001b[0m \u001b[0;34m=\u001b[0m \u001b[0mnumpy\u001b[0m\u001b[0;34m.\u001b[0m\u001b[0mzeros\u001b[0m\u001b[0;34m(\u001b[0m\u001b[0;36m8\u001b[0m\u001b[0;34m)\u001b[0m\u001b[0;34m\u001b[0m\u001b[0m\n",
        "\u001b[0;31mNameError\u001b[0m: name 'numpy' is not defined"
       ]
      }
     ],
     "prompt_number": 1
    }
   ],
   "metadata": {}
  }
 ]
}