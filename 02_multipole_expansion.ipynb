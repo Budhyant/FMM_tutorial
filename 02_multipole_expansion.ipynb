{
 "metadata": {
  "name": "",
  "signature": "sha256:51ceadf66e5c1d1bbb0a73cd84d3babc5ab0b0ed229bd8f224970db2f33f57e3"
 },
 "nbformat": 3,
 "nbformat_minor": 0,
 "worksheets": [
  {
   "cells": [
    {
     "cell_type": "code",
     "collapsed": false,
     "input": [
      "from IPython.core.display import HTML\n",
      "def css_styling():\n",
      "    styles = open('./style/fmmstyle.css', 'r').read()\n",
      "    return HTML(styles)\n",
      "css_styling()"
     ],
     "language": "python",
     "metadata": {
      "code_folding": [
       1
      ]
     },
     "outputs": [
      {
       "html": [
        "<link href='http://fonts.googleapis.com/css?family=Alegreya+Sans:100,300,400,500,700,800,900,100italic,300italic,400italic,500italic,700italic,800italic,900italic' rel='stylesheet' type='text/css'>\n",
        "<link href='http://fonts.googleapis.com/css?family=Arvo:400,700,400italic' rel='stylesheet' type='text/css'>\n",
        "<link href='http://fonts.googleapis.com/css?family=PT+Mono' rel='stylesheet' type='text/css'>\n",
        "<link href='http://fonts.googleapis.com/css?family=Shadows+Into+Light' rel='stylesheet' type='text/css'>\n",
        "<link href='http://fonts.googleapis.com/css?family=Nixie+One' rel='stylesheet' type='text/css'>\n",
        "<style>\n",
        "\n",
        "@font-face {\n",
        "    font-family: \"Computer Modern\";\n",
        "    src: url('http://mirrors.ctan.org/fonts/cm-unicode/fonts/otf/cmunss.otf');\n",
        "}\n",
        "\n",
        "#notebook_panel { /* main background */\n",
        "    background: rgb(245,245,245);\n",
        "}\n",
        "\n",
        "div.cell { /* set cell width */\n",
        "    width: 810px;\n",
        "}\n",
        "\n",
        "div #notebook { /* centre the content */\n",
        "    background: #fff; /* white background for content */\n",
        "    width: 1000px;\n",
        "    margin: auto;\n",
        "    padding-left: 0em;\n",
        "}\n",
        "\n",
        "#notebook li { /* More space between bullet points */\n",
        "margin-top:0.8em;\n",
        "}\n",
        "\n",
        "/* draw border around running cells */\n",
        "div.cell.border-box-sizing.code_cell.running { \n",
        "    border: 1px solid #111;\n",
        "}\n",
        "\n",
        "/* Put a solid color box around each cell and its output, visually linking them*/\n",
        "div.cell.code_cell {\n",
        "    background-color: rgb(256,256,256); \n",
        "    border-radius: 0px; \n",
        "    padding: 0.5em;\n",
        "    margin-left:1em;\n",
        "    margin-top: 1em;\n",
        "}\n",
        "\n",
        "div.text_cell_render{\n",
        "    font-family: 'Alegreya Sans' sans-serif;\n",
        "    line-height: 140%;\n",
        "    font-size: 125%;\n",
        "    font-weight: 400;\n",
        "    width:600px;\n",
        "    margin-left:auto;\n",
        "    margin-right:auto;\n",
        "}\n",
        "\n",
        "\n",
        "/* Formatting for header cells */\n",
        ".text_cell_render h1 {\n",
        "    font-family: 'Nixie One', serif;\n",
        "    font-style:regular;\n",
        "    font-weight: 400;    \n",
        "    font-size: 45pt;\n",
        "    line-height: 100%;\n",
        "    color: rgb(0,51,102);\n",
        "    margin-bottom: 0.5em;\n",
        "    margin-top: 0.5em;\n",
        "    display: block;\n",
        "}\t\n",
        ".text_cell_render h2 {\n",
        "    font-family: 'Nixie One', serif;\n",
        "    font-weight: 400;\n",
        "    font-size: 30pt;\n",
        "    line-height: 100%;\n",
        "    color: rgb(0,51,102);\n",
        "    margin-bottom: 0.1em;\n",
        "    margin-top: 0.3em;\n",
        "    display: block;\n",
        "}\t\n",
        "\n",
        ".text_cell_render h3 {\n",
        "    font-family: 'Nixie One', serif;\n",
        "    margin-top:16px;\n",
        "\tfont-size: 22pt;\n",
        "    font-weight: 600;\n",
        "    margin-bottom: 3px;\n",
        "    font-style: regular;\n",
        "    color: rgb(102,102,0);\n",
        "}\n",
        "\n",
        ".text_cell_render h4 {    /*Use this for captions*/\n",
        "    font-family: 'Nixie One', serif;\n",
        "    font-size: 14pt;\n",
        "    text-align: center;\n",
        "    margin-top: 0em;\n",
        "    margin-bottom: 2em;\n",
        "    font-style: regular;\n",
        "}\n",
        "\n",
        ".text_cell_render h5 {  /*Use this for small titles*/\n",
        "    font-family: 'Nixie One', sans-serif;\n",
        "    font-weight: 400;\n",
        "    font-size: 16pt;\n",
        "    color: rgb(163,0,0);\n",
        "    font-style: italic;\n",
        "    margin-bottom: .1em;\n",
        "    margin-top: 0.8em;\n",
        "    display: block;\n",
        "}\n",
        "\n",
        ".text_cell_render h6 { /*use this for copyright note*/\n",
        "    font-family: 'PT Mono', sans-serif;\n",
        "    font-weight: 300;\n",
        "    font-size: 9pt;\n",
        "    line-height: 100%;\n",
        "    color: grey;\n",
        "    margin-bottom: 1px;\n",
        "    margin-top: 1px;\n",
        "}\n",
        "\n",
        ".CodeMirror{\n",
        "        font-family: \"PT Mono\";\n",
        "        font-size: 90%;\n",
        "}\n",
        "\n",
        "</style>\n",
        "<script>\n",
        "    MathJax.Hub.Config({\n",
        "                        TeX: {\n",
        "                           extensions: [\"AMSmath.js\"],\n",
        "                           equationNumbers: { autoNumber: \"AMS\", useLabelIds: true}\n",
        "                           },\n",
        "                tex2jax: {\n",
        "                    inlineMath: [ ['$','$'], [\"\\\\(\",\"\\\\)\"] ],\n",
        "                    displayMath: [ ['$$','$$'], [\"\\\\[\",\"\\\\]\"] ]\n",
        "                },\n",
        "                displayAlign: 'center', // Change this to 'center' to center equations.\n",
        "                \"HTML-CSS\": {\n",
        "                    styles: {'.MathJax_Display': {\"margin\": 4}}\n",
        "                }\n",
        "        });\n",
        "</script>\n"
       ],
       "metadata": {},
       "output_type": "pyout",
       "prompt_number": 2,
       "text": [
        "<IPython.core.display.HTML at 0x104500f10>"
       ]
      }
     ],
     "prompt_number": 2
    },
    {
     "cell_type": "code",
     "collapsed": false,
     "input": [
      "%%javascript\n",
      "IPython.load_extensions('usability/codefolding/codefolding')"
     ],
     "language": "python",
     "metadata": {},
     "outputs": [
      {
       "javascript": [
        "IPython.load_extensions('usability/codefolding/codefolding')"
       ],
       "metadata": {},
       "output_type": "display_data",
       "text": [
        "<IPython.core.display.Javascript at 0x103936790>"
       ]
      }
     ],
     "prompt_number": 3
    },
    {
     "cell_type": "markdown",
     "metadata": {},
     "source": [
      "##Step 2: Multipole Expansion"
     ]
    },
    {
     "cell_type": "code",
     "collapsed": false,
     "input": [
      "# import\n",
      "import numpy\n",
      "import random\n",
      "import time\n",
      "import matplotlib.pyplot as plt\n",
      "from mpl_toolkits.mplot3d import Axes3D\n",
      "%matplotlib inline"
     ],
     "language": "python",
     "metadata": {
      "code_folding": [
       0
      ]
     },
     "outputs": [],
     "prompt_number": 4
    },
    {
     "cell_type": "markdown",
     "metadata": {},
     "source": [
      "The direct summation method calculates the gravitational potential by the equation:\n",
      "\n",
      "$$\\begin{equation}\n",
      "\\Phi_i = \\sum_{\\substack{j=0\\\\ j \\neq i}}^N{\\frac{m_j}{r_{ij}}}\n",
      "\\end{equation}$$\n",
      "\n",
      "where we evaluate each source particle's effect on each target particle, and the computation complexity is $\\mathcal{O} \\left(N^2 \\right)$. We can use direct summation for a small scale of particles, but when it comes to a larger scale, the computation time grows proportionally to the square of particles number. \n",
      "\n",
      "This time we use a different list of target particles (*subscript* $i$) and source particles (*subscript* $j$) for the following function."
     ]
    },
    {
     "cell_type": "code",
     "collapsed": false,
     "input": [
      "# direct summation\n",
      "def direct_sum(n, x_i, y_i, z_i, m_i, x_j, y_j, z_j, m_j):\n",
      "    for i in range(n):\n",
      "        phi[i] = 0\n",
      "        for j in range(n):\n",
      "            dx = x_i[i] - x_j[j]\n",
      "            dy = y_i[i] - y_j[j]\n",
      "            dz = z_i[i] - z_j[j]\n",
      "            r = numpy.sqrt(dx**2 + dy**2 + dz**2)\n",
      "            phi[i] += m_j[j]/r\n",
      "    return phi"
     ],
     "language": "python",
     "metadata": {},
     "outputs": [],
     "prompt_number": 5
    },
    {
     "cell_type": "markdown",
     "metadata": {},
     "source": [
      "Instead of calculating all pair interactions, here we introduce a treecode method, in which the simulation volume is divided up into cubic cells via an octree, so that only particles from **nearby cells** need to be treated individually (as **direct summation**), and particles in **distant cells** can be treated as a single large particle centered at the cell's center of mass (or as a **low-order multipole expansion**). This can dramatically reduce the computational cost.\n",
      "\n",
      "First, we introduce multipole expansion at a cell's center. In a word, we decouple the interaction term $\\frac{m_j}{r_{ij}}$ for the particles in a distance:\n",
      "\n",
      "$$\\begin{equation}\n",
      "\\Phi_i = \\sum_{\\substack{j=0\\\\ j \\neq i}}^N{\\frac{m_j}{r_{ij}}} = \\sum_{\\substack{j=0\\\\ j \\neq i}}^N {A_j B_i}\n",
      "\\end{equation}$$\n",
      "\n",
      "where $A_j$ is the term that only depends on source particles, and $B_i$ is the part depending on target particles.\n",
      "\n",
      "<img src=\"image/01.png\">\n",
      "\n",
      "Recall the second-order taylor expansion in three variables $x$, $y$, $z$:\n",
      "\n",
      "$$\\begin{equation}\\begin{split}\n",
      "f(x,y,z) & \\approx f(a,b,c) + \\left(x-a\\right)f_x(a,b,c) + \\left(y-b\\right)f_y(a,b,c) + \\left(z-c\\right)f_z(a,b,c) \\\\\n",
      "& + \\frac{1}{2!}[\\left(x-a\\right)^2f_{xx}(a,b,c) + \\left(y-b\\right)^2f_{yy}(a,b,c) + \\left(z-c\\right)^2f_{zz}(a,b,c) \\\\\n",
      "& + 2\\left(x-a\\right)\\left(y-b\\right)f_{xy}(a,b,c) + 2\\left(y-b\\right)\\left(z-c\\right)f_{yz}(a,b,c) \\\\ \n",
      "& + 2\\left(z-c\\right)\\left(x-a\\right)f_{zx}(a,b,c)]\n",
      "\\end{split}\\end{equation}$$\n",
      "\n",
      "We assume that: \n",
      "$$f(x_i,y_i,z_i) = \\frac{m_{ij}}{r_{ij}} = \\frac{m_{ij}}{\\sqrt{(x_i-x_j)^2 + (y_i-y_j)^2 + (z_i-z_j)^2}}$$ \n",
      "Here we expand the interaction term around a center point $(x_c, y_c, z_c)$: \n",
      "then we calculate each derivative:\n",
      "\n",
      "$$\\begin{equation}\n",
      "\\begin{split}\n",
      "\\frac{m_j}{r_{ij}} \\approx \\frac{m_j}{R} & + \\frac{m_j}{1!}\\left[ \\left( x-X \\right) \\frac{\\partial}{\\partial X} \\frac{1}{R} + \\left( y-Y \\right) \\frac{\\partial}{\\partial Y} \\frac{1}{R} + \\left( z-Z \\right) \\frac{\\partial}{\\partial Z} \\frac{1}{R} \\right] \\\\ \n",
      "&+ \\frac{m_j}{2!}[ \\left( x-X \\right)^2 \\frac{\\partial^2}{\\partial X^2} \\frac{1}{R} + \\left( y-Y \\right)^2 \\frac{\\partial^2}{\\partial Y^2} \\frac{1}{R} + \\left( z-Z \\right)^2 \\frac{\\partial^2}{\\partial Z^2} \\frac{1}{R} \\\\ \n",
      "& + \\left( x-X \\right) \\left( y-Y \\right) \\frac{\\partial ^2}{\\partial X \\partial Y} \\frac{1}{R} + \\left( y-Y \\right) \\left( z-Z \\right) \\frac{\\partial ^2}{\\partial Y \\partial Z} \\frac{1}{R} \\\\\n",
      "& + \\left( z-Z \\right) \\left( x-X \\right) \\frac{\\partial ^2}{\\partial Z \\partial X} \\frac{1}{R} ]\n",
      "\\end{split}\n",
      "\\end{equation}$$"
     ]
    },
    {
     "cell_type": "code",
     "collapsed": false,
     "input": [
      "# multipole expansion (2nd-order taylor series)\n",
      "def multiple_exp(N, x_i, y_i, z_i, m_i, x_j, y_j, z_j, m_j, x_c, y_c, z_c):\n",
      "    # multipole expansion: only depends on source points j information\n",
      "    multipole = numpy.zeros(10)     # 10 terms in the 2nd-order taylor expansion\n",
      "    for j in range(N):\n",
      "        dx = x_c - x_j[j]     # dx = x - X\n",
      "        dy = y_c - y_j[j]     # dy = y - Y\n",
      "        dz = z_c - z_j[j]     # dz = z - Z\n",
      "        multipole[0] += m_j[j]             # monopole: 1 term\n",
      "        multipole[1] += m_j[j]*dx          # dipole: 3 terms\n",
      "        multipole[2] += m_j[j]*dy\n",
      "        multipole[3] += m_j[j]*dz\n",
      "        multipole[4] += m_j[j]*dx**2/2     # quadrupole: 6 terms\n",
      "        multipole[5] += m_j[j]*dy**2/2\n",
      "        multipole[6] += m_j[j]*dz**2/2\n",
      "        multipole[7] += m_j[j]*dx*dy/2\n",
      "        multipole[8] += m_j[j]*dy*dz/2\n",
      "        multipole[9] += m_j[j]*dz*dx/2\n",
      "\n",
      "    # evaluate potential: only depends on target points i information\n",
      "    phi = numpy.zeros(N)    \n",
      "    for i in range(N):\n",
      "        X = x_i[i] - x_c\n",
      "        Y = y_i[i] - y_c\n",
      "        Z = z_i[i] - z_c\n",
      "        R = numpy.sqrt(X**2+Y**2+Z**2)\n",
      "        R3 = R**3\n",
      "        R5 = R**5\n",
      "        phi[i] += multipole[0]/R\n",
      "        phi[i] += multipole[1]*(-X/R3)\n",
      "        phi[i] += multipole[2]*(-Y/R3)\n",
      "        phi[i] += multipole[3]*(-Z/R3)\n",
      "        phi[i] += multipole[4]*(3*X**2/R5 - 1/R3)\n",
      "        phi[i] += multipole[5]*(3*Y**2/R5 - 1/R3)\n",
      "        phi[i] += multipole[6]*(3*Z**2/R5 - 1/R3)\n",
      "        phi[i] += multipole[7]*(3*X*Y/R5)\n",
      "        phi[i] += multipole[8]*(3*Y*Z/R5)\n",
      "        phi[i] += multipole[9]*(3*Z*X/R5)\n",
      "    return phi"
     ],
     "language": "python",
     "metadata": {},
     "outputs": [],
     "prompt_number": 6
    },
    {
     "cell_type": "code",
     "collapsed": false,
     "input": [
      "N = 50                          # number of particles\n",
      "x_i = numpy.zeros(N)\n",
      "y_i = numpy.zeros(N)\n",
      "z_i = numpy.zeros(N)\n",
      "m_i = numpy.zeros(N)\n",
      "x_j = numpy.zeros(N)\n",
      "y_j = numpy.zeros(N)\n",
      "z_j = numpy.zeros(N)\n",
      "m_j = numpy.zeros(N)\n",
      "phi = numpy.zeros(N)\n",
      "\n",
      "for i in range(N):\n",
      "    x_i[i] = - random.random()  # generate the coordinates\n",
      "    y_i[i] = - random.random()\n",
      "    z_i[i] = - random.random()\n",
      "    m_i[i] = 1.0/N              # assume the same mass\n",
      "for j in range(N):\n",
      "    x_j[j] = random.random()    # generate the coordinates\n",
      "    y_j[j] = random.random()\n",
      "    z_j[j] = random.random()\n",
      "    m_j[j] = 1.0/N              # assume the same mass"
     ],
     "language": "python",
     "metadata": {},
     "outputs": [],
     "prompt_number": 7
    },
    {
     "cell_type": "markdown",
     "metadata": {},
     "source": [
      "The spatial distribution of target (red) and source (blue) particles should look like this."
     ]
    },
    {
     "cell_type": "code",
     "collapsed": false,
     "input": [
      "ax = Axes3D(plt.figure())\n",
      "ax.scatter(x_i, y_i, z_i, c='r')\n",
      "ax.scatter(x_j, y_j, z_j, c='b')\n",
      "ax.set_xlim(-1,1)\n",
      "ax.set_ylim(-1,1)\n",
      "ax.set_zlim(-1,1);"
     ],
     "language": "python",
     "metadata": {},
     "outputs": [
      {
       "metadata": {},
       "output_type": "display_data",
       "png": "[encoded data removed]",
       "text": [
        "<matplotlib.figure.Figure at 0x106195fd0>"
       ]
      }
     ],
     "prompt_number": 8
    },
    {
     "cell_type": "code",
     "collapsed": false,
     "input": [
      "t1 = time.clock()\n",
      "phi_direct = direct_sum(n, x_i, y_i, z_i, m_i, x_j, y_j, z_j, m_j)\n",
      "t2 = time.clock()\n",
      "\n",
      "print phi_direct\n",
      "print '\\nDirect Summation of {} particles takes {}s.'.format(n, t2-t1)"
     ],
     "language": "python",
     "metadata": {},
     "outputs": [
      {
       "output_type": "stream",
       "stream": "stdout",
       "text": [
        "[ 0.91641371  0.85687742  0.55824099  0.78194685  0.71219986  0.50329084\n",
        "  0.55446691  0.57211001  0.52795249  0.68184228  0.60828501  0.69340126\n",
        "  0.5180478   0.63380828  0.646239    0.52209722  0.54360062  0.79616082\n",
        "  0.5737236   0.58507973  0.50344179  0.80065785  0.5245847   0.47387739\n",
        "  0.5517387   0.51456157  0.70322033  0.6017886   0.42320046  0.71285143\n",
        "  0.51639927  0.58668642  0.54835929  0.72729114  0.51689797  0.597048\n",
        "  0.63947971  0.5276307   0.50916745  0.55702264  0.45619102  0.75842165\n",
        "  0.43809355  0.70840666  0.518939    0.53007962  0.51604435  0.51410432\n",
        "  0.53272553  0.48689492]\n",
        "\n",
        "Direct Summation of 50 particles takes 0.013597s.\n"
       ]
      }
     ],
     "prompt_number": 9
    },
    {
     "cell_type": "code",
     "collapsed": false,
     "input": [
      "t3 = time.clock()\n",
      "phi_multi = multiple_exp(n, x_i, y_i, z_i, m_i, x_j, y_j, z_j, m_j, 0.5, 0.5, 0.5)\n",
      "t4 = time.clock()\n",
      "\n",
      "print phi_multi\n",
      "print '\\nMultipole Expansion of {} particles takes {}s.'.format(n, t4-t3)\n",
      "print '{} times faster than Direct Summation.'.format((t2-t1)/(t4-t3))"
     ],
     "language": "python",
     "metadata": {},
     "outputs": [
      {
       "output_type": "stream",
       "stream": "stdout",
       "text": [
        "[ 0.92572825  0.86373854  0.56079195  0.78887221  0.71553436  0.50492702\n",
        "  0.55680011  0.57414214  0.52899604  0.68406922  0.61101952  0.69795498\n",
        "  0.51952551  0.63604349  0.64866501  0.52369948  0.54505657  0.79935146\n",
        "  0.57620104  0.58659075  0.50439854  0.80578692  0.52597913  0.4751019\n",
        "  0.55398875  0.51638773  0.70842828  0.60282681  0.42407868  0.71524789\n",
        "  0.51836011  0.58987435  0.55052854  0.73214289  0.51800435  0.5992352\n",
        "  0.64375927  0.52895647  0.51041173  0.55937526  0.45720873  0.7641704\n",
        "  0.43897273  0.71210005  0.52054901  0.53197609  0.51765178  0.51575347\n",
        "  0.53369463  0.48831288]\n",
        "\n",
        "Multipole Expansion of 50 particles takes 0.001834s.\n",
        "7.41384950927 times faster than Direct Summation.\n"
       ]
      }
     ],
     "prompt_number": 10
    },
    {
     "cell_type": "code",
     "collapsed": false,
     "input": [
      "err =  (phi_direct - phi_multi) / phi_direct\n",
      "print phi_direct - phi_multi\n",
      "print err\n",
      "l2 = numpy.linalg.norm(err, 2)\n",
      "print 'L2 Norm error : {}'.format(l2)"
     ],
     "language": "python",
     "metadata": {},
     "outputs": [
      {
       "output_type": "stream",
       "stream": "stdout",
       "text": [
        "[-0.00931454 -0.00686113 -0.00255096 -0.00692536 -0.0033345  -0.00163618\n",
        " -0.0023332  -0.00203213 -0.00104355 -0.00222694 -0.00273451 -0.00455372\n",
        " -0.00147771 -0.00223521 -0.00242601 -0.00160226 -0.00145595 -0.00319063\n",
        " -0.00247744 -0.00151102 -0.00095675 -0.00512906 -0.00139443 -0.00122452\n",
        " -0.00225005 -0.00182616 -0.00520796 -0.0010382  -0.00087822 -0.00239646\n",
        " -0.00196084 -0.00318794 -0.00216925 -0.00485175 -0.00110639 -0.0021872\n",
        " -0.00427957 -0.00132578 -0.00124427 -0.00235262 -0.00101771 -0.00574876\n",
        " -0.00087918 -0.00369339 -0.00161001 -0.00189647 -0.00160744 -0.00164915\n",
        " -0.00096911 -0.00141796]\n",
        "[-0.01016412 -0.00800713 -0.00456963 -0.00885656 -0.00468197 -0.00325097\n",
        " -0.004208   -0.00355199 -0.0019766  -0.00326606 -0.00449544 -0.00656722\n",
        " -0.00285246 -0.00352663 -0.00375404 -0.00306889 -0.00267834 -0.00400752\n",
        " -0.00431818 -0.00258258 -0.00190041 -0.00640606 -0.00265817 -0.00258404\n",
        " -0.00407812 -0.00354896 -0.00740587 -0.0017252  -0.0020752  -0.00336179\n",
        " -0.00379714 -0.0054338  -0.00395589 -0.00667099 -0.00214043 -0.00366336\n",
        " -0.00669226 -0.0025127  -0.00244374 -0.00422356 -0.00223089 -0.00757989\n",
        " -0.00200684 -0.00521366 -0.00310251 -0.0035777  -0.00311492 -0.00320782\n",
        " -0.00181915 -0.00291226]\n",
        "L2 Norm error : 0.0317176762656\n"
       ]
      }
     ],
     "prompt_number": 11
    },
    {
     "cell_type": "markdown",
     "metadata": {},
     "source": [
      "You can see from the result that using multipole expansion make it 10 time faster (depending on the number of particles) than direct summation. But we should always keep in mind that multipole expansion is only accurate when targets and sources are in a distance."
     ]
    }
   ],
   "metadata": {}
  }
 ]
}