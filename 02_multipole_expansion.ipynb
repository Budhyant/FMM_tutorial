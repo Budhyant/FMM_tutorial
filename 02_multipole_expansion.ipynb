{
 "metadata": {
  "name": "",
  "signature": "sha256:6ed68402a2939161920daa0c4cf78bdbace5d92a70befe4ff4d4ab3f6140352b"
 },
 "nbformat": 3,
 "nbformat_minor": 0,
 "worksheets": [
  {
   "cells": [
    {
     "cell_type": "markdown",
     "metadata": {},
     "source": [
      "###Step 2: *multipole expansion*"
     ]
    },
    {
     "cell_type": "markdown",
     "metadata": {},
     "source": [
      "second-order taylor expansion:\n",
      "$$\\begin{equation}\n",
      "\\begin{split}\n",
      "\\frac{1}{r} = \\frac{1}{R} &+ \\frac{1}{1!}\\left[ \\left( x-X \\right) \\frac{\\partial}{\\partial X} \\frac{1}{R} + \\left( y-Y \\right) \\frac{\\partial}{\\partial Y} \\frac{1}{R} + \\left( z-Z \\right) \\frac{\\partial}{\\partial Z} \\frac{1}{R} \\right] \\\\ \n",
      "&+ \\frac{1}{2!}\\left[ \\left( x-X \\right)^2 \\frac{\\partial^2}{\\partial X^2} \\frac{1}{R} + \\left( y-Y \\right)^2 \\frac{\\partial^2}{\\partial Y^2} \\frac{1}{R} + \\left( z-Z \\right)^2 \\frac{\\partial^2}{\\partial Z^2} \\frac{1}{R} \\\\ \n",
      "+ \\left( x-X \\right) \\left( y-Y \\right) \\frac{\\partial ^2}{\\partial X \\partial Y} \\frac{1}{R} + \\left( y-Y \\right) \\left( z-Z \\right) \\frac{\\partial ^2}{\\partial Y \\partial Z} \\frac{1}{R} + \\left( z-Z \\right) \\left( x-X \\right) \\frac{\\partial ^2}{\\partial Z \\partial X} \\frac{1}{R} \\right]\n",
      "\\end{split}\n",
      "\\end{equation}$$"
     ]
    },
    {
     "cell_type": "code",
     "collapsed": false,
     "input": [
      "# multipole expansion (2nd-order taylor series)\n",
      "x_c = 0.5     # center of expansion\n",
      "y_c = 0.5\n",
      "z_c = 0.5\n",
      "\n",
      "# multipole part only depends on source points j information\n",
      "multipole = numpy.zeros(10)     # 10 terms in the 2nd-order taylor expansion\n",
      "for j in range(10):\n",
      "    dx = x_c - x[j]     # dx = x - X\n",
      "    dy = y_c - y[j]     # dy = y - Y\n",
      "    dz = z_c - z[j]     # dz = z - Z\n",
      "    multipole[0] += m[j]     # monopole: 1 term\n",
      "    multipole[1] += m[j]*dx     # dipole: 3 terms\n",
      "    multipole[2] += m[j]*dy\n",
      "    multipole[3] += m[j]*dz\n",
      "    multipole[4] += m[j]*dx**2/2     # quadrupole: 6 terms\n",
      "    multipole[5] += m[j]*dy**2/2\n",
      "    multipole[6] += m[j]*dz**2/2\n",
      "    multipole[7] += m[j]*dx*dy/2\n",
      "    multipole[8] += m[j]*dy*dz/2\n",
      "    multipole[9] += m[j]*dz*dx/2\n",
      "\n",
      "# the other part only depends on target points i information\n",
      "phi = numpy.zeros(N)    \n",
      "for i in range(10):\n",
      "    X = x[i] - x_c\n",
      "    Y = y[i] - y_c\n",
      "    Z = z[i] - z_c\n",
      "    R = numpy.sqrt(X**2+Y**2+Z**2)\n",
      "    phi[i] += multipole[0]/R\n",
      "    phi[i] += multipole[1]*(-X/R**3)\n",
      "    phi[i] += multipole[2]*(-Y/R**3)\n",
      "    phi[i] += multipole[3]*(-Z/R**3)\n",
      "    phi[i] += multipole[4]*(3*X**2/R**5 - 1/R**3)\n",
      "    phi[i] += multipole[5]*(3*Y**2/R**5 - 1/R**3)\n",
      "    phi[i] += multipole[6]*(3*Z**2/R**5 - 1/R**3)\n",
      "    phi[i] += multipole[7]*(3*X*Y/R**5)\n",
      "    phi[i] += multipole[8]*(3*Y*Z/R**5)\n",
      "    phi[i] += multipole[9]*(3*Z*X/R**5)\n",
      "\n"
     ],
     "language": "python",
     "metadata": {},
     "outputs": []
    }
   ],
   "metadata": {}
  }
 ]
}