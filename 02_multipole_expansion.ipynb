{
 "metadata": {
  "name": "",
  "signature": "sha256:7c2e7692251a36761cb48978ab3aee4049df57bd4dbe9c3cf9ee9513eea51016"
 },
 "nbformat": 3,
 "nbformat_minor": 0,
 "worksheets": [
  {
   "cells": [
    {
     "cell_type": "code",
     "collapsed": false,
     "input": [
      "from IPython.core.display import HTML\n",
      "def css_styling():\n",
      "    styles = open('./style/fmmstyle.css', 'r').read()\n",
      "    return HTML(styles)\n",
      "css_styling()"
     ],
     "language": "python",
     "metadata": {
      "code_folding": [
       1
      ]
     },
     "outputs": [
      {
       "html": [
        "<link href='http://fonts.googleapis.com/css?family=Alegreya+Sans:100,300,400,500,700,800,900,100italic,300italic,400italic,500italic,700italic,800italic,900italic' rel='stylesheet' type='text/css'>\n",
        "<link href='http://fonts.googleapis.com/css?family=Arvo:400,700,400italic' rel='stylesheet' type='text/css'>\n",
        "<link href='http://fonts.googleapis.com/css?family=PT+Mono' rel='stylesheet' type='text/css'>\n",
        "<link href='http://fonts.googleapis.com/css?family=Shadows+Into+Light' rel='stylesheet' type='text/css'>\n",
        "<link href='http://fonts.googleapis.com/css?family=Nixie+One' rel='stylesheet' type='text/css'>\n",
        "<style>\n",
        "\n",
        "@font-face {\n",
        "    font-family: \"Computer Modern\";\n",
        "    src: url('http://mirrors.ctan.org/fonts/cm-unicode/fonts/otf/cmunss.otf');\n",
        "}\n",
        "\n",
        "#notebook_panel { /* main background */\n",
        "    background: rgb(245,245,245);\n",
        "}\n",
        "\n",
        "div.cell { /* set cell width */\n",
        "    width: 850px;\n",
        "}\n",
        "\n",
        "div #notebook { /* centre the content */\n",
        "    background: #fff; /* white background for content */\n",
        "    width: 1000px;\n",
        "    margin: auto;\n",
        "    padding-left: 0em;\n",
        "}\n",
        "\n",
        "#notebook li { /* More space between bullet points */\n",
        "margin-top:0.8em;\n",
        "}\n",
        "\n",
        "/* draw border around running cells */\n",
        "div.cell.border-box-sizing.code_cell.running { \n",
        "    border: 1px solid #111;\n",
        "}\n",
        "\n",
        "/* Put a solid color box around each cell and its output, visually linking them*/\n",
        "div.cell.code_cell {\n",
        "    background-color: rgb(256,256,256); \n",
        "    border-radius: 0px; \n",
        "    padding: 0.5em;\n",
        "    margin-left:1em;\n",
        "    margin-top: 1em;\n",
        "}\n",
        "\n",
        "div.text_cell_render{\n",
        "    font-family: 'Alegreya Sans' sans-serif;\n",
        "    line-height: 140%;\n",
        "    font-size: 125%;\n",
        "    font-weight: 400;\n",
        "    width:600px;\n",
        "    margin-left:auto;\n",
        "    margin-right:auto;\n",
        "}\n",
        "\n",
        "\n",
        "/* Formatting for header cells */\n",
        ".text_cell_render h1 {\n",
        "    font-family: 'Nixie One', serif;\n",
        "    font-style:regular;\n",
        "    font-weight: 400;    \n",
        "    font-size: 45pt;\n",
        "    line-height: 100%;\n",
        "    color: rgb(0,51,102);\n",
        "    margin-bottom: 0.5em;\n",
        "    margin-top: 0.5em;\n",
        "    display: block;\n",
        "}\t\n",
        ".text_cell_render h2 {\n",
        "    font-family: 'Nixie One', serif;\n",
        "    font-weight: 400;\n",
        "    font-size: 30pt;\n",
        "    line-height: 100%;\n",
        "    color: rgb(0,51,102);\n",
        "    margin-bottom: 0.1em;\n",
        "    margin-top: 0.3em;\n",
        "    display: block;\n",
        "}\t\n",
        "\n",
        ".text_cell_render h3 {\n",
        "    font-family: 'Nixie One', serif;\n",
        "    margin-top:16px;\n",
        "\tfont-size: 22pt;\n",
        "    font-weight: 600;\n",
        "    margin-bottom: 3px;\n",
        "    font-style: regular;\n",
        "    color: rgb(102,102,0);\n",
        "}\n",
        "\n",
        ".text_cell_render h4 {    /*Use this for captions*/\n",
        "    font-family: 'Nixie One', serif;\n",
        "    font-size: 14pt;\n",
        "    text-align: center;\n",
        "    margin-top: 0em;\n",
        "    margin-bottom: 2em;\n",
        "    font-style: regular;\n",
        "}\n",
        "\n",
        ".text_cell_render h5 {  /*Use this for small titles*/\n",
        "    font-family: 'Nixie One', sans-serif;\n",
        "    font-weight: 400;\n",
        "    font-size: 16pt;\n",
        "    color: rgb(163,0,0);\n",
        "    font-style: italic;\n",
        "    margin-bottom: .1em;\n",
        "    margin-top: 0.8em;\n",
        "    display: block;\n",
        "}\n",
        "\n",
        ".text_cell_render h6 { /*use this for copyright note*/\n",
        "    font-family: 'PT Mono', sans-serif;\n",
        "    font-weight: 300;\n",
        "    font-size: 9pt;\n",
        "    line-height: 100%;\n",
        "    color: grey;\n",
        "    margin-bottom: 1px;\n",
        "    margin-top: 1px;\n",
        "}\n",
        "\n",
        ".CodeMirror{\n",
        "        font-family: \"PT Mono\";\n",
        "        font-size: 90%;\n",
        "}\n",
        "\n",
        "</style>\n",
        "<script>\n",
        "    MathJax.Hub.Config({\n",
        "                        TeX: {\n",
        "                           extensions: [\"AMSmath.js\"],\n",
        "                           equationNumbers: { autoNumber: \"AMS\", useLabelIds: true}\n",
        "                           },\n",
        "                tex2jax: {\n",
        "                    inlineMath: [ ['$','$'], [\"\\\\(\",\"\\\\)\"] ],\n",
        "                    displayMath: [ ['$$','$$'], [\"\\\\[\",\"\\\\]\"] ]\n",
        "                },\n",
        "                displayAlign: 'center', // Change this to 'center' to center equations.\n",
        "                \"HTML-CSS\": {\n",
        "                    styles: {'.MathJax_Display': {\"margin\": 4}}\n",
        "                }\n",
        "        });\n",
        "</script>\n"
       ],
       "metadata": {},
       "output_type": "pyout",
       "prompt_number": 12,
       "text": [
        "<IPython.core.display.HTML at 0x106279b10>"
       ]
      }
     ],
     "prompt_number": 12
    },
    {
     "cell_type": "code",
     "collapsed": false,
     "input": [
      "%%javascript\n",
      "IPython.load_extensions('usability/codefolding/codefolding')"
     ],
     "language": "python",
     "metadata": {},
     "outputs": [
      {
       "javascript": [
        "IPython.load_extensions('usability/codefolding/codefolding')"
       ],
       "metadata": {},
       "output_type": "display_data",
       "text": [
        "<IPython.core.display.Javascript at 0x10463aa50>"
       ]
      }
     ],
     "prompt_number": 13
    },
    {
     "cell_type": "markdown",
     "metadata": {},
     "source": [
      "##Step 2: Multipole Expansion"
     ]
    },
    {
     "cell_type": "code",
     "collapsed": false,
     "input": [
      "# importing libraries\n",
      "import numpy\n",
      "from matplotlib import pyplot, rcParams\n",
      "%matplotlib inline\n",
      "from mpl_toolkits.mplot3d import Axes3D\n",
      "\n",
      "# customizing plot parameters\n",
      "rcParams['figure.dpi'] = 100\n",
      "rcParams['font.size'] = 16\n",
      "rcParams['font.family'] = 'StixGeneral'"
     ],
     "language": "python",
     "metadata": {
      "code_folding": []
     },
     "outputs": [],
     "prompt_number": 14
    },
    {
     "cell_type": "markdown",
     "metadata": {},
     "source": [
      "The direct summation method calculates the gravitational potential by the equation:\n",
      "\n",
      "$$\\begin{equation}\n",
      "\\Phi_i = \\sum_{\\substack{j=0\\\\ j \\neq i}}^N{\\frac{m_j}{r_{ij}}}\n",
      "\\end{equation}$$\n",
      "\n",
      "where we evaluate each source particle's effect on each target particle, and the computation complexity is $\\mathcal{O} \\left(N^2 \\right)$. We can use direct summation for a small scale of particles, but when it comes to a larger scale, the computation time grows proportionally to the square of particles number. "
     ]
    },
    {
     "cell_type": "markdown",
     "metadata": {},
     "source": [
      "Instead of calculating all pair interactions, here we introduce a treecode method, in which the simulation volume is divided up into cubic cells via an octree, so that only particles from **nearby cells** need to be treated individually (as **direct summation**), and particles in **distant cells** can be treated as a single large particle centered at the cell's center of mass (or as a **low-order multipole expansion**). This can dramatically reduce the computational cost.\n",
      "\n",
      "<img src=\"image/quad_tree.png\">\n",
      "\n",
      "The figure above shows a quadtree structure for a 2D particle distribution. When we are calculating the potential at target (red), we loop over each source particles nearby (green) and use multipole expansion to evaluate the effect of the grouped distant sources (blue).\n",
      "\n",
      "First, we introduce multipole expansion at a cell's center. In a word, we want to decouple the interaction term $\\frac{m_j}{r_{ij}}$ for the particles in a distance:\n",
      "\n",
      "$$\\begin{equation}\n",
      "\\Phi_i = \\sum_{j=0}^N{\\frac{m_j}{r_{ij}}} = \\sum_{j=0}^N {A_j B_i}\n",
      "\\end{equation}$$\n",
      "\n",
      "where $A_j$ is the term that only depends on source particles, and $B_i$ is the part depending on target particles.\n",
      "\n",
      "Recall the second-order taylor expansion in three variables $x$, $y$, $z$:\n",
      "\n",
      "$$\\begin{equation}\\begin{split}\n",
      "f(x,y,z) & \\approx f(a,b,c) + \\left(x-a\\right)f_x(a,b,c) + \\left(y-b\\right)f_y(a,b,c) + \\left(z-c\\right)f_z(a,b,c) \\\\\n",
      "& + \\frac{1}{2!}[\\left(x-a\\right)^2f_{xx}(a,b,c) + \\left(y-b\\right)^2f_{yy}(a,b,c) + \\left(z-c\\right)^2f_{zz}(a,b,c) \\\\\n",
      "& + 2\\left(x-a\\right)\\left(y-b\\right)f_{xy}(a,b,c) + 2\\left(y-b\\right)\\left(z-c\\right)f_{yz}(a,b,c) \\\\ \n",
      "& + 2\\left(z-c\\right)\\left(x-a\\right)f_{zx}(a,b,c)]\n",
      "\\end{split}\\end{equation}$$\n",
      "\n",
      "We assume that: \n",
      "$$f(x_j,y_j,z_j) = \\frac{m_{j}}{r_{ij}} = \\frac{m_{j}}{\\sqrt{(x_i-x_j)^2 + (y_i-y_j)^2 + (z_i-z_j)^2}}$$ \n",
      "\n",
      "<img src=\"image/multipole.png\">\n",
      "\n",
      "Here we expand the interaction term $f(x_j,y_j,z_j)$ around a center point $(x_c, y_c, z_c)$ to the second order: \n",
      "\n",
      "$$\\begin{equation}\\begin{split}\n",
      "f(x_j,y_j,z_j) & \\approx f(x_c,y_c,z_c) + (x_j-x_c)\\, f_{x_j}\\rvert_c + (y_j-y_c)\\, f_{y_j}\\rvert_c + (z_j-z_c)\\, f_{z_j}\\rvert_c \\\\\n",
      "& + \\frac{1}{2!}[(x_j-x_c)^2f_{x_jx_j}\\rvert_c + (y_j-y_c)^2f_{y_jy_j}\\rvert_c + (z_j-z_c)^2f_{z_jz_j}\\rvert_c \\\\\n",
      "& + 2(x_j-x_c)(y_j-y_c)f_{x_jy_j}\\rvert_c + 2(y_j-y_c)(z_j-z_c)f_{y_jz_j}\\rvert_c \\\\ \n",
      "& + 2(z_j-z_c)(x_j-x_c)f_{z_jx_j}\\rvert_c]\n",
      "\\end{split}\\end{equation}$$\n",
      "\n",
      "then we calculate each derivative's value at the expansion center $(x_c,y_c,z_c)$:\n",
      "\n",
      "$$\\begin{equation}\\begin{split}\n",
      "& f_{x_j}\\rvert_c = \\frac{x_i-x_c}{R^3} m_j\\\\\n",
      "& f_{x_jx_j}\\rvert_c = \\left(\\frac{3(x_i-x_c)^2}{R^5} - \\frac{1}{R^3}\\right) m_j \\\\\n",
      "& f_{x_jy_j}\\rvert_c = \\frac{3(x_i-x_c)(y_i-y_c)}{R^5} m_j\n",
      "\\end{split}\\end{equation}$$\n",
      "\n",
      "where $R$ is the distance between target particle $i$ and the cell's center $c$. Now let's write out the interaction term again:\n",
      "\n",
      "$$\\begin{equation}\\begin{split}\n",
      "\\frac{m_j}{r_{ij}} & \\approx \\frac{m_j}{R} + m_j(x_c-x_j)\\left(-\\frac{x_i-x_c}{R^3}\\right) + m_j(y_c-y_j)\\left(-\\frac{y_i-y_c}{R^3}\\right) \\\\\n",
      "& + m_j(z_c-z_j)\\left(-\\frac{z_i-z_c}{R^3}\\right) + \\frac{m_j(x_c-x_j)^2}{2}\\left(\\frac{3(x_i-x_c)^2}{R^5} - \\frac{1}{R^3}\\right) \\\\\n",
      "& + \\frac{m_j(y_c-y_j)^2}{2}\\left(\\frac{3(y_i-y_c)^2}{R^5} - \\frac{1}{R^3}\\right) + \\frac{m_j(z_c-z_j)^2}{2}\\left(\\frac{3(z_i-z_c)^2}{R^5} - \\frac{1}{R^3}\\right) \\\\\n",
      "& + \\frac{m_j(x_c-x_j)(y_c-y_j)}{2}\\frac{3(x_i-x_c)(y_i-y_c)}{R^5} \\\\\n",
      "& + \\frac{m_j(y_c-y_j)(z_c-z_j)}{2}\\frac{3(y_i-y_c)(z_i-z_c)}{R^5} \\\\\n",
      "& + \\frac{m_j(z_c-z_j)(x_c-x_j)}{2}\\frac{3(z_i-z_c)(x_i-x_c)}{R^5}\n",
      "\\end{split}\\end{equation}$$\n",
      "\n",
      "Note that for each term, the first part only depends on source particle $j$, that means as long as we know the source particle information in a cell, we can calculate this part independently with targets $i$. There are altogether 10 terms in the expansion, and we call the first term $m_j$ as **monopole**, from the second to the fourth $m_j(x_c-x_j)$, $m_j(y_c-y_j)$, $m_j(z_c-z_j)$ we call them **dipole**, the remaining six terms $\\frac{m_j(x_c-x_j)^2}{2}$, $\\frac{m_j(y_c-y_j)^2}{2}$, $\\frac{m_j(z_c-z_j)^2}{2}$, $\\frac{m_j(x_c-x_j)(y_c-y_j)}{2}$, $\\frac{m_j(y_c-y_j)(z_c-z_j)}{2}$, $\\frac{m_j(z_c-z_j)(x_c-x_j)}{2}$ are called **quadrupole** with a second-order term in $x_j$.\n",
      "That is why we call this a **multipole expansion**. The multipoles have no relationship with target particles, so we can calculate those constants before looping in $i$. The second part in each term only depends on target particles $i$, so we can calculate this part in the loop. "
     ]
    },
    {
     "cell_type": "markdown",
     "metadata": {},
     "source": [
      "This time we use a different list of target particles (with subscript $i$) and source particles (with subscript $j$) for the following function."
     ]
    },
    {
     "cell_type": "code",
     "collapsed": false,
     "input": [
      "# multipole expansion (2nd-order taylor series)\n",
      "def multiple_exp(n, x_i, y_i, z_i, x_j, y_j, z_j, m_j, x_c, y_c, z_c):\n",
      "    # multipole expansion: only depends on source points j information\n",
      "    multipole = numpy.zeros(10)     # 10 terms in the 2nd-order taylor expansion\n",
      "    for j in range(n):\n",
      "        dx = x_c - x_j[j]     # dx = x - X\n",
      "        dy = y_c - y_j[j]     # dy = y - Y\n",
      "        dz = z_c - z_j[j]     # dz = z - Z\n",
      "        multipole[0] += m_j[j]             # monopole: 1 term\n",
      "        multipole[1] += m_j[j]*dx          # dipole: 3 terms\n",
      "        multipole[2] += m_j[j]*dy\n",
      "        multipole[3] += m_j[j]*dz\n",
      "        multipole[4] += m_j[j]*dx**2/2     # quadrupole: 6 terms\n",
      "        multipole[5] += m_j[j]*dy**2/2\n",
      "        multipole[6] += m_j[j]*dz**2/2\n",
      "        multipole[7] += m_j[j]*dx*dy/2\n",
      "        multipole[8] += m_j[j]*dy*dz/2\n",
      "        multipole[9] += m_j[j]*dz*dx/2\n",
      "\n",
      "    # evaluate potential: only depends on target points i information\n",
      "    phi = numpy.zeros(n)    \n",
      "    for i in range(n):\n",
      "        X = x_i[i] - x_c\n",
      "        Y = y_i[i] - y_c\n",
      "        Z = z_i[i] - z_c\n",
      "        R = numpy.sqrt(X**2+Y**2+Z**2)\n",
      "        R3 = R**3\n",
      "        R5 = R**5\n",
      "        phi[i] += multipole[0]/R\n",
      "        phi[i] += multipole[1]*(-X/R3)\n",
      "        phi[i] += multipole[2]*(-Y/R3)\n",
      "        phi[i] += multipole[3]*(-Z/R3)\n",
      "        phi[i] += multipole[4]*(3*X**2/R5 - 1/R3)\n",
      "        phi[i] += multipole[5]*(3*Y**2/R5 - 1/R3)\n",
      "        phi[i] += multipole[6]*(3*Z**2/R5 - 1/R3)\n",
      "        phi[i] += multipole[7]*(3*X*Y/R5)\n",
      "        phi[i] += multipole[8]*(3*Y*Z/R5)\n",
      "        phi[i] += multipole[9]*(3*Z*X/R5)\n",
      "    return phi"
     ],
     "language": "python",
     "metadata": {},
     "outputs": [],
     "prompt_number": 15
    },
    {
     "cell_type": "code",
     "collapsed": false,
     "input": [
      "# direct summation\n",
      "def direct_sum(n, x_i, y_i, z_i, x_j, y_j, z_j, m_j):\n",
      "    \"\"\"Calculate the gravitational potential at each target particle i using direct summation method.\n",
      "\n",
      "    Argument:\n",
      "      n: number of particles\n",
      "      x_i, y_i, z_i: coordinates array of target particles\n",
      "      x_j, y_j, z_j: coordinates array of source particles\n",
      "      m_j: mass array of source particles\n",
      "      \n",
      "    Returns:\n",
      "      phi: potential array of particles\n",
      "      \n",
      "    \"\"\"\n",
      "    phi = numpy.zeros(n)       # initialize potential array and offset the additional term\n",
      "    for i in range(n):\n",
      "        for j in range(n):\n",
      "            dx, dy, dz = x_i[i]-x_j[j], y_i[i]-y_j[j], z_i[i]-z_j[j]\n",
      "            r = numpy.sqrt(dx**2 + dy**2 + dz**2)\n",
      "            phi[i] += m_j[j]/r\n",
      "    return phi"
     ],
     "language": "python",
     "metadata": {},
     "outputs": [],
     "prompt_number": 16
    },
    {
     "cell_type": "code",
     "collapsed": false,
     "input": [
      "# initialize the coordinates and mass array\n",
      "\n",
      "n = 50                          # number of particles\n",
      "x_i, y_i, z_i = -numpy.random.rand(n), -numpy.random.rand(n), -numpy.random.rand(n)   # generate random coordinates from 0 to 1\n",
      "x_j, y_j, z_j = numpy.random.rand(n), numpy.random.rand(n), numpy.random.rand(n)   # generate random coordinates from 0 to 1\n",
      "m_j = 1.0/n * numpy.ones(n)     # assume uniform mass"
     ],
     "language": "python",
     "metadata": {},
     "outputs": [],
     "prompt_number": 17
    },
    {
     "cell_type": "markdown",
     "metadata": {},
     "source": [
      "The spatial distribution of target (red) and source (blue) particles should look like this."
     ]
    },
    {
     "cell_type": "code",
     "collapsed": false,
     "input": [
      "fig = pyplot.figure(figsize=(8,6))\n",
      "ax = Axes3D(fig)\n",
      "ax.scatter(x_i, y_i, z_i, c='r')\n",
      "ax.scatter(x_j, y_j, z_j, c='b')\n",
      "ax.set_xlim(-1,1)\n",
      "ax.set_ylim(-1,1)\n",
      "ax.set_zlim(-1,1);"
     ],
     "language": "python",
     "metadata": {},
     "outputs": [
      {
       "metadata": {},
       "output_type": "display_data",
       "png": "[encoded data removed]",
       "text": [
        "<matplotlib.figure.Figure at 0x106356710>"
       ]
      }
     ],
     "prompt_number": 18
    },
    {
     "cell_type": "code",
     "collapsed": false,
     "input": [
      "phi_direct = direct_sum(n, x_i, y_i, z_i, x_j, y_j, z_j, m_j)\n",
      "print phi_direct\n"
     ],
     "language": "python",
     "metadata": {},
     "outputs": [
      {
       "output_type": "stream",
       "stream": "stdout",
       "text": [
        "[ 0.5496402   0.56722196  0.56443184  0.48531856  0.46147687  0.54210786\n",
        "  0.49697095  0.46427205  0.56171143  0.49173546  0.56016802  0.44326708\n",
        "  0.5541702   0.61194837  0.43496495  0.50712312  0.70149306  0.4387516\n",
        "  0.48428129  0.44785204  0.75187252  0.54285083  0.49451391  0.44037311\n",
        "  0.43189757  0.54226694  0.43815269  0.55865705  0.52670656  0.56557982\n",
        "  0.66700572  0.52328196  0.53188397  0.57508324  0.7129332   0.53980939\n",
        "  0.52793116  0.60535075  0.58016128  0.46565847  0.47487214  0.48713319\n",
        "  0.58066648  0.55649309  0.57930106  0.49782014  0.71178159  0.46823313\n",
        "  0.48516887  0.58588431]\n"
       ]
      }
     ],
     "prompt_number": 19
    },
    {
     "cell_type": "code",
     "collapsed": false,
     "input": [
      "phi_multi = multiple_exp(n, x_i, y_i, z_i, x_j, y_j, z_j, m_j, 0.5, 0.5, 0.5)\n",
      "\n",
      "\n",
      "print phi_multi"
     ],
     "language": "python",
     "metadata": {},
     "outputs": [
      {
       "output_type": "stream",
       "stream": "stdout",
       "text": [
        "[ 0.5521183   0.56816442  0.56720861  0.48639024  0.46272526  0.54443995\n",
        "  0.497593    0.46576002  0.56361863  0.49355878  0.56274383  0.44455899\n",
        "  0.55672919  0.61528089  0.43605427  0.50867134  0.70590141  0.43979987\n",
        "  0.48596619  0.44917976  0.75853942  0.54464018  0.49597646  0.44154301\n",
        "  0.43262627  0.54375854  0.43937879  0.56118847  0.52894888  0.56755465\n",
        "  0.67104627  0.52539101  0.5340251   0.57728131  0.71775048  0.54171093\n",
        "  0.53012931  0.60696541  0.5823624   0.46714166  0.47642726  0.48884304\n",
        "  0.58344835  0.55835487  0.58165297  0.49959439  0.71741828  0.46973452\n",
        "  0.48645562  0.58897248]\n"
       ]
      }
     ],
     "prompt_number": 20
    },
    {
     "cell_type": "code",
     "collapsed": false,
     "input": [
      "err =  (phi_direct - phi_multi) / phi_direct\n",
      "print phi_direct - phi_multi\n",
      "print err\n",
      "l2 = numpy.linalg.norm(err, 2)\n",
      "print 'L2 Norm error : {}'.format(l2)"
     ],
     "language": "python",
     "metadata": {},
     "outputs": [
      {
       "output_type": "stream",
       "stream": "stdout",
       "text": [
        "[-0.0024781  -0.00094246 -0.00277677 -0.00107168 -0.00124839 -0.00233209\n",
        " -0.00062205 -0.00148796 -0.0019072  -0.00182332 -0.00257581 -0.00129191\n",
        " -0.00255899 -0.00333252 -0.00108932 -0.00154822 -0.00440835 -0.00104827\n",
        " -0.0016849  -0.00132772 -0.0066669  -0.00178935 -0.00146256 -0.0011699\n",
        " -0.0007287  -0.0014916  -0.0012261  -0.00253142 -0.00224232 -0.00197483\n",
        " -0.00404055 -0.00210905 -0.00214112 -0.00219807 -0.00481728 -0.00190154\n",
        " -0.00219815 -0.00161467 -0.00220113 -0.00148318 -0.00155512 -0.00170985\n",
        " -0.00278187 -0.00186178 -0.00235192 -0.00177425 -0.00563668 -0.00150139\n",
        " -0.00128675 -0.00308817]\n",
        "[-0.00450858 -0.00166153 -0.00491958 -0.00220821 -0.0027052  -0.0043019\n",
        " -0.00125168 -0.00320493 -0.00339534 -0.00370794 -0.00459829 -0.00291452\n",
        " -0.0046177  -0.00544576 -0.00250439 -0.00305295 -0.00628425 -0.00238922\n",
        " -0.00347918 -0.00296464 -0.00886706 -0.00329622 -0.00295757 -0.00265661\n",
        " -0.0016872  -0.00275067 -0.00279834 -0.00453126 -0.00425724 -0.00349169\n",
        " -0.00605774 -0.00403043 -0.00402555 -0.00382217 -0.00675699 -0.00352262\n",
        " -0.0041637  -0.00266733 -0.00379399 -0.00318513 -0.00327482 -0.00351003\n",
        " -0.00479082 -0.00334556 -0.00405992 -0.00356403 -0.00791912 -0.00320651\n",
        " -0.00265217 -0.00527095]\n",
        "L2 Norm error : 0.028927391133\n"
       ]
      }
     ],
     "prompt_number": 21
    },
    {
     "cell_type": "markdown",
     "metadata": {},
     "source": [
      "You can see from the result that using multipole expansion make it 10 time faster (depending on the number of particles) than direct summation. But we should always keep in mind that multipole expansion is only accurate when targets and sources are in a distance."
     ]
    }
   ],
   "metadata": {}
  }
 ]
}