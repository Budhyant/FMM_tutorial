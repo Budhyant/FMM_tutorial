{
 "metadata": {
  "name": "",
  "signature": "sha256:fadb3a6e8547fc0ebc06d0c712261c35ca2079d367dde4cccda7e791305c5d1b"
 },
 "nbformat": 3,
 "nbformat_minor": 0,
 "worksheets": [
  {
   "cells": [
    {
     "cell_type": "code",
     "collapsed": false,
     "input": [
      "from IPython.core.display import HTML\n",
      "def css_styling():\n",
      "    styles = open('./style/fmmstyle.css', 'r').read()\n",
      "    return HTML(styles)\n",
      "css_styling()"
     ],
     "language": "python",
     "metadata": {
      "code_folding": [
       1
      ]
     },
     "outputs": [
      {
       "html": [
        "<link href='http://fonts.googleapis.com/css?family=Alegreya+Sans:100,300,400,500,700,800,900,100italic,300italic,400italic,500italic,700italic,800italic,900italic' rel='stylesheet' type='text/css'>\n",
        "<link href='http://fonts.googleapis.com/css?family=Arvo:400,700,400italic' rel='stylesheet' type='text/css'>\n",
        "<link href='http://fonts.googleapis.com/css?family=PT+Mono' rel='stylesheet' type='text/css'>\n",
        "<link href='http://fonts.googleapis.com/css?family=Shadows+Into+Light' rel='stylesheet' type='text/css'>\n",
        "<link href='http://fonts.googleapis.com/css?family=Nixie+One' rel='stylesheet' type='text/css'>\n",
        "<style>\n",
        "\n",
        "@font-face {\n",
        "    font-family: \"Computer Modern\";\n",
        "    src: url('http://mirrors.ctan.org/fonts/cm-unicode/fonts/otf/cmunss.otf');\n",
        "}\n",
        "\n",
        "#notebook_panel { /* main background */\n",
        "    background: rgb(245,245,245);\n",
        "}\n",
        "\n",
        "div.cell { /* set cell width */\n",
        "    width: 850px;\n",
        "}\n",
        "\n",
        "div #notebook { /* centre the content */\n",
        "    background: #fff; /* white background for content */\n",
        "    width: 1000px;\n",
        "    margin: auto;\n",
        "    padding-left: 0em;\n",
        "}\n",
        "\n",
        "#notebook li { /* More space between bullet points */\n",
        "margin-top:0.8em;\n",
        "}\n",
        "\n",
        "/* draw border around running cells */\n",
        "div.cell.border-box-sizing.code_cell.running { \n",
        "    border: 1px solid #111;\n",
        "}\n",
        "\n",
        "/* Put a solid color box around each cell and its output, visually linking them*/\n",
        "div.cell.code_cell {\n",
        "    background-color: rgb(256,256,256); \n",
        "    border-radius: 0px; \n",
        "    padding: 0.5em;\n",
        "    margin-left:1em;\n",
        "    margin-top: 1em;\n",
        "}\n",
        "\n",
        "div.text_cell_render{\n",
        "    font-family: 'Alegreya Sans' sans-serif;\n",
        "    line-height: 140%;\n",
        "    font-size: 125%;\n",
        "    font-weight: 400;\n",
        "    width:600px;\n",
        "    margin-left:auto;\n",
        "    margin-right:auto;\n",
        "}\n",
        "\n",
        "\n",
        "/* Formatting for header cells */\n",
        ".text_cell_render h1 {\n",
        "    font-family: 'Nixie One', serif;\n",
        "    font-style:regular;\n",
        "    font-weight: 400;    \n",
        "    font-size: 45pt;\n",
        "    line-height: 100%;\n",
        "    color: rgb(0,51,102);\n",
        "    margin-bottom: 0.5em;\n",
        "    margin-top: 0.5em;\n",
        "    display: block;\n",
        "}\t\n",
        ".text_cell_render h2 {\n",
        "    font-family: 'Nixie One', serif;\n",
        "    font-weight: 400;\n",
        "    font-size: 30pt;\n",
        "    line-height: 100%;\n",
        "    color: rgb(0,51,102);\n",
        "    margin-bottom: 0.1em;\n",
        "    margin-top: 0.3em;\n",
        "    display: block;\n",
        "}\t\n",
        "\n",
        ".text_cell_render h3 {\n",
        "    font-family: 'Nixie One', serif;\n",
        "    margin-top:16px;\n",
        "\tfont-size: 22pt;\n",
        "    font-weight: 600;\n",
        "    margin-bottom: 3px;\n",
        "    font-style: regular;\n",
        "    color: rgb(102,102,0);\n",
        "}\n",
        "\n",
        ".text_cell_render h4 {    /*Use this for captions*/\n",
        "    font-family: 'Nixie One', serif;\n",
        "    font-size: 14pt;\n",
        "    text-align: center;\n",
        "    margin-top: 0em;\n",
        "    margin-bottom: 2em;\n",
        "    font-style: regular;\n",
        "}\n",
        "\n",
        ".text_cell_render h5 {  /*Use this for small titles*/\n",
        "    font-family: 'Nixie One', sans-serif;\n",
        "    font-weight: 400;\n",
        "    font-size: 16pt;\n",
        "    color: rgb(163,0,0);\n",
        "    font-style: italic;\n",
        "    margin-bottom: .1em;\n",
        "    margin-top: 0.8em;\n",
        "    display: block;\n",
        "}\n",
        "\n",
        ".text_cell_render h6 { /*use this for copyright note*/\n",
        "    font-family: 'PT Mono', sans-serif;\n",
        "    font-weight: 300;\n",
        "    font-size: 9pt;\n",
        "    line-height: 100%;\n",
        "    color: grey;\n",
        "    margin-bottom: 1px;\n",
        "    margin-top: 1px;\n",
        "}\n",
        "\n",
        ".CodeMirror{\n",
        "        font-family: \"PT Mono\";\n",
        "        font-size: 90%;\n",
        "}\n",
        "\n",
        "</style>\n",
        "<script>\n",
        "    MathJax.Hub.Config({\n",
        "                        TeX: {\n",
        "                           extensions: [\"AMSmath.js\"],\n",
        "                           equationNumbers: { autoNumber: \"AMS\", useLabelIds: true}\n",
        "                           },\n",
        "                tex2jax: {\n",
        "                    inlineMath: [ ['$','$'], [\"\\\\(\",\"\\\\)\"] ],\n",
        "                    displayMath: [ ['$$','$$'], [\"\\\\[\",\"\\\\]\"] ]\n",
        "                },\n",
        "                displayAlign: 'center', // Change this to 'center' to center equations.\n",
        "                \"HTML-CSS\": {\n",
        "                    styles: {'.MathJax_Display': {\"margin\": 4}}\n",
        "                }\n",
        "        });\n",
        "</script>\n"
       ],
       "metadata": {},
       "output_type": "pyout",
       "prompt_number": 1,
       "text": [
        "<IPython.core.display.HTML at 0x1038326d0>"
       ]
      }
     ],
     "prompt_number": 1
    },
    {
     "cell_type": "code",
     "collapsed": false,
     "input": [
      "%%javascript\n",
      "IPython.load_extensions('usability/codefolding/codefolding')"
     ],
     "language": "python",
     "metadata": {},
     "outputs": [
      {
       "javascript": [
        "IPython.load_extensions('usability/codefolding/codefolding')"
       ],
       "metadata": {},
       "output_type": "display_data",
       "text": [
        "<IPython.core.display.Javascript at 0x1043fc810>"
       ]
      }
     ],
     "prompt_number": 2
    },
    {
     "cell_type": "markdown",
     "metadata": {},
     "source": [
      "##Step 2: Multipole Expansion"
     ]
    },
    {
     "cell_type": "code",
     "collapsed": false,
     "input": [
      "# importing libraries\n",
      "import numpy\n",
      "from matplotlib import pyplot, rcParams\n",
      "%matplotlib inline\n",
      "from mpl_toolkits.mplot3d import Axes3D\n",
      "\n",
      "# customizing plot parameters\n",
      "rcParams['figure.dpi'] = 100\n",
      "rcParams['font.size'] = 16\n",
      "rcParams['font.family'] = 'StixGeneral'"
     ],
     "language": "python",
     "metadata": {
      "code_folding": []
     },
     "outputs": [],
     "prompt_number": 3
    },
    {
     "cell_type": "markdown",
     "metadata": {},
     "source": [
      "The direct summation method calculates the gravitational potential by the equation:\n",
      "\n",
      "$$\\begin{equation}\n",
      "\\Phi_i = \\sum_{\\substack{j=0\\\\ j \\neq i}}^N{\\frac{m_j}{r_{ij}}}\n",
      "\\end{equation}$$\n",
      "\n",
      "where we evaluate each source particle's effect on each target particle, and the computation complexity is $\\mathcal{O} \\left(N^2 \\right)$. We can use direct summation for a small scale of particles, but when it comes to a larger scale, the computation time grows proportionally to the square of particles number. "
     ]
    },
    {
     "cell_type": "markdown",
     "metadata": {},
     "source": [
      "Instead of calculating all pair interactions, here we introduce a treecode method, in which the simulation volume is divided up into cubic cells via an octree, so that only particles from **nearby cells** need to be treated individually (as **direct summation**), and particles in **distant cells** can be treated as a single large particle centered at the cell's center of mass (or as a **low-order multipole expansion**). This can dramatically reduce the computational cost.\n",
      "\n",
      "<img src=\"image/quad_tree.png\">\n",
      "\n",
      "The figure above shows a quadtree structure for a 2D particle distribution. When we are calculating the potential at target (red), we loop over each source particles nearby (green) and use multipole expansion to evaluate the effect of the grouped distant sources (blue).\n",
      "\n",
      "First, we introduce multipole expansion at a cell's center. In a word, we want to decouple the interaction term $\\frac{m_j}{r_{ij}}$ for the particles in a distance:\n",
      "\n",
      "$$\\begin{equation}\n",
      "\\Phi_i = \\sum_{j=0}^N{\\frac{m_j}{r_{ij}}} = \\sum_{j=0}^N {A_j B_i}\n",
      "\\end{equation}$$\n",
      "\n",
      "where $A_j$ is the term that only depends on source particles, and $B_i$ is the part depending on target particles.\n",
      "\n",
      "Recall the second-order taylor expansion in three variables $x$, $y$, $z$:\n",
      "\n",
      "$$\\begin{equation}\\begin{split}\n",
      "f(x,y,z) & \\approx f(a,b,c) + \\left(x-a\\right)f_x(a,b,c) + \\left(y-b\\right)f_y(a,b,c) + \\left(z-c\\right)f_z(a,b,c) \\\\\n",
      "& + \\frac{1}{2!}[\\left(x-a\\right)^2f_{xx}(a,b,c) + \\left(y-b\\right)^2f_{yy}(a,b,c) + \\left(z-c\\right)^2f_{zz}(a,b,c) \\\\\n",
      "& + 2\\left(x-a\\right)\\left(y-b\\right)f_{xy}(a,b,c) + 2\\left(y-b\\right)\\left(z-c\\right)f_{yz}(a,b,c) \\\\ \n",
      "& + 2\\left(z-c\\right)\\left(x-a\\right)f_{zx}(a,b,c)]\n",
      "\\end{split}\\end{equation}$$\n",
      "\n",
      "We assume that: \n",
      "$$f(x_j,y_j,z_j) = \\frac{m_{j}}{r_{ij}} = \\frac{m_{j}}{\\sqrt{(x_i-x_j)^2 + (y_i-y_j)^2 + (z_i-z_j)^2}}$$ \n",
      "\n",
      "<img src=\"image/multipole.png\">\n",
      "\n",
      "Here we expand the interaction term $f(x_j,y_j,z_j)$ around a center point $(x_c, y_c, z_c)$ to the second order: \n",
      "\n",
      "$$\\begin{equation}\\begin{split}\n",
      "f(x_j,y_j,z_j) & \\approx f(x_c,y_c,z_c) + (x_j-x_c)\\, f_{x_j}\\rvert_c + (y_j-y_c)\\, f_{y_j}\\rvert_c + (z_j-z_c)\\, f_{z_j}\\rvert_c \\\\\n",
      "& + \\frac{1}{2!}[(x_j-x_c)^2f_{x_jx_j}\\rvert_c + (y_j-y_c)^2f_{y_jy_j}\\rvert_c + (z_j-z_c)^2f_{z_jz_j}\\rvert_c \\\\\n",
      "& + 2(x_j-x_c)(y_j-y_c)f_{x_jy_j}\\rvert_c + 2(y_j-y_c)(z_j-z_c)f_{y_jz_j}\\rvert_c \\\\ \n",
      "& + 2(z_j-z_c)(x_j-x_c)f_{z_jx_j}\\rvert_c]\n",
      "\\end{split}\\end{equation}$$\n",
      "\n",
      "then we calculate each derivative's value at the expansion center $(x_c,y_c,z_c)$:\n",
      "\n",
      "$$\\begin{equation}\\begin{split}\n",
      "& f_{x_j}\\rvert_c = \\frac{x_i-x_c}{R^3} m_j\\\\\n",
      "& f_{x_jx_j}\\rvert_c = \\left(\\frac{3(x_i-x_c)^2}{R^5} - \\frac{1}{R^3}\\right) m_j \\\\\n",
      "& f_{x_jy_j}\\rvert_c = \\frac{3(x_i-x_c)(y_i-y_c)}{R^5} m_j\n",
      "\\end{split}\\end{equation}$$\n",
      "\n",
      "where $R$ is the distance between target particle $i$ and the cell's center $c$. Now let's write out the interaction term again:\n",
      "\n",
      "$$\\begin{equation}\\begin{split}\n",
      "\\frac{m_j}{r_{ij}} & \\approx \\frac{m_j}{R} + m_j(x_c-x_j)\\left(-\\frac{x_i-x_c}{R^3}\\right) + m_j(y_c-y_j)\\left(-\\frac{y_i-y_c}{R^3}\\right) \\\\\n",
      "& + m_j(z_c-z_j)\\left(-\\frac{z_i-z_c}{R^3}\\right) + \\frac{m_j(x_c-x_j)^2}{2}\\left(\\frac{3(x_i-x_c)^2}{R^5} - \\frac{1}{R^3}\\right) \\\\\n",
      "& + \\frac{m_j(y_c-y_j)^2}{2}\\left(\\frac{3(y_i-y_c)^2}{R^5} - \\frac{1}{R^3}\\right) + \\frac{m_j(z_c-z_j)^2}{2}\\left(\\frac{3(z_i-z_c)^2}{R^5} - \\frac{1}{R^3}\\right) \\\\\n",
      "& + \\frac{m_j(x_c-x_j)(y_c-y_j)}{2}\\frac{3(x_i-x_c)(y_i-y_c)}{R^5} \\\\\n",
      "& + \\frac{m_j(y_c-y_j)(z_c-z_j)}{2}\\frac{3(y_i-y_c)(z_i-z_c)}{R^5} \\\\\n",
      "& + \\frac{m_j(z_c-z_j)(x_c-x_j)}{2}\\frac{3(z_i-z_c)(x_i-x_c)}{R^5}\n",
      "\\end{split}\\end{equation}$$\n",
      "\n",
      "Note that for each term, the first part only depends on source particle $j$, that means as long as we know the source particle information in a cell, we can calculate this part independently with targets $i$. There are altogether 10 terms in the expansion, and we call the first term $m_j$ as **monopole**, from the second to the fourth $m_j(x_c-x_j)$, $m_j(y_c-y_j)$, $m_j(z_c-z_j)$ we call them **dipole**, the remaining six terms $\\frac{m_j(x_c-x_j)^2}{2}$, $\\frac{m_j(y_c-y_j)^2}{2}$, $\\frac{m_j(z_c-z_j)^2}{2}$, $\\frac{m_j(x_c-x_j)(y_c-y_j)}{2}$, $\\frac{m_j(y_c-y_j)(z_c-z_j)}{2}$, $\\frac{m_j(z_c-z_j)(x_c-x_j)}{2}$ are called **quadrupole** with a second-order term in $x_j$.\n",
      "That is why we call this a **multipole expansion**. The multipoles have no relationship with target particles, so we can calculate those constants before looping in $i$. The second part in each term only depends on target particles $i$, so we can calculate this part in the loop. From above we can write the interaction term as:\n",
      "\n",
      "$$\\begin{equation}\n",
      "\\frac{m_j}{r_{ij}} = \\sum_{k=1}^{10} A_k(j)\\,B_k(i)\n",
      "\\end{equation}$$\n",
      "\n",
      "Remember that what we just considered is only one source particle $j$'s effect on target $i$. In order to evaluate the potential $\\Phi_i$, we need to take all the source particles into account:\n",
      "\n",
      "$$\\begin{equation}\\begin{split}\n",
      "\\Phi_i & = \\sum_{j=0}^N{\\frac{m_j}{r_{ij}}} = \\sum_{j=0}^N \\sum_{k=1}^{10} A_k(j)\\,B_k(i) \\\\\n",
      "& = \\sum_{k=1}^{10} \\left(\\sum_{j=0}^N A_k(j)\\right) B_k(i)\n",
      "\\end{split}\\end{equation}$$"
     ]
    },
    {
     "cell_type": "markdown",
     "metadata": {},
     "source": [
      "For different target particle $i$, the coefficient $\\sum_{j=0}^N A_k(j)$ holds the same. Thus, in the multipole code below we first loop in source particles $j$ to calculate the multipoles, then loop over each target particles $i$ to evaluate the potentials."
     ]
    },
    {
     "cell_type": "code",
     "collapsed": false,
     "input": [
      "def multiple_exp(n, x_i, y_i, z_i, x_j, y_j, z_j, m_j, x_c, y_c, z_c):\n",
      "    \"\"\"Calculate the gravitational potential at each target particle i using multipole expansion.\n",
      "\n",
      "    Argument:\n",
      "      n: number of particles\n",
      "      x_i, y_i, z_i: coordinates array of target particles\n",
      "      x_j, y_j, z_j: coordinates array of source particles\n",
      "      m_j: mass array of source particles\n",
      "      \n",
      "    Returns:\n",
      "      phi: potential array of target particles\n",
      "      \n",
      "    \"\"\"\n",
      "    multipole = numpy.zeros(10)\n",
      "    for j in range(n):\n",
      "        dx, dy, dz = x_c-x_j[j], y_c-y_j[j], z_c - z_j[j]\n",
      "        # monopole: 1 term\n",
      "        multipole[0] += m_j[j]\n",
      "        # dipole: 3 terms\n",
      "        multipole[1:4] += m_j[j] * numpy.array((dx, dy, dz))\n",
      "        # quadrupole: 6 terms\n",
      "        multipole[4:] += m_j[j]/2 * numpy.array((dx**2, dy**2, dz**2, dx*dy, dy*dz, dz*dx))\n",
      "\n",
      "    phi = numpy.zeros(n)    \n",
      "    for i in range(n):\n",
      "        X, Y, Z = x_i[i]-x_c, y_i[i]-y_c, z_i[i]-z_c\n",
      "        R = numpy.sqrt(X**2+Y**2+Z**2)\n",
      "        R3, R5 = R**3, R**5\n",
      "        phi[i] += multipole[0]/R\n",
      "        phi[i] += numpy.dot(multipole[1:4], numpy.array((-X/R3, -Y/R3, -Z/R3)))\n",
      "        phi[i] += numpy.dot(multipole[4:], numpy.array((3*X**2/R5-1/R3, 3*Y**2/R5-1/R3, 3*Z**2/R5-1/R3, \\\n",
      "                                                        3*X*Y/R5, 3*Y*Z/R5, 3*Z*X/R5)))\n",
      "    return phi"
     ],
     "language": "python",
     "metadata": {},
     "outputs": [],
     "prompt_number": 4
    },
    {
     "cell_type": "code",
     "collapsed": false,
     "input": [
      "# direct summation\n",
      "def direct_sum(n, x_i, y_i, z_i, x_j, y_j, z_j, m_j):\n",
      "    \"\"\"Calculate the gravitational potential at each target particle i using direct summation method.\n",
      "\n",
      "    Argument:\n",
      "      n: number of particles\n",
      "      x_i, y_i, z_i: coordinates array of target particles\n",
      "      x_j, y_j, z_j: coordinates array of source particles\n",
      "      m_j: mass array of source particles\n",
      "      \n",
      "    Returns:\n",
      "      phi: potential array of particles\n",
      "      \n",
      "    \"\"\"\n",
      "    phi = numpy.zeros(n)       # initialize potential array and offset the additional term\n",
      "    for i in range(n):\n",
      "        for j in range(n):\n",
      "            dx, dy, dz = x_i[i]-x_j[j], y_i[i]-y_j[j], z_i[i]-z_j[j]\n",
      "            r = numpy.sqrt(dx**2 + dy**2 + dz**2)\n",
      "            phi[i] += m_j[j]/r\n",
      "    return phi"
     ],
     "language": "python",
     "metadata": {},
     "outputs": [],
     "prompt_number": 14
    },
    {
     "cell_type": "code",
     "collapsed": false,
     "input": [
      "# initialize the coordinates and mass array\n",
      "n = 50                          # number of particles\n",
      "x_i, y_i, z_i = -numpy.random.rand(n), -numpy.random.rand(n), -numpy.random.rand(n)   # generate random coordinates from 0 to 1\n",
      "x_j, y_j, z_j = numpy.random.rand(n), numpy.random.rand(n), numpy.random.rand(n)   # generate random coordinates from 0 to 1\n",
      "m_j = 1.0/n * numpy.ones(n)     # assume uniform mass"
     ],
     "language": "python",
     "metadata": {},
     "outputs": [],
     "prompt_number": 13
    },
    {
     "cell_type": "markdown",
     "metadata": {},
     "source": [
      "The spatial distribution of target (red) and source (blue) particles should look like this."
     ]
    },
    {
     "cell_type": "code",
     "collapsed": false,
     "input": [
      "fig = pyplot.figure(figsize=(8,6))\n",
      "ax = Axes3D(fig)\n",
      "ax.scatter(x_i, y_i, z_i, c='r')\n",
      "ax.scatter(x_j, y_j, z_j, c='b')\n",
      "ax.set_xlim(-1,1)\n",
      "ax.set_ylim(-1,1)\n",
      "ax.set_zlim(-1,1);"
     ],
     "language": "python",
     "metadata": {},
     "outputs": [
      {
       "metadata": {},
       "output_type": "display_data",
       "png": "[encoded data removed]",
       "text": [
        "<matplotlib.figure.Figure at 0x106242250>"
       ]
      }
     ],
     "prompt_number": 7
    },
    {
     "cell_type": "code",
     "collapsed": false,
     "input": [
      "phi_direct = direct_sum(n, x_i, y_i, z_i, x_j, y_j, z_j, m_j)"
     ],
     "language": "python",
     "metadata": {},
     "outputs": [],
     "prompt_number": 12
    },
    {
     "cell_type": "code",
     "collapsed": false,
     "input": [
      "phi_multi = multiple_exp(n, x_i, y_i, z_i, x_j, y_j, z_j, m_j, 0.5, 0.5, 0.5)"
     ],
     "language": "python",
     "metadata": {},
     "outputs": [],
     "prompt_number": 11
    },
    {
     "cell_type": "code",
     "collapsed": false,
     "input": [
      "err =  (phi_direct - phi_multi) / phi_direct\n",
      "print phi_direct - phi_multi\n",
      "print err\n",
      "l2 = numpy.linalg.norm(err, 2)\n",
      "print 'L2 Norm error : {}'.format(l2)"
     ],
     "language": "python",
     "metadata": {},
     "outputs": [
      {
       "output_type": "stream",
       "stream": "stdout",
       "text": [
        "[ 0.00101517  0.00181405  0.00467405  0.00216966  0.00850712  0.01121614\n",
        "  0.00353361  0.00535888  0.00229861  0.00331947  0.00306739  0.01161986\n",
        "  0.00201189  0.01839046  0.00238624  0.0024862   0.01753373  0.00205829\n",
        "  0.00167266  0.00571553  0.00176748  0.00215764  0.00185306  0.0025121\n",
        "  0.00397942  0.00204931  0.00402564  0.00308699  0.00160447  0.00186228\n",
        "  0.0020378   0.00187678  0.00111869  0.00221238  0.00246627  0.0023628\n",
        "  0.00147902  0.00233191  0.00112361  0.00260166  0.00982973  0.00180676\n",
        "  0.00210852  0.00183525  0.00163392  0.00229238  0.00191978  0.00597767\n",
        "  0.00423013  0.0021303 ]\n",
        "[ 0.0024546   0.00351228  0.00709841  0.00407709  0.01034428  0.01351016\n",
        "  0.00560793  0.00788807  0.00435328  0.0053858   0.00484287  0.01398053\n",
        "  0.00365175  0.01948087  0.00389319  0.00448268  0.01858638  0.00384098\n",
        "  0.00344779  0.00818724  0.00296502  0.00394155  0.0037086   0.00427419\n",
        "  0.0061527   0.00378227  0.00650961  0.00489809  0.00341655  0.00366324\n",
        "  0.00406568  0.00372507  0.00262531  0.00392569  0.0043833   0.00419854\n",
        "  0.00324121  0.00438783  0.00261921  0.00465353  0.01206308  0.00356484\n",
        "  0.00407869  0.0036258   0.00317578  0.00415467  0.00364841  0.00867637\n",
        "  0.00596085  0.00391271]\n",
        "L2 Norm error : 0.0480128389912\n"
       ]
      }
     ],
     "prompt_number": 10
    },
    {
     "cell_type": "markdown",
     "metadata": {},
     "source": [
      "You can see from the result that using multipole expansion make it 10 time faster (depending on the number of particles) than direct summation. But we should always keep in mind that multipole expansion is only accurate when targets and sources are in a distance."
     ]
    }
   ],
   "metadata": {}
  }
 ]
}