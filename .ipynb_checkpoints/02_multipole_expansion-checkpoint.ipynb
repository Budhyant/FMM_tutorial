{
 "metadata": {
  "name": "",
  "signature": "sha256:30ad724d8e25201eda0cf2054608e9424aa549d600951e556e8f5a4789bf067f"
 },
 "nbformat": 3,
 "nbformat_minor": 0,
 "worksheets": [
  {
   "cells": [
    {
     "cell_type": "markdown",
     "metadata": {},
     "source": [
      "##Step 2: Multipole Expansion"
     ]
    },
    {
     "cell_type": "code",
     "collapsed": false,
     "input": [
      "import numpy\n",
      "import random\n",
      "import matplotlib.pyplot as plt\n",
      "from mpl_toolkits.mplot3d import Axes3D\n",
      "%matplotlib inline"
     ],
     "language": "python",
     "metadata": {},
     "outputs": [],
     "prompt_number": 28
    },
    {
     "cell_type": "markdown",
     "metadata": {},
     "source": [
      "second-order taylor expansion:\n",
      "$$\\begin{equation}\n",
      "\\begin{split}\n",
      "\\frac{1}{r} = \\frac{1}{R} &+ \\frac{1}{1!}\\left[ \\left( x-X \\right) \\frac{\\partial}{\\partial X} \\frac{1}{R} + \\left( y-Y \\right) \\frac{\\partial}{\\partial Y} \\frac{1}{R} + \\left( z-Z \\right) \\frac{\\partial}{\\partial Z} \\frac{1}{R} \\right] \\\\ \n",
      "&+ \\frac{1}{2!}\\left[ \\left( x-X \\right)^2 \\frac{\\partial^2}{\\partial X^2} \\frac{1}{R} + \\left( y-Y \\right)^2 \\frac{\\partial^2}{\\partial Y^2} \\frac{1}{R} + \\left( z-Z \\right)^2 \\frac{\\partial^2}{\\partial Z^2} \\frac{1}{R} \\\\ \n",
      "+ \\left( x-X \\right) \\left( y-Y \\right) \\frac{\\partial ^2}{\\partial X \\partial Y} \\frac{1}{R} + \\left( y-Y \\right) \\left( z-Z \\right) \\frac{\\partial ^2}{\\partial Y \\partial Z} \\frac{1}{R} + \\left( z-Z \\right) \\left( x-X \\right) \\frac{\\partial ^2}{\\partial Z \\partial X} \\frac{1}{R} \\right]\n",
      "\\end{split}\n",
      "\\end{equation}$$"
     ]
    },
    {
     "cell_type": "code",
     "collapsed": false,
     "input": [
      "N = 100                       # number of particles\n",
      "x_i = numpy.zeros(N)\n",
      "y_i = numpy.zeros(N)\n",
      "z_i = numpy.zeros(N)\n",
      "m_i = numpy.zeros(N)\n",
      "x_j = numpy.zeros(N)\n",
      "y_j = numpy.zeros(N)\n",
      "z_j = numpy.zeros(N)\n",
      "m_j = numpy.zeros(N)\n",
      "\n",
      "# initialize target particles \n",
      "for i in range(N):\n",
      "    x_i[i] = - random.random()  # generate the coordinates\n",
      "    y_i[i] = - random.random()\n",
      "    z_i[i] = - random.random()\n",
      "    m_i[i] = 1.0/N              # assume the same mass\n",
      "# initialize source particles\n",
      "for j in range(N):\n",
      "    x_j[j] = random.random()    # generate the coordinates\n",
      "    y_j[j] = random.random()\n",
      "    z_j[j] = random.random()\n",
      "    m_j[j] = 1.0/N              # assume the same mass"
     ],
     "language": "python",
     "metadata": {},
     "outputs": [],
     "prompt_number": 29
    },
    {
     "cell_type": "code",
     "collapsed": false,
     "input": [
      "# direct summation\n",
      "def direct_sum(N, x_i, y_i, z_i, m_i, x_j, y_j, z_j, m_j):\n",
      "    for i in range(N):\n",
      "        phi[i] = 0\n",
      "        for j in range(N):\n",
      "            dx = x_i[i] - x_j[j]\n",
      "            dy = y_i[i] - y_j[j]\n",
      "            dz = z_i[i] - z_j[j]\n",
      "            r = numpy.sqrt(dx**2 + dy**2 + dz**2)\n",
      "            phi[i] += m_j[j]/r\n",
      "    return phi"
     ],
     "language": "python",
     "metadata": {},
     "outputs": [],
     "prompt_number": 30
    },
    {
     "cell_type": "code",
     "collapsed": false,
     "input": [
      "# multipole expansion (2nd-order taylor series)\n",
      "def multiple_exp(N, x_i, y_i, z_i, m_i, x_j, y_j, z_j, m_j, x_c, y_c, z_c):\n",
      "    # multipole expansion: only depends on source points j information\n",
      "    multipole = numpy.zeros(10)     # 10 terms in the 2nd-order taylor expansion\n",
      "    for j in range(N):\n",
      "        dx = x_c - x_j[j]     # dx = x - X\n",
      "        dy = y_c - y_j[j]     # dy = y - Y\n",
      "        dz = z_c - z_j[j]     # dz = z - Z\n",
      "        multipole[0] += m_j[j]     # monopole: 1 term\n",
      "        multipole[1] += m_j[j]*dx     # dipole: 3 terms\n",
      "        multipole[2] += m_j[j]*dy\n",
      "        multipole[3] += m_j[j]*dz\n",
      "        multipole[4] += m_j[j]*dx**2/2     # quadrupole: 6 terms\n",
      "        multipole[5] += m_j[j]*dy**2/2\n",
      "        multipole[6] += m_j[j]*dz**2/2\n",
      "        multipole[7] += m_j[j]*dx*dy/2\n",
      "        multipole[8] += m_j[j]*dy*dz/2\n",
      "        multipole[9] += m_j[j]*dz*dx/2\n",
      "\n",
      "    # evaluate potential: only depends on target points i information\n",
      "    phi = numpy.zeros(N)    \n",
      "    for i in range(N):\n",
      "        X = x_i[i] - x_c\n",
      "        Y = y_i[i] - y_c\n",
      "        Z = z_i[i] - z_c\n",
      "        R = numpy.sqrt(X**2+Y**2+Z**2)\n",
      "        phi[i] += multipole[0]/R\n",
      "        phi[i] += multipole[1]*(-X/R**3)\n",
      "        phi[i] += multipole[2]*(-Y/R**3)\n",
      "        phi[i] += multipole[3]*(-Z/R**3)\n",
      "        phi[i] += multipole[4]*(3*X**2/R**5 - 1/R**3)\n",
      "        phi[i] += multipole[5]*(3*Y**2/R**5 - 1/R**3)\n",
      "        phi[i] += multipole[6]*(3*Z**2/R**5 - 1/R**3)\n",
      "        phi[i] += multipole[7]*(3*X*Y/R**5)\n",
      "        phi[i] += multipole[8]*(3*Y*Z/R**5)\n",
      "        phi[i] += multipole[9]*(3*Z*X/R**5)\n",
      "    return phi"
     ],
     "language": "python",
     "metadata": {},
     "outputs": [],
     "prompt_number": 31
    },
    {
     "cell_type": "code",
     "collapsed": false,
     "input": [
      "direct_sum(N, x_i, y_i, z_i, m_i, x_j, y_j, z_j, m_j)"
     ],
     "language": "python",
     "metadata": {},
     "outputs": [
      {
       "metadata": {},
       "output_type": "pyout",
       "prompt_number": 32,
       "text": [
        "array([ 0.68512837,  0.74308801,  0.76690059,  0.54287094,  0.52851885,\n",
        "        0.52673994,  0.59401298,  0.50884235,  0.48225806,  0.60734536,\n",
        "        0.74847824,  0.61313499,  0.64674505,  0.47522147,  0.48369897,\n",
        "        0.56633538,  0.47928825,  0.51755008,  0.46754054,  0.58213249,\n",
        "        0.59888122,  0.47372451,  0.54898247,  0.47741842,  0.47901855,\n",
        "        0.53871985,  0.53127458,  0.54064749,  0.60646684,  0.71903878,\n",
        "        0.43704352,  0.54580457,  0.58928969,  0.47129053,  0.62512529,\n",
        "        0.6148839 ,  0.6075164 ,  0.48306115,  0.51516146,  0.65320737,\n",
        "        0.6170025 ,  0.53106964,  0.42690076,  0.53332551,  0.4608291 ,\n",
        "        0.55720337,  0.53626735,  0.49915751,  0.56680516,  0.58059064,\n",
        "        0.49366457,  0.68969933,  0.52904812,  0.7964116 ,  0.55354479,\n",
        "        0.52340616,  0.43317013,  0.54993971,  0.59653765,  0.57117297,\n",
        "        0.69249987,  0.52875743,  0.53512694,  0.56273401,  0.5410561 ,\n",
        "        0.48464038,  0.57615171,  0.51831055,  0.52892384,  0.62804578,\n",
        "        0.49832561,  0.47065027,  0.54995808,  0.56671284,  0.45803359,\n",
        "        0.57028712,  0.89689854,  0.51944437,  0.45263462,  0.48003642,\n",
        "        0.52690676,  0.89688656,  0.47227506,  0.6526049 ,  0.5018604 ,\n",
        "        0.61174262,  0.57166254,  0.54541952,  0.53357536,  0.60631027,\n",
        "        0.59533187,  0.63735723,  0.47341597,  0.5094296 ,  0.50979539,\n",
        "        0.54576861,  0.87904723,  0.66273296,  0.82598777,  0.66595729])"
       ]
      }
     ],
     "prompt_number": 32
    },
    {
     "cell_type": "code",
     "collapsed": false,
     "input": [
      "multiple_exp(N, x_i, y_i, z_i, m_i, x_j, y_j, z_j, m_j, 0.5, 0.5, 0.5)"
     ],
     "language": "python",
     "metadata": {},
     "outputs": [
      {
       "metadata": {},
       "output_type": "pyout",
       "prompt_number": 33,
       "text": [
        "array([ 0.67847669,  0.73722145,  0.75783122,  0.54023766,  0.52590914,\n",
        "        0.52457691,  0.59254746,  0.50696301,  0.4804147 ,  0.60414732,\n",
        "        0.73911095,  0.61028664,  0.64259691,  0.47398968,  0.48213789,\n",
        "        0.56322068,  0.47747659,  0.51529783,  0.46596303,  0.57916249,\n",
        "        0.59590781,  0.47193597,  0.54626531,  0.4762511 ,  0.47752593,\n",
        "        0.536252  ,  0.52886805,  0.53810593,  0.60446241,  0.71268696,\n",
        "        0.43574557,  0.54291013,  0.58672646,  0.46960779,  0.6225963 ,\n",
        "        0.61100656,  0.6049429 ,  0.48121318,  0.51291753,  0.64947003,\n",
        "        0.61271864,  0.528493  ,  0.42566818,  0.53187018,  0.45939363,\n",
        "        0.55404134,  0.53437742,  0.49731208,  0.56502362,  0.57722284,\n",
        "        0.49229921,  0.68463519,  0.52679132,  0.78526003,  0.55052032,\n",
        "        0.52088794,  0.43220179,  0.54713616,  0.59301744,  0.56804887,\n",
        "        0.68624285,  0.52734762,  0.53267756,  0.5595766 ,  0.53857871,\n",
        "        0.48372497,  0.5731653 ,  0.51588941,  0.52702419,  0.62545006,\n",
        "        0.49621175,  0.4690368 ,  0.54743625,  0.56435578,  0.45654233,\n",
        "        0.56758826,  0.87956862,  0.51734837,  0.4513432 ,  0.47826585,\n",
        "        0.52533392,  0.87948605,  0.47065068,  0.64798414,  0.49982627,\n",
        "        0.60801124,  0.56833789,  0.54255816,  0.53105926,  0.60253339,\n",
        "        0.59348043,  0.63288185,  0.47165306,  0.5076156 ,  0.50762328,\n",
        "        0.54349147,  0.86379279,  0.6569954 ,  0.81281238,  0.66103237])"
       ]
      }
     ],
     "prompt_number": 33
    }
   ],
   "metadata": {}
  }
 ]
}