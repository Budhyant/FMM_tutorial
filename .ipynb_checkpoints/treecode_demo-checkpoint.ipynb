{
 "metadata": {
  "name": "",
  "signature": "sha256:124cb48a27d3d19fe89044ad06f4b02e68198d0c988f716d8731868c8f1d5ee5"
 },
 "nbformat": 3,
 "nbformat_minor": 0,
 "worksheets": [
  {
   "cells": [
    {
     "cell_type": "markdown",
     "metadata": {},
     "source": [
      "Many physical problems in the world require the evaluation of all pairwise interactions of a large number of particles, and we usually call them N-body problems. A direct simulation of the N-body problem cost $O(N^2)$ operations. In this tutorial, a treecode algorithm is demonstated to reduce the computation cost to $O(N\\log N)$ on a gravitational N-body problem."
     ]
    },
    {
     "cell_type": "markdown",
     "metadata": {},
     "source": [
      "###Step 1: *direct N-body simulation*\n",
      "The potential at a target point $i$ in the gravitational field can be expressed as:\n",
      "$$\\begin{equation}\n",
      "\\Phi_i = \\sum_{\\substack{j=0\\\\ j \\neq i}}^N{\\frac{m_j}{r_{ij}}}\n",
      "\\end{equation}$$\n",
      "where $m_j$ denotes the mass of source point $j$, and $r_{ij} = \\sqrt{(x_i-x_j)^2+(y_i-y_j)^2+(z_i-z_j)^2}$."
     ]
    },
    {
     "cell_type": "code",
     "collapsed": false,
     "input": [
      "import numpy\n",
      "import random\n",
      "N = 10     # number of particles\n",
      "RAND_MAX = 100.0     # Set the limit of randomly generated number\n",
      "\n",
      "# initialize\n",
      "x = numpy.zeros(N)\n",
      "y = numpy.zeros(N)\n",
      "z = numpy.zeros(N)\n",
      "m = numpy.zeros(N)\n",
      "phi = numpy.zeros(N)\n",
      "for i in range(N):\n",
      "    x[i] = random.uniform(0,RAND_MAX)/RAND_MAX     # coordinate domain from 0 to 1\n",
      "    y[i] = random.uniform(0,RAND_MAX)/RAND_MAX\n",
      "    z[i] = random.uniform(0,RAND_MAX)/RAND_MAX\n",
      "    m[i] = 1.0/N     # assuming mass\n",
      "\n",
      "# direct summation\n",
      "epsilon = 0.001     # avoid zero division\n",
      "for i in range(N):\n",
      "    phi[i] = -m[i]/epsilon\n",
      "    for j in range(N):\n",
      "        dx = x[i] - x[j]\n",
      "        dy = y[i] - y[j]\n",
      "        dz = z[i] - z[j]\n",
      "        r = numpy.sqrt(dx**2 + dy**2 + dz**2 + epsilon**2)\n",
      "        phi[i] = phi[i] + m[j]/r"
     ],
     "language": "python",
     "metadata": {},
     "outputs": [],
     "prompt_number": 7
    },
    {
     "cell_type": "code",
     "collapsed": false,
     "input": [
      "x"
     ],
     "language": "python",
     "metadata": {},
     "outputs": [
      {
       "metadata": {},
       "output_type": "pyout",
       "prompt_number": 8,
       "text": [
        "array([ 0.82979992,  0.77712543,  0.91389143,  0.3451335 ,  0.21517962,\n",
        "        0.6083853 ,  0.10822128,  0.51686339,  0.34331137,  0.75269265])"
       ]
      }
     ],
     "prompt_number": 8
    },
    {
     "cell_type": "code",
     "collapsed": false,
     "input": [
      "phi"
     ],
     "language": "python",
     "metadata": {},
     "outputs": [
      {
       "metadata": {},
       "output_type": "pyout",
       "prompt_number": 9,
       "text": [
        "array([ 1.49842728,  2.61516939,  1.2641429 ,  1.6204915 ,  1.04743597,\n",
        "        1.25230334,  1.14660462,  1.58945668,  1.68265223,  2.574541  ])"
       ]
      }
     ],
     "prompt_number": 9
    },
    {
     "cell_type": "markdown",
     "metadata": {},
     "source": [
      "###Step 2: *multipole expansion*"
     ]
    },
    {
     "cell_type": "markdown",
     "metadata": {},
     "source": [
      "second-order taylor expansion:\n",
      "$$\\begin{equation}\n",
      "\\begin{split}\n",
      "\\frac{1}{r} = \\frac{1}{R} &+ \\frac{1}{1!}\\left[ \\left( x-X \\right) \\frac{\\partial}{\\partial X} \\frac{1}{R} + \\left( y-Y \\right) \\frac{\\partial}{\\partial Y} \\frac{1}{R} + \\left( z-Z \\right) \\frac{\\partial}{\\partial Z} \\frac{1}{R} \\right] \\\\ \n",
      "&+ \\frac{1}{2!}\\left[ \\left( x-X \\right)^2 \\frac{\\partial^2}{\\partial X^2} \\frac{1}{R} + \\left( y-Y \\right)^2 \\frac{\\partial^2}{\\partial Y^2} \\frac{1}{R} + \\left( z-Z \\right)^2 \\frac{\\partial^2}{\\partial Z^2} \\frac{1}{R} \\\\ \n",
      "+ \\left( x-X \\right) \\left( y-Y \\right) \\frac{\\partial ^2}{\\partial X \\partial Y} \\frac{1}{R} + \\left( y-Y \\right) \\left( z-Z \\right) \\frac{\\partial ^2}{\\partial Y \\partial Z} \\frac{1}{R} + \\left( z-Z \\right) \\left( x-X \\right) \\frac{\\partial ^2}{\\partial Z \\partial X} \\frac{1}{R} \\right]\n",
      "\\end{split}\n",
      "\\end{equation}$$"
     ]
    },
    {
     "cell_type": "code",
     "collapsed": false,
     "input": [
      "# multipole expansion (2nd-order taylor series)\n",
      "x_c = 0.5     # center of expansion\n",
      "y_c = 0.5\n",
      "z_c = 0.5\n",
      "\n",
      "# multipole part only depends on source points j information\n",
      "multipole = numpy.zeros(10)     # 10 terms in the 2nd-order taylor expansion\n",
      "for j in range(10):\n",
      "    dx = x_c - x[j]     # dx = x - X\n",
      "    dy = y_c - y[j]     # dy = y - Y\n",
      "    dz = z_c - z[j]     # dz = z - Z\n",
      "    multipole[0] += m[j]     # monopole: 1 term\n",
      "    multipole[1] += m[j]*dx     # dipole: 3 terms\n",
      "    multipole[2] += m[j]*dy\n",
      "    multipole[3] += m[j]*dz\n",
      "    multipole[4] += m[j]*dx**2/2     # quadrupole: 6 terms\n",
      "    multipole[5] += m[j]*dy**2/2\n",
      "    multipole[6] += m[j]*dz**2/2\n",
      "    multipole[7] += m[j]*dx*dy/2\n",
      "    multipole[8] += m[j]*dy*dz/2\n",
      "    multipole[9] += m[j]*dz*dx/2\n",
      "\n",
      "# the other part only depends on target points i information\n",
      "phi = numpy.zeros(N)    \n",
      "for i in range(10):\n",
      "    X = x[i] - x_c\n",
      "    Y = y[i] - y_c\n",
      "    Z = z[i] - z_c\n",
      "    R = numpy.sqrt(X**2+Y**2+Z**2)\n",
      "    phi[i] += multipole[0]/R\n",
      "    phi[i] += multipole[1]*(-X/R**3)\n",
      "    phi[i] += multipole[2]*(-Y/R**3)\n",
      "    phi[i] += multipole[3]*(-Z/R**3)\n",
      "    phi[i] += multipole[4]*(3*X**2/R**5 - 1/R**3)\n",
      "    phi[i] += multipole[5]*(3*Y**2/R**5 - 1/R**3)\n",
      "    phi[i] += multipole[6]*(3*Z**2/R**5 - 1/R**3)\n",
      "    phi[i] += multipole[7]*(3*X*Y/R**5)\n",
      "    phi[i] += multipole[8]*(3*Y*Z/R**5)\n",
      "    phi[i] += multipole[9]*(3*Z*X/R**5)\n"
     ],
     "language": "python",
     "metadata": {},
     "outputs": [],
     "prompt_number": 10
    },
    {
     "cell_type": "code",
     "collapsed": false,
     "input": [
      "phi"
     ],
     "language": "python",
     "metadata": {},
     "outputs": [
      {
       "metadata": {},
       "output_type": "pyout",
       "prompt_number": 11,
       "text": [
        "array([ 2.08989189,  2.10289486,  1.49484985,  3.45796981,  1.48474732,\n",
        "        1.85507784,  1.54230041,  3.26126819,  3.20412346,  1.95524228])"
       ]
      }
     ],
     "prompt_number": 11
    },
    {
     "cell_type": "code",
     "collapsed": false,
     "input": [
      "x"
     ],
     "language": "python",
     "metadata": {},
     "outputs": [
      {
       "metadata": {},
       "output_type": "pyout",
       "prompt_number": 12,
       "text": [
        "array([ 0.82979992,  0.77712543,  0.91389143,  0.3451335 ,  0.21517962,\n",
        "        0.6083853 ,  0.10822128,  0.51686339,  0.34331137,  0.75269265])"
       ]
      }
     ],
     "prompt_number": 12
    },
    {
     "cell_type": "markdown",
     "metadata": {},
     "source": [
      "###Step 3: *multi-level multipole expansion*"
     ]
    },
    {
     "cell_type": "markdown",
     "metadata": {},
     "source": [
      "When the number of particles is very large, we need to form a hierachical structure to group particles. When we expand the particles from a smaller group (*child*) to a larger group (*parent*), we also need to shift the center of expansion.\n",
      "\n",
      "Originally, we define each term in multipole as:\n",
      "$$\\begin{equation}\n",
      "monopole = \\sum_{j=0}^N m_j\\\\\n",
      "dipole = \\sum_{j=0}^N m_j\\left( x_c - x_j \\right)\\\\\n",
      "quadrupole = \\sum_{j=0}^N \\frac{1}{2}m_j \\left( x_c - x_j \\right)^2\n",
      "\\end{equation}$$\n",
      "\n",
      "When we expand in parent:\n",
      "$$\\begin{equation}\n",
      "monopole = \\sum_{j=0}^N m_j\\\\\n",
      "dipole = \\sum_{j=0}^N m_j\\left( x_p - x_j \\right) = \\sum_{j=0}^N m_j\\left(x_c-x_j\\right) + \\left( x_p-x_c \\right)\\sum_{j=0}^N m_j \\\\\n",
      "quadrupole = \\sum_{j=0}^N \\frac{1}{2}m_j \\left( x_p - x_j \\right)^2 = \\sum_{j=0}^N \\frac{1}{2}m_j \\left( x_c - x_j \\right)^2 + \\left( x_p - x_c \\right) \\sum_{j=0}^N m_j\\left( x_c - x_j \\right) + \\frac{\\left( x_p - x_c \\right)^2}{2} \\sum_{j=0}^N m_j\n",
      "\\end{equation}$$"
     ]
    },
    {
     "cell_type": "code",
     "collapsed": false,
     "input": [
      "x_p = 0.5     # center of expansion in parent cell\n",
      "y_p = 0.5\n",
      "z_p = 0.5\n",
      "x_c = numpy.zeros(8)     # center of expansion in 8 child cells\n",
      "y_c = numpy.zeros(8)\n",
      "z_c = numpy.zeros(8)\n",
      "\n",
      "# octree structure for 3 dimensional calculation\n",
      "# child: multipole[0:7,:], parent: multipole[8,:]\n",
      "# monopole: multipole[:,0], dipole: multipole[:,1:3], quadrupole: multipole[:,4:9]\n",
      "multipole = numpy.zeros((9,10))\n",
      "\n",
      "for i in range(8):\n",
      "    dx = x_p - x_c[i]\n",
      "    dy = y_p - y_c[i]\n",
      "    dz = z_p - z_c[i]\n",
      "    multipole[8,0] += multipole[i,0]     # monopole in parent cell\n",
      "    multipole[8,1] += multipole[i,1] + dx*multipole[i,0]     # dipole in parent cell\n",
      "    multipole[8,2] += multipole[i,2] + dy*multipole[i,0]\n",
      "    multipole[8,3] += multipole[i,3] + dz*multipole[i,0]\n",
      "    multipole[8,4] += multipole[i,4] + dx*multipole[i,1] + dx**2/2*multipole[i,0]     # quadrupole in parent cell\n",
      "    multipole[8,5] += multipole[i,5] + dy*multipole[i,2] + dy**2/2*multipole[i,0]\n",
      "    multipole[8,6] += multipole[i,6] + dz*multipole[i,3] + dz**2/2*multipole[i,0]\n",
      "    multipole[8,7] += multipole[i,7] + 1/2* (dx*multipole[i,2] + dy*multipole[i,1] + dx*dy*multipole[i,0])\n",
      "    multipole[8,8] += multipole[i,8] + 1/2* (dy*multipole[i,3] + dz*multipole[i,2] + dy*dz*multipole[i,0])\n",
      "    multipole[8,9] += multipole[i,9] + 1/2* (dz*multipole[i,1] + dx*multipole[i,3] + dz*dx*multipole[i,0])"
     ],
     "language": "python",
     "metadata": {},
     "outputs": [],
     "prompt_number": 14
    },
    {
     "cell_type": "markdown",
     "metadata": {},
     "source": [
      "### Step 4: *tree construction*"
     ]
    }
   ],
   "metadata": {}
  }
 ]
}