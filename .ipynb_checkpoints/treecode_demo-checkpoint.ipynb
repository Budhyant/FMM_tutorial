{
 "metadata": {
  "name": "",
  "signature": "sha256:7b4670ff4ac33ed7aedfa1c8642ab49f06736e2aec1a4a765b7ec97956fd95a2"
 },
 "nbformat": 3,
 "nbformat_minor": 0,
 "worksheets": [
  {
   "cells": [
    {
     "cell_type": "markdown",
     "metadata": {},
     "source": [
      "##Step 1: *direct N-body simulation*"
     ]
    },
    {
     "cell_type": "code",
     "collapsed": false,
     "input": [
      "import numpy\n",
      "import random"
     ],
     "language": "python",
     "metadata": {},
     "outputs": [],
     "prompt_number": 1
    },
    {
     "cell_type": "markdown",
     "metadata": {},
     "source": [
      "$$\\begin{equation}\n",
      "\\Phi_i = \\sum_{\\substack{j=0\\\\ i \\neq j}}^N{\\frac{m_j}{r}}\n",
      "\\end{equation}$$\n",
      "\n",
      "$$\\begin{equation}\n",
      "r = \\sqrt{(x_i-x_j)^2+(y_i-y_j)^2+(z_i-z_j)^2}\n",
      "\\end{equation}$$"
     ]
    },
    {
     "cell_type": "code",
     "collapsed": false,
     "input": [
      "N = 10\n",
      "RAND_MAX = 100.0\n",
      "\n",
      "# initialize\n",
      "x = numpy.zeros(N)\n",
      "y = numpy.zeros(N)\n",
      "z = numpy.zeros(N)\n",
      "m = numpy.zeros(N)\n",
      "phi = numpy.zeros(N)\n",
      "for i in range(N):\n",
      "    x[i] = random.uniform(0,RAND_MAX)/RAND_MAX     # coordinate domain from 0 to 1\n",
      "    y[i] = random.uniform(0,RAND_MAX)/RAND_MAX\n",
      "    z[i] = random.uniform(0,RAND_MAX)/RAND_MAX\n",
      "    m[i] = 1.0/N     # assuming mass\n",
      "\n",
      "# direct summation\n",
      "epsilon = 0.01     # avoid zero division\n",
      "for i in range(N):\n",
      "    phi[i] = -m[i]/numpy.sqrt(epsilon**2)\n",
      "    for j in range(N):\n",
      "        dx = x[i] - x[j]\n",
      "        dy = y[i] - y[j]\n",
      "        dz = z[i] - z[j]\n",
      "        r = numpy.sqrt(dx**2 + dy**2 + dz**2 + epsilon**2)\n",
      "        phi[i] = phi[i] + m[j]/r"
     ],
     "language": "python",
     "metadata": {},
     "outputs": [],
     "prompt_number": 2
    },
    {
     "cell_type": "code",
     "collapsed": false,
     "input": [
      "x"
     ],
     "language": "python",
     "metadata": {},
     "outputs": [
      {
       "metadata": {},
       "output_type": "pyout",
       "prompt_number": 3,
       "text": [
        "array([ 0.51338307,  0.66444534,  0.40573067,  0.85378899,  0.37093382,\n",
        "        0.50604366,  0.99984965,  0.81136914,  0.09229794,  0.58924109])"
       ]
      }
     ],
     "prompt_number": 3
    },
    {
     "cell_type": "code",
     "collapsed": false,
     "input": [
      "phi"
     ],
     "language": "python",
     "metadata": {},
     "outputs": [
      {
       "metadata": {},
       "output_type": "pyout",
       "prompt_number": 4,
       "text": [
        "array([ 1.71769888,  1.89614173,  1.48959028,  1.10759485,  2.32230333,\n",
        "        2.65931721,  0.97056303,  1.91492978,  1.2833712 ,  2.25171768])"
       ]
      }
     ],
     "prompt_number": 4
    },
    {
     "cell_type": "markdown",
     "metadata": {},
     "source": [
      "##Step 2: *multipole expansion*"
     ]
    },
    {
     "cell_type": "code",
     "collapsed": false,
     "input": [
      "# multipole expansion (2nd-order taylor series)\n",
      "x_c = 0.5\n",
      "y_c = 0.5\n",
      "z_c = 0.5\n",
      "\n",
      "# multipole is independent of source points information\n",
      "multipole = numpy.zeros(10)     # 10 terms in the 2nd-order taylor expansion\n",
      "for j in range(10):\n",
      "    dx = x_c - x[j]\n",
      "    dy = y_c - y[j]\n",
      "    dz = z_c - z[j]\n",
      "    multipole[0] = m[j]\n",
      "    multipole[1] = m[j]*dx\n",
      "    multipole[2] = m[j]*dy\n",
      "    multipole[3] = m[j]*dz\n",
      "    multipole[4] = m[j]*dx**2/2\n",
      "    multipole[5] = m[j]*dy**2/2\n",
      "    multipole[6] = m[j]*dz**2/2\n",
      "    multipole[7] = m[j]*dx*dy/2\n",
      "    multipole[8] = m[j]*dy*dz/2\n",
      "    multipole[9] = m[j]*dz*dx/2\n",
      "\n",
      "phi = numpy.zeros(N)    \n",
      "for i in range(10):\n",
      "    X = x[i] - x_c\n",
      "    Y = y[i] - y_c\n",
      "    Z = z[i] - z_c\n",
      "    R = numpy.sqrt(X**2+Y**2+Z**2)\n",
      "    phi[i] += multipole[0]/R\n",
      "    phi[i] += multipole[1]*(-X/R**3)\n",
      "    phi[i] += multipole[2]*(-Y/R**3)\n",
      "    phi[i] += multipole[3]*(-Z/R**3)\n",
      "    phi[i] += multipole[4]*(3*X**2/R**5 - 1/R**3)\n",
      "    phi[i] += multipole[5]*(3*Y**2/R**5 - 1/R**3)\n",
      "    phi[i] += multipole[6]*(3*Z**2/R**5 - 1/R**3)\n",
      "    phi[i] += multipole[7]*(3*X*Y/R**5)\n",
      "    phi[i] += multipole[8]*(3*Y*Z/R**5)\n",
      "    phi[i] += multipole[9]*(3*Z*X/R**5)\n"
     ],
     "language": "python",
     "metadata": {},
     "outputs": [],
     "prompt_number": 7
    },
    {
     "cell_type": "code",
     "collapsed": false,
     "input": [
      "phi"
     ],
     "language": "python",
     "metadata": {},
     "outputs": [
      {
       "metadata": {},
       "output_type": "pyout",
       "prompt_number": 8,
       "text": [
        "array([ 0.18556148,  0.27964628,  0.27500997,  0.14305163,  1.02346415,\n",
        "        2.27973401,  0.09520691,  0.30938659,  0.11049752,  0.7654032 ])"
       ]
      }
     ],
     "prompt_number": 8
    },
    {
     "cell_type": "code",
     "collapsed": false,
     "input": [],
     "language": "python",
     "metadata": {},
     "outputs": []
    }
   ],
   "metadata": {}
  }
 ]
}