{
 "cells": [
  {
   "cell_type": "markdown",
   "metadata": {},
   "source": [
    "## Step 5: Upward Sweep"
   ]
  },
  {
   "cell_type": "code",
   "execution_count": 1,
   "metadata": {
    "collapsed": false
   },
   "outputs": [],
   "source": [
    "import numpy\n",
    "from treecode_helper import Particle, Cell, build_tree"
   ]
  },
  {
   "cell_type": "markdown",
   "metadata": {},
   "source": [
    "In the previous notebook, we define a cell class, and build the octree by adding particles into cells and splitting cells recursively. So far, we covered how to use multipole expansion to accelerate the potential evaluation, and how to construct the hierarchical tree to group the particles in different cells. In this notebook, we will exploit the advantage of tree structure to calculate the multipoles for cells. Before we start, we create a python script \"treecode.py\" in the same folder which contains the class definitions and functions we discussed before. We import this script as a module. Now we can reuse the code to generate the tree (the list of cells) as follows. "
   ]
  },
  {
   "cell_type": "code",
   "execution_count": 2,
   "metadata": {
    "collapsed": false
   },
   "outputs": [],
   "source": [
    "n = 100          # number of particles\n",
    "particles = [ Particle(m=1.0/n) for i in range(n) ]\n",
    "\n",
    "n_crit = 10      # max number of particles in a single cell"
   ]
  },
  {
   "cell_type": "code",
   "execution_count": 3,
   "metadata": {
    "collapsed": false
   },
   "outputs": [],
   "source": [
    "root = Cell(n_crit)\n",
    "root.x, root.y, root.z = 0.5, 0.5, 0.5\n",
    "root.r = 0.5"
   ]
  },
  {
   "cell_type": "code",
   "execution_count": 4,
   "metadata": {
    "collapsed": false
   },
   "outputs": [],
   "source": [
    "cells = build_tree(particles, root, n_crit)"
   ]
  },
  {
   "cell_type": "code",
   "execution_count": 5,
   "metadata": {
    "collapsed": true
   },
   "outputs": [],
   "source": [
    "def get_multipole(particles, p, cells, leaves, n_crit):\n",
    "    \"\"\"Calculate multipole arrays for all leaf cells under cell p. If leaf number of cell p is equal or bigger than n_crit (non-leaf), traverse down recursively. Otherwise (leaf), calculate the multipole arrays for leaf cell p.\n",
    "    \n",
    "    Arguments:\n",
    "        p: current cell's index\n",
    "        cells: the list of cells\n",
    "        leaves: the array of all leaf cells\n",
    "        n_crit: maximum number of leaves in a single cell\n",
    "      \n",
    "    \"\"\"\n",
    "    if cells[p].nleaf >= n_crit:\n",
    "        for c in range(8):\n",
    "            if cells[p].nchild & (1 << c):\n",
    "                get_multipole(particles, cells[p].child[c], cells, leaves, n_crit)\n",
    "    else:\n",
    "        # loop in leaf particles\n",
    "        for i in range(cells[p].nleaf):\n",
    "            l = cells[p].leaf[i]\n",
    "            dx, dy, dz = cells[p].x-particles[l].x, cells[p].y-particles[l].y, cells[p].z-particles[l].z\n",
    "            # monopole: 1 term\n",
    "            cells[p].multipole[0] += particles[l].m\n",
    "            # dipole: 3 terms\n",
    "            cells[p].multipole[1:4] += particles[l].m * numpy.array((dx, dy, dz))\n",
    "            # quadruple: 6 terms\n",
    "            cells[p].multipole[4:] += particles[l].m/2 * numpy.array((dx**2, dy**2, dz**2,\\\n",
    "                                                            dx*dy, dy*dz, dz*dx))\n",
    "        leaves.append(p)"
   ]
  },
  {
   "cell_type": "code",
   "execution_count": 6,
   "metadata": {
    "collapsed": false
   },
   "outputs": [],
   "source": [
    "leaves = []\n",
    "get_multipole(particles, 0, cells, leaves, n_crit)"
   ]
  },
  {
   "cell_type": "code",
   "execution_count": 7,
   "metadata": {
    "code_folding": [],
    "collapsed": false
   },
   "outputs": [],
   "source": [
    "def M2M(p, c, cells):\n",
    "    \"\"\"Calculate parent cell p's multipole array based on child cell c's multipoles\n",
    "    \n",
    "    Arguments:\n",
    "        p: parent cell index in cells list\n",
    "        c: child cell index in cells list\n",
    "        cells: the list of cells\n",
    "    \"\"\"\n",
    "    dx, dy, dz = cells[p].x-cells[c].x, cells[p].y-cells[c].y, cells[p].z-cells[c].z\n",
    "    # monopole: 1 term\n",
    "    cells[p].multipole[0] += cells[c].multipole[0]\n",
    "    # dipole：3 terms\n",
    "    cells[p].multipole[1:4] += cells[c].multipole[1:4] + cells[c].multipole[0]*numpy.array((dx, dy, dz))\n",
    "    # quadruple: 6 terms\n",
    "    cells[p].multipole[4] += cells[c].multipole[4] + dx * cells[c].multipole[1] \\\n",
    "                                                   + dx * dx * cells[c].multipole[0] / 2\n",
    "    cells[p].multipole[5] += cells[c].multipole[5] + dy * cells[c].multipole[2] \\\n",
    "                                                   + dy * dy * cells[c].multipole[0] / 2\n",
    "    cells[p].multipole[6] += cells[c].multipole[6] + dz * cells[c].multipole[3] \\\n",
    "                                                   + dz * dz * cells[c].multipole[0] / 2\n",
    "    cells[p].multipole[7] += cells[c].multipole[7] + (dx * cells[c].multipole[2] \\\n",
    "                                                   +  dy * cells[c].multipole[1] \\\n",
    "                                                   +  dx * dy * cells[c].multipole[0]) / 2\n",
    "    cells[p].multipole[8] += cells[c].multipole[8] + (dy * cells[c].multipole[3] \\\n",
    "                                                   +  dz * cells[c].multipole[2] \\\n",
    "                                                   +  dy * dz * cells[c].multipole[0]) / 2\n",
    "    cells[p].multipole[9] += cells[c].multipole[9] + (dz * cells[c].multipole[1] \\\n",
    "                                                   +  dx * cells[c].multipole[3] \\\n",
    "                                                   +  dz * dx * cells[c].multipole[0]) / 2"
   ]
  },
  {
   "cell_type": "code",
   "execution_count": 8,
   "metadata": {
    "collapsed": true
   },
   "outputs": [],
   "source": [
    "def upward_sweep(cells):\n",
    "    \"\"\"Traverse from leaves to root, in order to calculate multipoles of all the cells.\n",
    "    \n",
    "    Arguments:\n",
    "        cells: the list of cells\n",
    "    \n",
    "    \"\"\"\n",
    "    for c in range(len(cells)-1, 0, -1):\n",
    "        p = cells[c].parent\n",
    "        M2M(p, c, cells)"
   ]
  },
  {
   "cell_type": "code",
   "execution_count": 13,
   "metadata": {
    "collapsed": true
   },
   "outputs": [],
   "source": [
    "upward_sweep(cells)"
   ]
  },
  {
   "cell_type": "markdown",
   "metadata": {},
   "source": [
    "##### Reference"
   ]
  },
  {
   "cell_type": "markdown",
   "metadata": {},
   "source": [
    "1. R. Yokota, 12 Steps to a Fast Multipole Method on GPUs, Pan-American Advanced Studies Institute, Valparaiso, Chile, 3-14 January, 2011.\n",
    "2. Raykar, V. C., \"[A short primer on the fast multipole method: FMM tutorial](http://www.umiacs.umd.edu/labs/cvl/pirl/vikas/publications/FMM_tutorial.pdf),\", University of Maryland, College Park, Apr. 8, 2006."
   ]
  },
  {
   "cell_type": "code",
   "execution_count": 9,
   "metadata": {
    "collapsed": false
   },
   "outputs": [
    {
     "data": {
      "text/html": [
       "<link href='http://fonts.googleapis.com/css?family=Alegreya+Sans:100,300,400,500,700,800,900,100italic,300italic,400italic,500italic,700italic,800italic,900italic' rel='stylesheet' type='text/css'>\n",
       "<link href='http://fonts.googleapis.com/css?family=Arvo:400,700,400italic' rel='stylesheet' type='text/css'>\n",
       "<link href='http://fonts.googleapis.com/css?family=PT+Mono' rel='stylesheet' type='text/css'>\n",
       "<link href='http://fonts.googleapis.com/css?family=Shadows+Into+Light' rel='stylesheet' type='text/css'>\n",
       "<link href='http://fonts.googleapis.com/css?family=Nixie+One' rel='stylesheet' type='text/css'>\n",
       "<style>\n",
       "\n",
       "@font-face {\n",
       "    font-family: \"Computer Modern\";\n",
       "    src: url('http://mirrors.ctan.org/fonts/cm-unicode/fonts/otf/cmunss.otf');\n",
       "}\n",
       "\n",
       "#notebook_panel { /* main background */\n",
       "    background: rgb(245,245,245);\n",
       "}\n",
       "\n",
       "div.cell { /* set cell width */\n",
       "    width: 750px;\n",
       "}\n",
       "\n",
       "div #notebook { /* centre the content */\n",
       "    background: #fff; /* white background for content */\n",
       "    width: 1000px;\n",
       "    margin: auto;\n",
       "    padding-left: 0em;\n",
       "}\n",
       "\n",
       "#notebook li { /* More space between bullet points */\n",
       "margin-top:0.8em;\n",
       "}\n",
       "\n",
       "/* draw border around running cells */\n",
       "div.cell.border-box-sizing.code_cell.running { \n",
       "    border: 1px solid #111;\n",
       "}\n",
       "\n",
       "/* Put a solid color box around each cell and its output, visually linking them*/\n",
       "div.cell.code_cell {\n",
       "    background-color: rgb(256,256,256); \n",
       "    border-radius: 0px; \n",
       "    padding: 0.5em;\n",
       "    margin-left:1em;\n",
       "    margin-top: 1em;\n",
       "}\n",
       "\n",
       "div.text_cell_render{\n",
       "    font-family: 'Alegreya Sans' sans-serif;\n",
       "    line-height: 140%;\n",
       "    font-size: 125%;\n",
       "    font-weight: 400;\n",
       "    width:600px;\n",
       "    margin-left:auto;\n",
       "    margin-right:auto;\n",
       "}\n",
       "\n",
       "\n",
       "/* Formatting for header cells */\n",
       ".text_cell_render h1 {\n",
       "    font-family: 'Nixie One', serif;\n",
       "    font-style:regular;\n",
       "    font-weight: 400;    \n",
       "    font-size: 45pt;\n",
       "    line-height: 100%;\n",
       "    color: rgb(0,51,102);\n",
       "    margin-bottom: 0.5em;\n",
       "    margin-top: 0.5em;\n",
       "    display: block;\n",
       "}\t\n",
       ".text_cell_render h2 {\n",
       "    font-family: 'Nixie One', serif;\n",
       "    font-weight: 400;\n",
       "    font-size: 30pt;\n",
       "    line-height: 100%;\n",
       "    color: rgb(0,51,102);\n",
       "    margin-bottom: 0.1em;\n",
       "    margin-top: 0.3em;\n",
       "    display: block;\n",
       "}\t\n",
       "\n",
       ".text_cell_render h3 {\n",
       "    font-family: 'Nixie One', serif;\n",
       "    margin-top:16px;\n",
       "\tfont-size: 22pt;\n",
       "    font-weight: 600;\n",
       "    margin-bottom: 3px;\n",
       "    font-style: regular;\n",
       "    color: rgb(102,102,0);\n",
       "}\n",
       "\n",
       ".text_cell_render h4 {    /*Use this for captions*/\n",
       "    font-family: 'Nixie One', serif;\n",
       "    font-size: 14pt;\n",
       "    text-align: center;\n",
       "    margin-top: 0em;\n",
       "    margin-bottom: 2em;\n",
       "    font-style: regular;\n",
       "}\n",
       "\n",
       ".text_cell_render h5 {  /*Use this for small titles*/\n",
       "    font-family: 'Nixie One', sans-serif;\n",
       "    font-weight: 400;\n",
       "    font-size: 16pt;\n",
       "    color: rgb(163,0,0);\n",
       "    font-style: italic;\n",
       "    margin-bottom: .1em;\n",
       "    margin-top: 0.8em;\n",
       "    display: block;\n",
       "}\n",
       "\n",
       ".text_cell_render h6 { /*use this for copyright note*/\n",
       "    font-family: 'PT Mono', sans-serif;\n",
       "    font-weight: 300;\n",
       "    font-size: 9pt;\n",
       "    line-height: 100%;\n",
       "    color: grey;\n",
       "    margin-bottom: 1px;\n",
       "    margin-top: 1px;\n",
       "}\n",
       "\n",
       ".CodeMirror{\n",
       "        font-family: \"PT Mono\";\n",
       "        font-size: 90%;\n",
       "}\n",
       "\n",
       "</style>\n",
       "<script>\n",
       "    MathJax.Hub.Config({\n",
       "                        TeX: {\n",
       "                           extensions: [\"AMSmath.js\"],\n",
       "                           equationNumbers: { autoNumber: \"AMS\", useLabelIds: true}\n",
       "                           },\n",
       "                tex2jax: {\n",
       "                    inlineMath: [ ['$','$'], [\"\\\\(\",\"\\\\)\"] ],\n",
       "                    displayMath: [ ['$$','$$'], [\"\\\\[\",\"\\\\]\"] ]\n",
       "                },\n",
       "                displayAlign: 'center', // Change this to 'center' to center equations.\n",
       "                \"HTML-CSS\": {\n",
       "                    styles: {'.MathJax_Display': {\"margin\": 4}}\n",
       "                }\n",
       "        });\n",
       "</script>\n"
      ],
      "text/plain": [
       "<IPython.core.display.HTML object>"
      ]
     },
     "execution_count": 9,
     "metadata": {},
     "output_type": "execute_result"
    }
   ],
   "source": [
    "from IPython.core.display import HTML\n",
    "def css_styling():\n",
    "    styles = open('./style/fmmstyle.css', 'r').read()\n",
    "    return HTML(styles)\n",
    "css_styling()"
   ]
  }
 ],
 "metadata": {
  "kernelspec": {
   "display_name": "Python 2",
   "language": "python",
   "name": "python2"
  },
  "language_info": {
   "codemirror_mode": {
    "name": "ipython",
    "version": 2
   },
   "file_extension": ".py",
   "mimetype": "text/x-python",
   "name": "python",
   "nbconvert_exporter": "python",
   "pygments_lexer": "ipython2",
   "version": "2.7.6"
  }
 },
 "nbformat": 4,
 "nbformat_minor": 0
}
