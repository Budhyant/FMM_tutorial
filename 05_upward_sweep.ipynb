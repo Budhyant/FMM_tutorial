{
 "cells": [
  {
   "cell_type": "markdown",
   "metadata": {},
   "source": [
    "## Step 5: Upward Sweep"
   ]
  },
  {
   "cell_type": "code",
   "execution_count": 1,
   "metadata": {
    "collapsed": false
   },
   "outputs": [],
   "source": [
    "import numpy\n",
    "from treecode_helper import Particle, Cell, build_tree"
   ]
  },
  {
   "cell_type": "markdown",
   "metadata": {},
   "source": [
    "In the previous notebook, we define the class `Cell`, and build the octree by adding particles into cells and splitting cells recursively. So far, we have covered how to use multipole expansion to accelerate the potential evaluation, and how to construct the hierarchical tree to group the particles in different cells. In this notebook, we will exploit the advantage of tree structure to calculate the multipole for each cell. Before we start, we added the class definition of `Cell` and `build_tree` function into the helper script `treecode_helper.py`. Now we can reuse the code to generate the tree (the list of cells) as follows. "
   ]
  },
  {
   "cell_type": "code",
   "execution_count": 2,
   "metadata": {
    "collapsed": false
   },
   "outputs": [],
   "source": [
    "n = 100          # number of particles\n",
    "particles = [ Particle(m=1.0/n) for i in range(n) ]\n",
    "\n",
    "n_crit = 10      # max number of particles in a single cell"
   ]
  },
  {
   "cell_type": "code",
   "execution_count": 3,
   "metadata": {
    "collapsed": false
   },
   "outputs": [],
   "source": [
    "root = Cell(n_crit)\n",
    "root.x, root.y, root.z = 0.5, 0.5, 0.5\n",
    "root.r = 0.5"
   ]
  },
  {
   "cell_type": "code",
   "execution_count": 4,
   "metadata": {
    "collapsed": false
   },
   "outputs": [],
   "source": [
    "cells = build_tree(particles, root, n_crit)"
   ]
  },
  {
   "cell_type": "markdown",
   "metadata": {},
   "source": [
    "In order to evaluate the potential at each target, we need to calculate the multipole of each cell on the tree (traverse the tree). Since we can obtain a cell's multipole by shifting all its children's multipoles (**M2M**), a natural way to traverse the tree is to start with calculating the multipoles of all leaf cells (**P2M**), and then sweep upward (from leaf cell to root cell) to implement **M2M**."
   ]
  },
  {
   "cell_type": "code",
   "execution_count": 5,
   "metadata": {
    "collapsed": false
   },
   "outputs": [],
   "source": [
    "def get_multipole(particles, p, cells, n_crit):\n",
    "    \"\"\"Calculate multipole arrays for all leaf cells under cell p.\n",
    "    If leaf number of cell p is equal or bigger than n_crit (non-leaf),\n",
    "    traverse down recursively. Otherwise (leaf), calculate the multipole\n",
    "    arrays for leaf cell p.\n",
    "    \n",
    "    Arguments:\n",
    "        p: current cell's index\n",
    "        cells: the list of cells\n",
    "        particles: the array of all particles\n",
    "        n_crit: maximum number of leaves in a single cell\n",
    "      \n",
    "    \"\"\"\n",
    "    # if the current cell p is not a leaf cell, then recursively traverse down\n",
    "    if cells[p].nleaf >= n_crit:\n",
    "        for c in range(8):\n",
    "            if cells[p].nchild & (1 << c):\n",
    "                get_multipole(particles, cells[p].child[c], cells, n_crit)\n",
    "    # otherwise cell p is a leaf cell\n",
    "    else:\n",
    "        # loop in leaf particles, do P2M\n",
    "        for i in range(cells[p].nleaf):\n",
    "            l = cells[p].leaf[i]\n",
    "            dx, dy, dz = cells[p].x-particles[l].x, \\\n",
    "                         cells[p].y-particles[l].y, \\\n",
    "                         cells[p].z-particles[l].z\n",
    "            cells[p].multipole += particles[l].m * \\\n",
    "                                  numpy.array((1, dx, dy, dz,\\\n",
    "                                               dx**2/2, dy**2/2, dz**2/2,\\\n",
    "                                               dx*dy/2, dy*dz/2, dz*dx/2)) "
   ]
  },
  {
   "cell_type": "markdown",
   "metadata": {},
   "source": [
    "In `get_multipole`, we first recursively traverse down from $p$-th cell to find the leaf cells among its descendants, and then do the P2M in the same way as we did in [step 03](https://github.com/barbagroup/FMM_tutorial/blob/759d54e9aaf18b1b6ebef47b591fe0885b430761/03_shift_the_expansion_M2M.ipynb). Knowing that the $1st$ element in `cells` is the root cell, we can calculate each leaf cell's multipole by setting $p=0$."
   ]
  },
  {
   "cell_type": "code",
   "execution_count": 6,
   "metadata": {
    "collapsed": false
   },
   "outputs": [],
   "source": [
    "root = 0    # index of the root cell\n",
    "get_multipole(particles, root, cells, n_crit)"
   ]
  },
  {
   "cell_type": "markdown",
   "metadata": {},
   "source": [
    "The rest of work should be very straightforward: go over each pair of parent and child to perform **M2M**."
   ]
  },
  {
   "cell_type": "code",
   "execution_count": 7,
   "metadata": {
    "collapsed": true
   },
   "outputs": [],
   "source": [
    "def M2M(p, c, cells):\n",
    "    \"\"\"Calculate parent cell p's multipole array based on child cell c's \n",
    "    multipoles\n",
    "    \n",
    "    Arguments:\n",
    "        p: parent cell index in cells list\n",
    "        c: child cell index in cells list\n",
    "        cells: the list of cells\n",
    "    \"\"\"\n",
    "    dx, dy, dz = cells[p].x-cells[c].x, cells[p].y-cells[c].y, cells[p].z-cells[c].z\n",
    "    \n",
    "    Dxyz =  numpy.array((dx, dy, dz))\n",
    "    Dyzx = numpy.roll(Dxyz,-1) #It permutes the array (dx,dy,dz) to (dy,dz,dx) \n",
    "    \n",
    "    cells[p].multipole += cells[c].multipole\n",
    "    \n",
    "    cells[p].multipole[1:4] += cells[c].multipole[0] * Dxyz\n",
    "    \n",
    "    cells[p].multipole[4:7] += cells[c].multipole[1:4] * Dxyz\\\n",
    "                             + 0.5*cells[c].multipole[0] *  Dxyz**2\n",
    "    \n",
    "    cells[p].multipole[7:] += 0.5*numpy.roll(cells[c].multipole[1:4], -1) * Dxyz \\\n",
    "                            + 0.5*cells[c].multipole[1:4] * Dxyz \\\n",
    "                            + 0.5*cells[c].multipole[0] * Dxyz * Dyzx   "
   ]
  },
  {
   "cell_type": "markdown",
   "metadata": {},
   "source": [
    "Recall that we contructed the tree in such fashion that the child of the $p$-th cell will be always located at the right side of $p$ in the list `cells`. Therefore, each leaf cell will be on the right side of its parents. Thus, one way to traverse the tree is looping from the tail to the head of the list `cells`."
   ]
  },
  {
   "cell_type": "code",
   "execution_count": 8,
   "metadata": {
    "collapsed": true
   },
   "outputs": [],
   "source": [
    "def upward_sweep(cells):\n",
    "    \"\"\"Traverse from leaves to root, in order to calculate multipoles\n",
    "    of all the cells.\n",
    "    \n",
    "    Arguments:\n",
    "        cells: the list of cells\n",
    "    \n",
    "    \"\"\"\n",
    "    for c in range(len(cells)-1, 0, -1):\n",
    "        p = cells[c].parent\n",
    "        M2M(p, c, cells)\n",
    "        \n",
    "    "
   ]
  },
  {
   "cell_type": "code",
   "execution_count": 9,
   "metadata": {
    "collapsed": true
   },
   "outputs": [],
   "source": [
    "upward_sweep(cells)"
   ]
  },
  {
   "cell_type": "markdown",
   "metadata": {},
   "source": [
    "##### Reference"
   ]
  },
  {
   "cell_type": "markdown",
   "metadata": {},
   "source": [
    "1. R. Yokota, 12 Steps to a Fast Multipole Method on GPUs, Pan-American Advanced Studies Institute, Valparaiso, Chile, 3-14 January, 2011.\n",
    "2. Raykar, V. C., \"[A short primer on the fast multipole method: FMM tutorial](http://www.umiacs.umd.edu/labs/cvl/pirl/vikas/publications/FMM_tutorial.pdf),\", University of Maryland, College Park, Apr. 8, 2006."
   ]
  },
  {
   "cell_type": "code",
   "execution_count": 10,
   "metadata": {
    "collapsed": false
   },
   "outputs": [
    {
     "data": {
      "text/html": [
       "<link href='http://fonts.googleapis.com/css?family=Alegreya+Sans:100,300,400,500,700,800,900,100italic,300italic,400italic,500italic,700italic,800italic,900italic' rel='stylesheet' type='text/css'>\n",
       "<link href='http://fonts.googleapis.com/css?family=Arvo:400,700,400italic' rel='stylesheet' type='text/css'>\n",
       "<link href='http://fonts.googleapis.com/css?family=PT+Mono' rel='stylesheet' type='text/css'>\n",
       "<link href='http://fonts.googleapis.com/css?family=Shadows+Into+Light' rel='stylesheet' type='text/css'>\n",
       "<link href='http://fonts.googleapis.com/css?family=Nixie+One' rel='stylesheet' type='text/css'>\n",
       "<style>\n",
       "\n",
       "@font-face {\n",
       "    font-family: \"Computer Modern\";\n",
       "    src: url('http://mirrors.ctan.org/fonts/cm-unicode/fonts/otf/cmunss.otf');\n",
       "}\n",
       "\n",
       "#notebook_panel { /* main background */\n",
       "    background: rgb(245,245,245);\n",
       "}\n",
       "\n",
       "div.cell { /* set cell width */\n",
       "    width: 750px;\n",
       "}\n",
       "\n",
       "div #notebook { /* centre the content */\n",
       "    background: #fff; /* white background for content */\n",
       "    width: 1000px;\n",
       "    margin: auto;\n",
       "    padding-left: 0em;\n",
       "}\n",
       "\n",
       "#notebook li { /* More space between bullet points */\n",
       "margin-top:0.8em;\n",
       "}\n",
       "\n",
       "/* draw border around running cells */\n",
       "div.cell.border-box-sizing.code_cell.running { \n",
       "    border: 1px solid #111;\n",
       "}\n",
       "\n",
       "/* Put a solid color box around each cell and its output, visually linking them*/\n",
       "div.cell.code_cell {\n",
       "    background-color: rgb(256,256,256); \n",
       "    border-radius: 0px; \n",
       "    padding: 0.5em;\n",
       "    margin-left:1em;\n",
       "    margin-top: 1em;\n",
       "}\n",
       "\n",
       "div.text_cell_render{\n",
       "    font-family: 'Alegreya Sans' sans-serif;\n",
       "    line-height: 140%;\n",
       "    font-size: 110%;\n",
       "    font-weight: 400;\n",
       "    width:600px;\n",
       "    margin-left:auto;\n",
       "    margin-right:auto;\n",
       "}\n",
       "\n",
       "\n",
       "/* Formatting for header cells */\n",
       ".text_cell_render h1 {\n",
       "    font-family: 'Nixie One', serif;\n",
       "    font-style:regular;\n",
       "    font-weight: 400;    \n",
       "    font-size: 45pt;\n",
       "    line-height: 100%;\n",
       "    color: rgb(0,51,102);\n",
       "    margin-bottom: 0.5em;\n",
       "    margin-top: 0.5em;\n",
       "    display: block;\n",
       "}\t\n",
       ".text_cell_render h2 {\n",
       "    font-family: 'Nixie One', serif;\n",
       "    font-weight: 400;\n",
       "    font-size: 30pt;\n",
       "    line-height: 100%;\n",
       "    color: rgb(0,51,102);\n",
       "    margin-bottom: 0.1em;\n",
       "    margin-top: 0.3em;\n",
       "    display: block;\n",
       "}\t\n",
       "\n",
       ".text_cell_render h3 {\n",
       "    font-family: 'Nixie One', serif;\n",
       "    margin-top:16px;\n",
       "\tfont-size: 22pt;\n",
       "    font-weight: 600;\n",
       "    margin-bottom: 3px;\n",
       "    font-style: regular;\n",
       "    color: rgb(102,102,0);\n",
       "}\n",
       "\n",
       ".text_cell_render h4 {    /*Use this for captions*/\n",
       "    font-family: 'Nixie One', serif;\n",
       "    font-size: 14pt;\n",
       "    text-align: center;\n",
       "    margin-top: 0em;\n",
       "    margin-bottom: 2em;\n",
       "    font-style: regular;\n",
       "}\n",
       "\n",
       ".text_cell_render h5 {  /*Use this for small titles*/\n",
       "    font-family: 'Nixie One', sans-serif;\n",
       "    font-weight: 400;\n",
       "    font-size: 16pt;\n",
       "    color: rgb(163,0,0);\n",
       "    font-style: italic;\n",
       "    margin-bottom: .1em;\n",
       "    margin-top: 0.8em;\n",
       "    display: block;\n",
       "}\n",
       "\n",
       ".text_cell_render h6 { /*use this for copyright note*/\n",
       "    font-family: 'PT Mono', sans-serif;\n",
       "    font-weight: 300;\n",
       "    font-size: 9pt;\n",
       "    line-height: 100%;\n",
       "    color: grey;\n",
       "    margin-bottom: 1px;\n",
       "    margin-top: 1px;\n",
       "}\n",
       "\n",
       ".CodeMirror{\n",
       "        font-family: \"PT Mono\";\n",
       "        font-size: 90%;\n",
       "}\n",
       "\n",
       "</style>\n",
       "<script>\n",
       "    MathJax.Hub.Config({\n",
       "                        TeX: {\n",
       "                           extensions: [\"AMSmath.js\"],\n",
       "                           equationNumbers: { autoNumber: \"AMS\", useLabelIds: true}\n",
       "                           },\n",
       "                tex2jax: {\n",
       "                    inlineMath: [ ['$','$'], [\"\\\\(\",\"\\\\)\"] ],\n",
       "                    displayMath: [ ['$$','$$'], [\"\\\\[\",\"\\\\]\"] ]\n",
       "                },\n",
       "                displayAlign: 'center', // Change this to 'center' to center equations.\n",
       "                \"HTML-CSS\": {\n",
       "                    styles: {'.MathJax_Display': {\"margin\": 4}}\n",
       "                }\n",
       "        });\n",
       "</script>\n"
      ],
      "text/plain": [
       "<IPython.core.display.HTML object>"
      ]
     },
     "execution_count": 10,
     "metadata": {},
     "output_type": "execute_result"
    }
   ],
   "source": [
    "from IPython.core.display import HTML\n",
    "def css_styling():\n",
    "    styles = open('./style/fmmstyle.css', 'r').read()\n",
    "    return HTML(styles)\n",
    "css_styling()"
   ]
  }
 ],
 "metadata": {
  "kernelspec": {
   "display_name": "Python 3",
   "language": "python",
   "name": "python3"
  },
  "language_info": {
   "codemirror_mode": {
    "name": "ipython",
    "version": 3
   },
   "file_extension": ".py",
   "mimetype": "text/x-python",
   "name": "python",
   "nbconvert_exporter": "python",
   "pygments_lexer": "ipython3",
   "version": "3.4.3"
  }
 },
 "nbformat": 4,
 "nbformat_minor": 0
}
