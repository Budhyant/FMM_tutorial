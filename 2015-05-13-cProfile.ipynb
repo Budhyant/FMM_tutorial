{
 "cells": [
  {
   "cell_type": "markdown",
   "metadata": {},
   "source": [
    "Objective:\n",
    "- how do the treecode scale with number of particles\n",
    "- how do the treecode scale with increasing number of dimensions"
   ]
  },
  {
   "cell_type": "code",
   "execution_count": 3,
   "metadata": {
    "collapsed": true
   },
   "outputs": [],
   "source": [
    "import cProfile\n",
    "from treecode_helper import *"
   ]
  },
  {
   "cell_type": "code",
   "execution_count": 4,
   "metadata": {
    "collapsed": true
   },
   "outputs": [],
   "source": [
    "fid = 'cube10000'"
   ]
  },
  {
   "cell_type": "code",
   "execution_count": 5,
   "metadata": {
    "collapsed": false
   },
   "outputs": [],
   "source": [
    "particles = read_particle(fid)"
   ]
  },
  {
   "cell_type": "code",
   "execution_count": 6,
   "metadata": {
    "collapsed": true
   },
   "outputs": [],
   "source": [
    "n_crit = 10\n",
    "theta = 0.2"
   ]
  },
  {
   "cell_type": "code",
   "execution_count": 7,
   "metadata": {
    "collapsed": false
   },
   "outputs": [],
   "source": [
    "def treecode(particles, n_crit, theta):\n",
    "    \n",
    "    # build the tree\n",
    "    root = Cell(n_crit)\n",
    "    root.x, root.y, root.z = 0.5, 0.5, 0.5\n",
    "    root.r = 0.5\n",
    "    cells = build_tree(particles, root, n_crit)\n",
    "    \n",
    "    # P2M\n",
    "    leaves = []\n",
    "    get_multipole(particles, 0, cells, leaves, n_crit)\n",
    "    \n",
    "    # M2M\n",
    "    upward_sweep(cells)\n",
    "    \n",
    "    # evaluate the potentials\n",
    "    eval_potential_nv(particles, cells, n_crit, theta)\n",
    "    \n",
    "    return particles"
   ]
  },
  {
   "cell_type": "code",
   "execution_count": 8,
   "metadata": {
    "collapsed": true
   },
   "outputs": [],
   "source": [
    "particles = treecode(particles, n_crit, theta)"
   ]
  },
  {
   "cell_type": "markdown",
   "metadata": {},
   "source": [
    "#### check the result"
   ]
  },
  {
   "cell_type": "code",
   "execution_count": 9,
   "metadata": {
    "collapsed": false
   },
   "outputs": [],
   "source": [
    "phi_direct = numpy.loadtxt('test/'+fid+'_result')\n",
    "phi_tree = numpy.asarray([particle.phi for particle in particles])"
   ]
  },
  {
   "cell_type": "code",
   "execution_count": 10,
   "metadata": {
    "collapsed": false
   },
   "outputs": [
    {
     "data": {
      "text/plain": [
       "True"
      ]
     },
     "execution_count": 10,
     "metadata": {},
     "output_type": "execute_result"
    }
   ],
   "source": [
    "numpy.allclose(phi_tree, phi_direct, rtol=1e-03, atol=0.)"
   ]
  },
  {
   "cell_type": "code",
   "execution_count": 11,
   "metadata": {
    "collapsed": false
   },
   "outputs": [
    {
     "name": "stdout",
     "output_type": "stream",
     "text": [
      "L2 Norm error: 6.72896532073e-05\n"
     ]
    }
   ],
   "source": [
    "l2_err(phi_direct, phi_tree)"
   ]
  },
  {
   "cell_type": "markdown",
   "metadata": {},
   "source": [
    "#### run the cProfile"
   ]
  },
  {
   "cell_type": "code",
   "execution_count": 12,
   "metadata": {
    "collapsed": false
   },
   "outputs": [
    {
     "name": "stdout",
     "output_type": "stream",
     "text": [
      "         15566550 function calls (14230792 primitive calls) in 80.318 seconds\n",
      "\n",
      "   Ordered by: standard name\n",
      "\n",
      "   ncalls  tottime  percall  cumtime  percall filename:lineno(function)\n",
      "        1    0.000    0.000   80.313   80.313 <ipython-input-7-519ca4b6b8dc>:1(treecode)\n",
      "        1    0.005    0.005   80.318   80.318 <string>:1(<module>)\n",
      "      584    0.018    0.000    0.062    0.000 treecode_helper.py:104(split_cell)\n",
      "        1    0.079    0.079    0.153    0.153 treecode_helper.py:130(build_tree)\n",
      "   4344/1    0.079    0.000    0.098    0.098 treecode_helper.py:167(get_multipole)\n",
      "     4343    0.064    0.000    0.067    0.000 treecode_helper.py:196(M2M)\n",
      "        1    0.002    0.002    0.070    0.070 treecode_helper.py:227(upward_sweep)\n",
      "1341415/10000   42.870    0.000   79.984    0.008 treecode_helper.py:270(eval_helper_nv)\n",
      "  7753408   17.586    0.000   17.586    0.000 treecode_helper.py:30(distance)\n",
      "        1    0.008    0.008   79.992   79.992 treecode_helper.py:314(eval_potential_nv)\n",
      "     4344    0.014    0.000    0.035    0.000 treecode_helper.py:65(__init__)\n",
      "     4343    0.019    0.000    0.055    0.000 treecode_helper.py:79(add_child)\n",
      "     4346    0.001    0.000    0.001    0.000 {len}\n",
      "     8103    0.001    0.000    0.001    0.000 {method 'append' of 'list' objects}\n",
      "        1    0.000    0.000    0.000    0.000 {method 'disable' of '_lsprof.Profiler' objects}\n",
      "  5058177   18.865    0.000   18.865    0.000 {numpy.core._dotblas.dot}\n",
      "    24343    0.021    0.000    0.021    0.000 {numpy.core.multiarray.array}\n",
      "    13032    0.021    0.000    0.021    0.000 {numpy.core.multiarray.zeros}\n",
      "  1345762    0.666    0.000    0.666    0.000 {range}\n",
      "\n",
      "\n"
     ]
    }
   ],
   "source": [
    "cProfile.run(\"treecode(particles, n_crit, theta)\")"
   ]
  },
  {
   "cell_type": "code",
   "execution_count": 13,
   "metadata": {
    "collapsed": false
   },
   "outputs": [],
   "source": [
    "n = len(particles)"
   ]
  },
  {
   "cell_type": "code",
   "execution_count": 21,
   "metadata": {
    "collapsed": false
   },
   "outputs": [
    {
     "name": "stdout",
     "output_type": "stream",
     "text": [
      "direct summation operation percentage 7.753408%\n"
     ]
    }
   ],
   "source": [
    "print(\"direct summation operation percentage \" + str(float(7753408)/n**2*100) + \"%\")"
   ]
  },
  {
   "cell_type": "code",
   "execution_count": null,
   "metadata": {
    "collapsed": true
   },
   "outputs": [],
   "source": []
  }
 ],
 "metadata": {
  "kernelspec": {
   "display_name": "Python 2",
   "language": "python",
   "name": "python2"
  },
  "language_info": {
   "codemirror_mode": {
    "name": "ipython",
    "version": 2
   },
   "file_extension": ".py",
   "mimetype": "text/x-python",
   "name": "python",
   "nbconvert_exporter": "python",
   "pygments_lexer": "ipython2",
   "version": "2.7.9"
  }
 },
 "nbformat": 4,
 "nbformat_minor": 0
}
