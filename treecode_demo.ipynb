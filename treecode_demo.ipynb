{
 "metadata": {
  "name": "",
  "signature": "sha256:a3b226a1e65f5f07d78e4f1141673b509db40ba10ab3b87af0cc419947988c3f"
 },
 "nbformat": 3,
 "nbformat_minor": 0,
 "worksheets": [
  {
   "cells": [
    {
     "cell_type": "markdown",
     "metadata": {},
     "source": [
      "##Step 1: *direct N-body simulation*"
     ]
    },
    {
     "cell_type": "code",
     "collapsed": false,
     "input": [
      "import numpy\n",
      "import random"
     ],
     "language": "python",
     "metadata": {},
     "outputs": [],
     "prompt_number": 4
    },
    {
     "cell_type": "markdown",
     "metadata": {},
     "source": [
      "$$\\begin{equation}\n",
      "\\Phi_i = \\sum_{\\substack{j=0\\\\ i \\neq j}}^N{\\frac{m_j}{r}}\n",
      "\\end{equation}$$\n",
      "\n",
      "$$\\begin{equation}\n",
      "r = \\sqrt{(x_i-x_j)^2+(y_i-y_j)^2+(z_i-z_j)^2}\n",
      "\\end{equation}$$"
     ]
    },
    {
     "cell_type": "code",
     "collapsed": false,
     "input": [
      "N = 10\n",
      "RAND_MAX = 100.0\n",
      "\n",
      "# initialize\n",
      "x = numpy.zeros(N)\n",
      "y = numpy.zeros(N)\n",
      "z = numpy.zeros(N)\n",
      "m = numpy.zeros(N)\n",
      "phi = numpy.zeros(N)\n",
      "for i in range(N):\n",
      "    x[i] = random.uniform(0,RAND_MAX)/RAND_MAX     # coordinate domain from 0 to 1\n",
      "    y[i] = random.uniform(0,RAND_MAX)/RAND_MAX\n",
      "    z[i] = random.uniform(0,RAND_MAX)/RAND_MAX\n",
      "    m[i] = 1.0/N\n",
      "\n",
      "# direct summation\n",
      "epsilon = 0.01     # avoid zero division\n",
      "for i in range(N):\n",
      "    phi[i] = -m[i]/numpy.sqrt(epsilon**2)\n",
      "    for j in range(N):\n",
      "        dx = x[i] - x[j]\n",
      "        dy = y[i] - y[j]\n",
      "        dz = z[i] - z[j]\n",
      "        r = numpy.sqrt(dx**2 + dy**2 + dz**2 + epsilon**2)\n",
      "        phi[i] = phi[i] + m[j]/r"
     ],
     "language": "python",
     "metadata": {},
     "outputs": [],
     "prompt_number": 22
    },
    {
     "cell_type": "code",
     "collapsed": false,
     "input": [
      "x"
     ],
     "language": "python",
     "metadata": {},
     "outputs": [
      {
       "metadata": {},
       "output_type": "pyout",
       "prompt_number": 10,
       "text": [
        "array([ 0.25654283,  0.83825645,  0.35752418,  0.13282545,  0.68728279,\n",
        "        0.09595287,  0.65140292,  0.30402227,  0.9952765 ,  0.72824939])"
       ]
      }
     ],
     "prompt_number": 10
    },
    {
     "cell_type": "code",
     "collapsed": false,
     "input": [
      "phi"
     ],
     "language": "python",
     "metadata": {},
     "outputs": [
      {
       "metadata": {},
       "output_type": "pyout",
       "prompt_number": 19,
       "text": [
        "array([ 1.58751364,  1.13616488,  1.33397696,  1.20319265,  2.00044691,\n",
        "        1.85234026,  1.73325975,  1.7930115 ,  2.08142004,  1.72601693])"
       ]
      }
     ],
     "prompt_number": 19
    },
    {
     "cell_type": "markdown",
     "metadata": {},
     "source": [
      "##Step 2: *multipole expansion*"
     ]
    },
    {
     "cell_type": "code",
     "collapsed": false,
     "input": [],
     "language": "python",
     "metadata": {},
     "outputs": []
    }
   ],
   "metadata": {}
  }
 ]
}