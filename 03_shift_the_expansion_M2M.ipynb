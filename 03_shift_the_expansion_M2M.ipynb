{
 "cells": [
  {
   "cell_type": "markdown",
   "metadata": {},
   "source": [
    "## Step 3: Multi-level Multipole Expansion"
   ]
  },
  {
   "cell_type": "markdown",
   "metadata": {},
   "source": [
    "Recall in the previous notebook, we grouped all the sources in the same cell. However, when the number of particles becomes very large, instead of grouping all the sources in a single cell, we need to build a hierachical structure to group the particles. The picture below shows a quadtree structure for a 2D particle distribution, where each parent cell (grey) can be split into 4 child cells (orange). From the previous lesson we know that the multipole of a cell only depends on the sources in that cell and the center of the cell, namely, the multipole is a \"property\" of a cell. \n",
    "\n",
    "<img src=\"image/m2m.png\">\n",
    "\n",
    "Now that multipole is a property of a cell, we should be able to evaluate the multipole of a parent cell given the multipole values of its child cells. That is our goal for this notebook! Here we use an octree to subdivide a parent cell into 8 child cells in 3D.\n",
    "\n",
    "First, let's review each term in multipole of a child cell $c$:\n",
    "\n",
    "$$\\begin{equation}\\begin{split}\n",
    "M_c &= \\sum_{j=0}^{N_c} m_j\\\\\n",
    "D_{c_x} &= \\sum_{j=0}^{N_c} m_j\\,( x_c - x_j)\\\\\n",
    "Q_{c_{xx}} &= \\sum_{j=0}^{N_c} \\frac{1}{2}m_j\\, ( x_c - x_j)^2 \\\\\n",
    "Q_{c_{xy}} &= \\sum_{j=0}^{N_c} \\frac{1}{2}m_j\\, (x_c-x_j)(y_c-y_j) \\\\\n",
    "\\end{split}\\end{equation}$$\n",
    "\n",
    "where $N_c$ is the number of sources in the child cell, $x_c$ is the cell's center, $M$, $D$, $Q$ are respectively monopole, dipole and quadrupole. When we expand the particles from a smaller group (*child*) to a larger group (*parent*), we also need to shift the center of expansion from ($x_c$, $y_c$, $z_c$) to ($x_p$, $y_p$, $z_p$). Now we expand them in a parent cell $p$ with 8 child cells:\n",
    "\n",
    "$$\\begin{equation}\\begin{split}\n",
    "M_p &= \\sum_{j=0}^N m_j = \\sum_{c=0}^7 M_c\\\\\n",
    "D_{p_x} &= \\sum_{j=0}^N m_j\\,( x_p - x_j) = \\sum_{c=0}^7 \\left[\\sum_{j=0}^{N_c} m_j\\,(x_c-x_j) + ( x_p-x_c)\\sum_{j=0}^{N_c} m_j\\right]\\\\\n",
    "&= \\sum_{c=0}^{7} \\left[D_{c_x} + (x_p-x_c)\\,M_c\\right] \\\\\n",
    "Q_{p_{xx}} &= \\sum_{j=0}^N \\frac{1}{2}m_j \\,(x_p - x_j)^2 = \\sum_{c=0}^7 \\left[\\sum_{j=0}^N \\frac{1}{2}m_j\\left[(x_c-x_j)+(x_p-x_c)\\right]^2 \\right]\\\\\n",
    "&= \\sum_{c=0}^7 \\left[\\sum_{j=0}^N \\frac{1}{2}m_j (x_c - x_j)^2 + (x_p-x_c) \\sum_{j=0}^N m_j(x_c-x_j) + \\frac{(x_p-x_c)^2}{2} \\sum_{j=0}^N m_j \\right]\\\\\n",
    "&= \\sum_{c=0}^7 \\left[Q_{c_{xx}} + (x_p-x_c)D_{c_{x}} + \\frac{(x_p-x_c)^2}{2}M_c \\right]\\\\\n",
    "Q_{p_{xy}} &= \\sum_{j=0}^{N} \\frac{1}{2}m_j\\, (x_p-x_j)(y_p-y_j) \\\\\n",
    "&= \\sum_{c=0}^7 \\left[\\sum_{j=0}^{N} \\frac{1}{2}m_j(x_c-x_j)(y_c-y_j) + \\frac{(x_p-x_c)}{2}\\sum_{j=0}^{N}m_j(y_c-y_j) \\right.\\\\\n",
    "&+\\left. \\frac{(y_p-y_c)}{2}\\sum_{j=0}^{N}m_j(x_c-x_j) + \\frac{(x_p-x_c)(y_p-y_c)}{2}\\sum_{j=0}^{N}m_j\\right]\\\\\n",
    "&= \\sum_{c=0}^7 \\left[ Q_{c_{xy}} +\\frac{(x_p-x_c)}{2}D_{c_y} +\\frac{(y_p-y_c)}{2}D_{c_x} + \\frac{(x_p-x_c)(y_p-y_c)}{2}M_c \\right]\n",
    "\\end{split}\\end{equation}$$\n",
    "\n",
    "Each multipole term $M_p$, $D_p$, $Q_p$ in parent cell can be expressed by a summation of its child's multipole terms $M_c$, $D_c$, $Q_c$. Therefore, we refer this expansion shifting process as **Multipole-to-Multipole** or **M2M**."
   ]
  },
  {
   "cell_type": "markdown",
   "metadata": {},
   "source": [
    "We use the same spatial distribution of sources and targets as the previous lesson, and they are well separated. We assume there are $n$ sources located in the domain: $x_j$, $y_j$, $z_j$ $\\in$ $\\left[ 0, 1 \\right]$, while $n$ targets in the domain: $x_i$, $y_i$, $z_i$ $\\in$ $\\left[ -1, 0 \\right]$."
   ]
  },
  {
   "cell_type": "markdown",
   "metadata": {},
   "source": [
    "This time we assign all the sources in the **parent** cell centered at $(0.5, 0.5, 0.5)$ with a side length of $1$. Then we subdivide the unit cube into 8 **child** cells to form an octree. The child's side length should be $0.5$. We index the $8$ child cells from $0$ to $7$, and calculate the coordinates of child's center based on the index (octant)."
   ]
  },
  {
   "cell_type": "code",
   "execution_count": 1,
   "metadata": {
    "code_folding": [],
    "collapsed": false
   },
   "outputs": [],
   "source": [
    "# importing libraries\n",
    "import numpy\n",
    "from treecode_helper import Particle, distance, l2_err, plot_err\n",
    "from matplotlib import pyplot, rcParams\n",
    "%matplotlib inline\n",
    "from mpl_toolkits.mplot3d import Axes3D\n",
    "\n",
    "# customizing plot parameters\n",
    "rcParams['figure.dpi'] = 100\n",
    "rcParams['font.size'] = 16\n",
    "rcParams['font.family'] = 'StixGeneral'"
   ]
  },
  {
   "cell_type": "code",
   "execution_count": 2,
   "metadata": {
    "collapsed": false
   },
   "outputs": [],
   "source": [
    "n = 50     # number of particles\n",
    "m = 1/n    # mass\n",
    "\n",
    "# initialize sources and targets\n",
    "source_coords = numpy.random.random((n, 3)).tolist()\n",
    "target_coords = (-numpy.random.random((n, 3))).tolist()\n",
    "sources = [ Particle(coord, m=m) for coord in source_coords ]\n",
    "targets = [ Particle(coord, m=m) for coord in target_coords ]"
   ]
  },
  {
   "cell_type": "code",
   "execution_count": 3,
   "metadata": {
    "collapsed": false
   },
   "outputs": [],
   "source": [
    "class Cell():\n",
    "    \"\"\"The class for a cell.\n",
    "    \n",
    "    Attributes:\n",
    "        x, y, z: xyz coordinates of the cell's center\n",
    "        multipole: the array of the cell's multipoles\n",
    "    \n",
    "    \"\"\"\n",
    "    def __init__(self, x=None, y=None, z=None):\n",
    "        self.x = x\n",
    "        self.y = y\n",
    "        self.z = z\n",
    "        self.multipole = numpy.zeros(10)"
   ]
  },
  {
   "cell_type": "code",
   "execution_count": 4,
   "metadata": {
    "collapsed": false
   },
   "outputs": [],
   "source": [
    "# create parent cell\n",
    "parent = Cell(0.5, 0.5, 0.5)\n",
    "# create an array of 8 child cells\n",
    "octant = numpy.arange(8)\n",
    "# use \"//\" as integer division and \"/\" as floating-point division\n",
    "x = (octant % 2) * parent.x + parent.x/2\n",
    "y = ((octant//2) % 2) * parent.y + parent.y/2\n",
    "z = ((octant//4) % 2) * parent.z + parent.z/2\n",
    "children = [Cell(x[i], y[i], z[i]) for i in range(8)]"
   ]
  },
  {
   "cell_type": "markdown",
   "metadata": {},
   "source": [
    "After we create the octree, we need to loop over sources to distribute them into child cells. Then perform a P2M to calculate the multipoles for each child. The two steps both require loop in source $j$, therefore, we can merge them into one function."
   ]
  },
  {
   "cell_type": "code",
   "execution_count": 5,
   "metadata": {
    "collapsed": false
   },
   "outputs": [],
   "source": [
    "def P2M(sources, parent, children):\n",
    "    \"\"\"Calculate the multipoles for child cells.\n",
    "    \n",
    "    Arguments:\n",
    "        sources: the list of source objects in 'Particle' class\n",
    "        parent: parent cell object\n",
    "        children: the list of child cell objects\n",
    "        \n",
    "    \"\"\"\n",
    "    for source in sources:\n",
    "        octant = (source.x > parent.x) + ((source.y > parent.y) << 1) \\\n",
    "                                       + ((source.z > parent.z) << 2)\n",
    "        dx, dy, dz = children[octant].x-source.x,\\\n",
    "                     children[octant].y-source.y,\\\n",
    "                     children[octant].z-source.z\n",
    "        \n",
    "        children[octant].multipole += source.m*numpy.array((1, dx, dy, dz,\\\n",
    "                                                dx**2/2, dy**2/2, dz**2/2,\\\n",
    "                                                dx*dy/2, dy*dz/2, dz*dx/2))"
   ]
  },
  {
   "cell_type": "markdown",
   "metadata": {},
   "source": [
    "The \"two less than\" sign $<<$ is a bit shift operator. The first line inside the loop is how we find the octant of a source particle. The RHS of the expression returns a integer from $0$ to $7$, representing one of the eight octants. Think about how this line of code works like a charm. It is in accordance with the way we generate the coordinates of the child cell's centers. In addition, since we have $8$ cells, the multipole array becomes a 2d array, the first argument refers to one of the eight octants, and the second is one of the ten multipole terms."
   ]
  },
  {
   "cell_type": "code",
   "execution_count": 6,
   "metadata": {
    "collapsed": false
   },
   "outputs": [],
   "source": [
    "P2M(sources, parent, children)"
   ]
  },
  {
   "cell_type": "markdown",
   "metadata": {},
   "source": [
    "Given the multipoles of the child cells, we can write the M2M kernel following the equations we just derived above. We also call this part \"upward translation\" since we shift the expansion center from child cell to parent cell.\n",
    "\n",
    "The M2M kernel do not explicitly include the information of the sources as an input, instead it loops over each child cell and multipoles of child cells contain the information of sources $x_j$, $y_j$, $z_j$, $m_j$ in each octant. M2M returns the 10 multipole terms of the parent cell, which contains the information of all the sources in the domain."
   ]
  },
  {
   "cell_type": "code",
   "execution_count": 7,
   "metadata": {
    "collapsed": false
   },
   "outputs": [],
   "source": [
    "def M2M(parent, children):\n",
    "    \"\"\"Given the child cells' multipoles, calculate the parent's multipoles.\n",
    "    \n",
    "    Arguments:\n",
    "        parent: parent cell object\n",
    "        children: the list of child cell objects\n",
    "        \n",
    "    \"\"\"\n",
    "    for child in children:\n",
    "        dx, dy, dz = parent.x-child.x, parent.y-child.y, parent.z-child.z\n",
    "        parent.multipole += child.multipole\n",
    "        parent.multipole[1:4] += child.multipole[0] * numpy.array((dx, dy, dz))\n",
    "        parent.multipole[4:7] += child.multipole[1:4] * numpy.array((dx, dy, dz))\\\n",
    "                                + 0.5*child.multipole[0] * numpy.array((dx**2, dy**2, dz**2))\n",
    "        parent.multipole[7:] += 0.5*numpy.array((child.multipole[2], child.multipole[3], child.multipole[1])) * numpy.array((dx, dy, dz))\\\n",
    "                                + 0.5*child.multipole[1:4] * numpy.array((dy, dz, dx))\\\n",
    "                                + 0.5*child.multipole[0] * numpy.array((dx*dy, dy*dz, dz*dx)) "
   ]
  },
  {
   "cell_type": "code",
   "execution_count": 8,
   "metadata": {
    "collapsed": false
   },
   "outputs": [],
   "source": [
    "M2M(parent, children)"
   ]
  },
  {
   "cell_type": "markdown",
   "metadata": {},
   "source": [
    "Now we have the multipole array of the parent cell, so we can loop in targets in order to evaluate the potential at each target by an multipole expansion. (Recall multipole expansion in the previous notebook)"
   ]
  },
  {
   "cell_type": "code",
   "execution_count": 9,
   "metadata": {
    "collapsed": true
   },
   "outputs": [],
   "source": [
    "def eval_potential(targets, multipole, center):\n",
    "    \"\"\"Given targets list, multipole and expansion center, return\n",
    "    the array of target's potentials.\n",
    "    \n",
    "    Arguments:\n",
    "        targets: the list of target objects in 'Particle' class\n",
    "        multipole: the multipole array of the cell\n",
    "        center: the point object of expansion center\n",
    "    \n",
    "    Returns:\n",
    "        phi: the potential array of targets\n",
    "        \n",
    "    \"\"\"\n",
    "    # prepare for array operation\n",
    "    target_x = numpy.array([target.x for target in targets])\n",
    "    target_y = numpy.array([target.y for target in targets])\n",
    "    target_z = numpy.array([target.z for target in targets])\n",
    "    target_array = [target_x, target_y, target_z]\n",
    "    \n",
    "    # calculate the distance between each target and center\n",
    "    r = distance(target_array, center)\n",
    "    \n",
    "    # prearrange some constants for weight\n",
    "    dx, dy, dz = target_x-center.x, target_y-center.y, target_z-center.z\n",
    "    r3 = r**3\n",
    "    r5 = r3*r**2\n",
    "    \n",
    "    # calculate the weight for each multipole\n",
    "    weight = [1/r, -dx/r3, -dy/r3, -dz/r3, 3*dx**2/r5 - 1/r3, \\\n",
    "              3*dy**2/r5 - 1/r3, 3*dz**2/r5 - 1/r3, 3*dx*dy/r5, \\\n",
    "              3*dy*dz/r5, 3*dz*dx/r5]\n",
    "    \n",
    "    # evaluate potential\n",
    "    phi = numpy.dot(multipole, weight)\n",
    "    return phi"
   ]
  },
  {
   "cell_type": "code",
   "execution_count": 10,
   "metadata": {
    "collapsed": false
   },
   "outputs": [],
   "source": [
    "phi_multi = eval_potential(targets, parent.multipole, parent)"
   ]
  },
  {
   "cell_type": "markdown",
   "metadata": {},
   "source": [
    "How should the domain looks like?\n",
    "\n",
    "The black dot shows the parent's center, while the greens are the centers of child cells.\n"
   ]
  },
  {
   "cell_type": "code",
   "execution_count": 11,
   "metadata": {
    "collapsed": false
   },
   "outputs": [
    {
     "data": {
      "image/png": "[encoded data removed]",
      "text/plain": [
       "<matplotlib.figure.Figure at 0x7fc7224c0160>"
      ]
     },
     "metadata": {},
     "output_type": "display_data"
    }
   ],
   "source": [
    "# plot spatial particle distribution\n",
    "fig = pyplot.figure(figsize=(10,4.5))\n",
    "# left plot\n",
    "ax = fig.add_subplot(1,2,1, projection='3d')\n",
    "ax.scatter([target.x for target in targets], \n",
    "           [target.y for target in targets], \n",
    "           [target.z for target in targets], s=30, c='b')\n",
    "ax.scatter([source.x for source in sources], \n",
    "           [source.y for source in sources], \n",
    "           [source.z for source in sources], s=30, c='r')\n",
    "\n",
    "ax.scatter(x, y, z, s=50, c='g') #center of child cells\n",
    "\n",
    "ax.scatter(parent.x, parent.y, parent.z, s=30, c='k') #center of parent cell\n",
    "\n",
    "ax.set_xlim3d(-1,1)\n",
    "ax.set_ylim3d(-1,1)\n",
    "ax.set_zlim3d(-1,1)\n",
    "ax.set_xlabel('$x$')\n",
    "ax.set_ylabel('$y$')\n",
    "ax.set_zlabel('$z$')\n",
    "ax.set_title('Particle Distribution')\n",
    "# right plot\n",
    "ax = fig.add_subplot(1,2,2, projection='3d')\n",
    "scale = 100   # scale for dot size in scatter plot\n",
    "ax.scatter([target.x for target in targets], \n",
    "           [target.y for target in targets], \n",
    "           [target.z for target in targets],\n",
    "           s=phi_multi*scale, c='b')\n",
    "ax.set_xlim3d(-1,0)\n",
    "ax.set_ylim3d(-1,0)\n",
    "ax.set_zlim3d(-1,0)\n",
    "ax.set_xlabel('$x$')\n",
    "ax.set_ylabel('$y$')\n",
    "ax.set_zlabel('$z$')\n",
    "ax.set_title('Target Distribution (radius implies potential)');"
   ]
  },
  {
   "cell_type": "code",
   "execution_count": 12,
   "metadata": {
    "collapsed": true
   },
   "outputs": [],
   "source": [
    "def direct_sum(sources, targets):\n",
    "    \"\"\"Calculate the gravitational potential (target.phi) at each target \n",
    "    particle using direct summation method.\n",
    "\n",
    "    Arguments:\n",
    "        sources: the list of source objects in 'Particle' class\n",
    "        targets: the list of target objects in 'Particle' class\n",
    "\n",
    "    \"\"\"\n",
    "    for target in targets:\n",
    "        for source in sources:\n",
    "            r = target.distance(source)\n",
    "            target.phi += source.m/r"
   ]
  },
  {
   "cell_type": "code",
   "execution_count": 13,
   "metadata": {
    "collapsed": false
   },
   "outputs": [],
   "source": [
    "direct_sum(sources, targets)\n",
    "phi_direct = numpy.array([target.phi for target in targets])"
   ]
  },
  {
   "cell_type": "markdown",
   "metadata": {},
   "source": [
    "Then we use direct summation method to calculate the potentials.\n",
    "\n",
    "Compare the two results and calculate $L^2$ relative error norm."
   ]
  },
  {
   "cell_type": "code",
   "execution_count": 14,
   "metadata": {
    "collapsed": false
   },
   "outputs": [
    {
     "name": "stdout",
     "output_type": "stream",
     "text": [
      "L2 Norm error: 0.006111809703603498\n"
     ]
    }
   ],
   "source": [
    "l2_err(phi_direct, phi_multi)"
   ]
  },
  {
   "cell_type": "code",
   "execution_count": 15,
   "metadata": {
    "collapsed": false
   },
   "outputs": [
    {
     "data": {
      "image/png": "[encoded data removed]",
      "text/plain": [
       "<matplotlib.figure.Figure at 0x7fc7224acf60>"
      ]
     },
     "metadata": {},
     "output_type": "display_data"
    }
   ],
   "source": [
    "plot_err(phi_direct, phi_multi)"
   ]
  },
  {
   "cell_type": "code",
   "execution_count": 16,
   "metadata": {
    "collapsed": false
   },
   "outputs": [
    {
     "name": "stdout",
     "output_type": "stream",
     "text": [
      "100 loops, best of 3: 6.99 ms per loop\n"
     ]
    }
   ],
   "source": [
    "%timeit direct_sum(sources, targets)"
   ]
  },
  {
   "cell_type": "code",
   "execution_count": 17,
   "metadata": {
    "collapsed": false
   },
   "outputs": [
    {
     "name": "stdout",
     "output_type": "stream",
     "text": [
      "1000 loops, best of 3: 967 µs per loop\n"
     ]
    }
   ],
   "source": [
    "%%timeit\n",
    "P2M(sources, parent, children)\n",
    "M2M(parent, children)\n",
    "eval_potential(targets, parent.multipole, parent)"
   ]
  },
  {
   "cell_type": "markdown",
   "metadata": {},
   "source": [
    "The results show a good match between multi-level multipole expansion and direct summation. We first perform a P2M for each child cell to calculate the multipoles of child cell (expansion at the child's cell center). Then we use M2M kernel to calculate the multipole of parent cell (shift the expansion to the parent's cell center). Finally, we evaluate the potential by multipole expansion. Here we only have one parent cell and its eight child cells, however, when there are millions of particles, we need to build a more complex hierarchical tree to store the particles. Child cells may still have their child cells, and evaluation of the potentials may require a traverse of the tree. So in the next notebook, we will discuss how to 'construct' this tree of cells."
   ]
  },
  {
   "cell_type": "markdown",
   "metadata": {},
   "source": [
    "##### Reference"
   ]
  },
  {
   "cell_type": "markdown",
   "metadata": {},
   "source": [
    "1. R. Yokota, 12 Steps to a Fast Multipole Method on GPUs, Pan-American Advanced Studies Institute, Valparaiso, Chile, 3-14 January, 2011.\n",
    "2. Raykar, V. C., \"[A short primer on the fast multipole method: FMM tutorial](http://www.umiacs.umd.edu/labs/cvl/pirl/vikas/publications/FMM_tutorial.pdf),\", University of Maryland, College Park, Apr. 8, 2006."
   ]
  },
  {
   "cell_type": "code",
   "execution_count": 18,
   "metadata": {
    "code_folding": [
     1
    ],
    "collapsed": false
   },
   "outputs": [
    {
     "data": {
      "text/html": [
       "<link href='http://fonts.googleapis.com/css?family=Alegreya+Sans:100,300,400,500,700,800,900,100italic,300italic,400italic,500italic,700italic,800italic,900italic' rel='stylesheet' type='text/css'>\n",
       "<link href='http://fonts.googleapis.com/css?family=Arvo:400,700,400italic' rel='stylesheet' type='text/css'>\n",
       "<link href='http://fonts.googleapis.com/css?family=PT+Mono' rel='stylesheet' type='text/css'>\n",
       "<link href='http://fonts.googleapis.com/css?family=Shadows+Into+Light' rel='stylesheet' type='text/css'>\n",
       "<link href='http://fonts.googleapis.com/css?family=Nixie+One' rel='stylesheet' type='text/css'>\n",
       "<style>\n",
       "\n",
       "@font-face {\n",
       "    font-family: \"Computer Modern\";\n",
       "    src: url('http://mirrors.ctan.org/fonts/cm-unicode/fonts/otf/cmunss.otf');\n",
       "}\n",
       "\n",
       "#notebook_panel { /* main background */\n",
       "    background: rgb(245,245,245);\n",
       "}\n",
       "\n",
       "div.cell { /* set cell width */\n",
       "    width: 750px;\n",
       "}\n",
       "\n",
       "div #notebook { /* centre the content */\n",
       "    background: #fff; /* white background for content */\n",
       "    width: 1000px;\n",
       "    margin: auto;\n",
       "    padding-left: 0em;\n",
       "}\n",
       "\n",
       "#notebook li { /* More space between bullet points */\n",
       "margin-top:0.8em;\n",
       "}\n",
       "\n",
       "/* draw border around running cells */\n",
       "div.cell.border-box-sizing.code_cell.running { \n",
       "    border: 1px solid #111;\n",
       "}\n",
       "\n",
       "/* Put a solid color box around each cell and its output, visually linking them*/\n",
       "div.cell.code_cell {\n",
       "    background-color: rgb(256,256,256); \n",
       "    border-radius: 0px; \n",
       "    padding: 0.5em;\n",
       "    margin-left:1em;\n",
       "    margin-top: 1em;\n",
       "}\n",
       "\n",
       "div.text_cell_render{\n",
       "    font-family: 'Alegreya Sans' sans-serif;\n",
       "    line-height: 140%;\n",
       "    font-size: 110%;\n",
       "    font-weight: 400;\n",
       "    width:600px;\n",
       "    margin-left:auto;\n",
       "    margin-right:auto;\n",
       "}\n",
       "\n",
       "\n",
       "/* Formatting for header cells */\n",
       ".text_cell_render h1 {\n",
       "    font-family: 'Nixie One', serif;\n",
       "    font-style:regular;\n",
       "    font-weight: 400;    \n",
       "    font-size: 45pt;\n",
       "    line-height: 100%;\n",
       "    color: rgb(0,51,102);\n",
       "    margin-bottom: 0.5em;\n",
       "    margin-top: 0.5em;\n",
       "    display: block;\n",
       "}\t\n",
       ".text_cell_render h2 {\n",
       "    font-family: 'Nixie One', serif;\n",
       "    font-weight: 400;\n",
       "    font-size: 30pt;\n",
       "    line-height: 100%;\n",
       "    color: rgb(0,51,102);\n",
       "    margin-bottom: 0.1em;\n",
       "    margin-top: 0.3em;\n",
       "    display: block;\n",
       "}\t\n",
       "\n",
       ".text_cell_render h3 {\n",
       "    font-family: 'Nixie One', serif;\n",
       "    margin-top:16px;\n",
       "\tfont-size: 22pt;\n",
       "    font-weight: 600;\n",
       "    margin-bottom: 3px;\n",
       "    font-style: regular;\n",
       "    color: rgb(102,102,0);\n",
       "}\n",
       "\n",
       ".text_cell_render h4 {    /*Use this for captions*/\n",
       "    font-family: 'Nixie One', serif;\n",
       "    font-size: 14pt;\n",
       "    text-align: center;\n",
       "    margin-top: 0em;\n",
       "    margin-bottom: 2em;\n",
       "    font-style: regular;\n",
       "}\n",
       "\n",
       ".text_cell_render h5 {  /*Use this for small titles*/\n",
       "    font-family: 'Nixie One', sans-serif;\n",
       "    font-weight: 400;\n",
       "    font-size: 16pt;\n",
       "    color: rgb(163,0,0);\n",
       "    font-style: italic;\n",
       "    margin-bottom: .1em;\n",
       "    margin-top: 0.8em;\n",
       "    display: block;\n",
       "}\n",
       "\n",
       ".text_cell_render h6 { /*use this for copyright note*/\n",
       "    font-family: 'PT Mono', sans-serif;\n",
       "    font-weight: 300;\n",
       "    font-size: 9pt;\n",
       "    line-height: 100%;\n",
       "    color: grey;\n",
       "    margin-bottom: 1px;\n",
       "    margin-top: 1px;\n",
       "}\n",
       "\n",
       ".CodeMirror{\n",
       "        font-family: \"PT Mono\";\n",
       "        font-size: 90%;\n",
       "}\n",
       "\n",
       "</style>\n",
       "<script>\n",
       "    MathJax.Hub.Config({\n",
       "                        TeX: {\n",
       "                           extensions: [\"AMSmath.js\"],\n",
       "                           equationNumbers: { autoNumber: \"AMS\", useLabelIds: true}\n",
       "                           },\n",
       "                tex2jax: {\n",
       "                    inlineMath: [ ['$','$'], [\"\\\\(\",\"\\\\)\"] ],\n",
       "                    displayMath: [ ['$$','$$'], [\"\\\\[\",\"\\\\]\"] ]\n",
       "                },\n",
       "                displayAlign: 'center', // Change this to 'center' to center equations.\n",
       "                \"HTML-CSS\": {\n",
       "                    styles: {'.MathJax_Display': {\"margin\": 4}}\n",
       "                }\n",
       "        });\n",
       "</script>\n"
      ],
      "text/plain": [
       "<IPython.core.display.HTML object>"
      ]
     },
     "execution_count": 18,
     "metadata": {},
     "output_type": "execute_result"
    }
   ],
   "source": [
    "from IPython.core.display import HTML\n",
    "def css_styling():\n",
    "    styles = open('./style/fmmstyle.css', 'r').read()\n",
    "    return HTML(styles)\n",
    "css_styling()"
   ]
  }
 ],
 "metadata": {
  "kernelspec": {
   "display_name": "Python 3",
   "language": "python",
   "name": "python3"
  },
  "language_info": {
   "codemirror_mode": {
    "name": "ipython",
    "version": 3
   },
   "file_extension": ".py",
   "mimetype": "text/x-python",
   "name": "python",
   "nbconvert_exporter": "python",
   "pygments_lexer": "ipython3",
   "version": "3.4.3"
  }
 },
 "nbformat": 4,
 "nbformat_minor": 0
}
